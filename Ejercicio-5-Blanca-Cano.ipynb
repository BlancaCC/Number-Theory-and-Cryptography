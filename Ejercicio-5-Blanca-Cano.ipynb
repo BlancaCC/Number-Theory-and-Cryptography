{
 "cells": [
  {
   "cell_type": "markdown",
   "metadata": {},
   "source": [
    "# Ejercicio 5\n",
    "Alumna: Blanca Cano Camarero  \n",
    "Correo: blancacano@correo.ugr.es"
   ]
  },
  {
   "cell_type": "markdown",
   "metadata": {},
   "source": [
    "Dado un número $n$"
   ]
  },
  {
   "cell_type": "code",
   "execution_count": 19,
   "metadata": {},
   "outputs": [
    {
     "data": {
      "text/plain": [
       "7393 * 7559"
      ]
     },
     "execution_count": 19,
     "metadata": {},
     "output_type": "execute_result"
    }
   ],
   "source": [
    "n = 55883687\n",
    "factor(n)"
   ]
  },
  {
   "cell_type": "markdown",
   "metadata": {},
   "source": [
    "### Apartado primero \n",
    "\n",
    "Factoriza $n$ aplicando el método de la $\\rho$ de Polard. ¿Cuántas iteraciones necesitas?\n",
    "Sea $p1$ el mayor de sus factores primos y $p2$ el siguiente primo."
   ]
  },
  {
   "cell_type": "code",
   "execution_count": 20,
   "metadata": {},
   "outputs": [
    {
     "name": "stdout",
     "output_type": "stream",
     "text": [
      "Se tiene que n = multiplicar los elementos de [7559] y 7393\n",
      "\n",
      "============================================================\n",
      "Los factores de 55883686 son [7559, 7393]\n",
      "p=7559 es primo por el test Lucas-Lehmer con a = 13\n",
      "p=7393 es primo por el test Lucas-Lehmer con a = 5\n"
     ]
    }
   ],
   "source": [
    "# Código auxiliar de prácticas ateriores\n",
    "def Verbose_Rho_de_Polard(n:Integer, f) -> Integer:\n",
    "    '''Devuelve un factor de p\n",
    "    o n si es un fracaso\n",
    "    '''\n",
    "    mf = lambda x: f(x)% n\n",
    "    #print(f\"Cálculo de Rho de Polar para n={n}\")\n",
    "    x = 1\n",
    "    y = 1\n",
    "    d = 1\n",
    "    paso = 0\n",
    "    #print(f\"Paso {paso}   x={x}    y={y}\")\n",
    "    while d == 1:\n",
    "        paso += 1\n",
    "        x = mf(x)\n",
    "        y = mf(mf(y))\n",
    "        d = gcd(abs(x-y),n)\n",
    "        #print(f\"Paso {paso}    x={x}    y={y}    mcd={d}\")\n",
    "    return d\n",
    "f = lambda x : x^2 +1 \n",
    "\n",
    "## Versión de sacar todos los factores de manera manual \n",
    "def SacaFactores(numero_factores, n, f ):\n",
    "    factores = []\n",
    "    m = n\n",
    "    hay_factores = True \n",
    "    while numero_factores >= 0 and hay_factores:\n",
    "        numero_factores -= 1\n",
    "        d = Verbose_Rho_de_Polard(m,f)\n",
    "        if d != m:\n",
    "            factores.append(d)\n",
    "            m = m // d\n",
    "            print(f\"Se tiene que n = multiplicar los elementos de {factores} y {m}\\n\")\n",
    "        else:\n",
    "            factores.append(m)\n",
    "            print('='*60)\n",
    "            hay_factores = False\n",
    "    return factores\n",
    "\n",
    "factores = SacaFactores(2, n,f )\n",
    "print(f\"Los factores de {n-1} son {factores}\")\n",
    "\n",
    "def Test_Lucas_Lehmer(n, bases):\n",
    "    m = n-1\n",
    "    for a in bases:\n",
    "        # cumple condición 1\n",
    "        if mod(a^m, n) == 1:\n",
    "            condicion_dos = True\n",
    "            for i in range (2,m):\n",
    "                # si es divisor \n",
    "                if m % i == 0:\n",
    "                    if (int(a**(m/i))% n) == 1:\n",
    "                        condicion_dos =  False\n",
    "                        break\n",
    "            if condicion_dos == True:\n",
    "                return a\n",
    "    return 0\n",
    "\n",
    "for p in factores:\n",
    "    resultado = Test_Lucas_Lehmer(p,[2,3,5,7,11,13])\n",
    "    mensaje = (\n",
    "        f\"p={p} es primo por el test Lucas-Lehmer con a = {resultado}\",\n",
    "        \"No se ha encontrado un entero que satisfaga el test de Lucas-Lehmer para p = {p}\"\n",
    "    )[resultado == 0] \n",
    "    print(mensaje)"
   ]
  },
  {
   "cell_type": "markdown",
   "metadata": {},
   "source": [
    "A la vista de los resultado, tenemos que \n",
    "$p1 = 7559$ y $p2=7393$\n",
    "### Apartado segundo   \n",
    "\n",
    "Calcula las partes enteras de $\\sqrt{p1}$ y $\\sqrt{p2}$ con el algoritmo entero."
   ]
  },
  {
   "cell_type": "code",
   "execution_count": 39,
   "metadata": {},
   "outputs": [
    {
     "name": "stdout",
     "output_type": "stream",
     "text": [
      "i:1  a_i:3780  a^2 +n: 14295959 = 1890 * 7560 + 7559\n",
      "i:2  a_i:1890  a^2 +n: 3579659 = 946 * 3780 + 3779\n",
      "i:3  a_i:946  a^2 +n: 902475 = 476 * 1892 + 1883\n",
      "i:4  a_i:476  a^2 +n: 234135 = 245 * 952 + 895\n",
      "i:5  a_i:245  a^2 +n: 67584 = 137 * 490 + 454\n",
      "i:6  a_i:137  a^2 +n: 26328 = 96 * 274 + 24\n",
      "i:7  a_i:96  a^2 +n: 16775 = 87 * 192 + 71\n",
      "i:8  a_i:87  a^2 +n: 15128 = 86 * 174 + 164\n",
      "i:9  a_i:86  a^2 +n: 14955 = 86 * 172 + 163\n",
      "\n",
      " La parte entera de  sqr(7559) es 86 \n",
      " ================================================== \n",
      "\n",
      "86.94250974063263\n",
      "i:1  a_i:3697  a^2 +n: 13675202 = 1849 * 7394 + 3696\n",
      "i:2  a_i:1849  a^2 +n: 3426194 = 926 * 3698 + 1846\n",
      "i:3  a_i:926  a^2 +n: 864869 = 466 * 1852 + 1837\n",
      "i:4  a_i:466  a^2 +n: 224549 = 240 * 932 + 869\n",
      "i:5  a_i:240  a^2 +n: 64993 = 135 * 480 + 193\n",
      "i:6  a_i:135  a^2 +n: 25618 = 94 * 270 + 238\n",
      "i:7  a_i:94  a^2 +n: 16229 = 86 * 188 + 61\n",
      "i:8  a_i:86  a^2 +n: 14789 = 85 * 172 + 169\n",
      "i:9  a_i:85  a^2 +n: 14618 = 85 * 170 + 168\n",
      "\n",
      " La parte entera de  sqr(7393) es 85 \n",
      " ================================================== \n",
      "\n",
      "85.98255637046388\n"
     ]
    }
   ],
   "source": [
    "def VerboseParteEnteraRaizCuadrada(n):\n",
    "    # Incicializamos a \n",
    "    a = n\n",
    "    if is_even(n):\n",
    "        a //= 2\n",
    "    else:\n",
    "        a = (a+1)//2\n",
    "    menor = True \n",
    "    i = 1\n",
    "    while menor:\n",
    "        numerador = a**2 + n\n",
    "        cociente =  numerador//(2*a)\n",
    "        resto = numerador % (2*a)\n",
    "        print(f\"i:{i}  a_i:{a}  a^2 +n: {numerador} = {cociente} * {2*a} + {resto}\")\n",
    "        i += 1\n",
    "        if cociente < a:\n",
    "            a = cociente\n",
    "        else:\n",
    "            menor = False \n",
    "    print( \"\\n\",f\"La parte entera de  sqr({n}) es {a}\", '\\n','='*50,'\\n')   \n",
    "    return a \n",
    "\n",
    "for p in factores:\n",
    "    VerboseParteEnteraRaizCuadrada(p)\n",
    "\n",
    "\n",
    "def ParteEnteraRaizCuadrada(n):\n",
    "    # Incicializamos a \n",
    "    a = n\n",
    "    if is_even(n):\n",
    "        a //= 2\n",
    "    else:\n",
    "        a = (a+1)//2\n",
    "    menor = True \n",
    "    i = 1\n",
    "    while menor:\n",
    "        numerador = a**2 + n\n",
    "        cociente =  numerador//(2*a)\n",
    "        resto = numerador % (2*a)\n",
    "        i += 1\n",
    "        if cociente < a:\n",
    "            a = cociente\n",
    "        else:\n",
    "            menor = False \n",
    "    return a \n",
    "    "
   ]
  },
  {
   "cell_type": "markdown",
   "metadata": {},
   "source": [
    "### Apartado tercero \n",
    "Calcula la FCS de $\\sqrt{p_1}$ y $\\sqrt{p_2}$ con el algoritmo entero."
   ]
  },
  {
   "cell_type": "code",
   "execution_count": 56,
   "metadata": {},
   "outputs": [
    {
     "name": "stdout",
     "output_type": "stream",
     "text": [
      "Los 41 primeros componentes de la FCS de 7559 son [86, 1, 16, 2, 1, 1, 6, 2, 1, 3, 1, 8, 2, 1, 2, 1, 3, 1, 33, 1, 85, 1, 33, 1, 3, 1, 2, 1, 2, 8, 1, 3, 1, 2, 6, 1, 1, 2, 16, 1, 172]\n",
      "\n",
      "Los 118 primeros componentes de la FCS de 7393 son [85, 1, 56, 3, 18, 1, 3, 2, 5, 1, 12, 2, 1, 1, 1, 1, 3, 1, 3, 1, 6, 2, 1, 2, 21, 8, 7, 24, 2, 2, 1, 7, 2, 9, 1, 1, 1, 4, 1, 2, 1, 1, 4, 1, 1, 1, 2, 1, 14, 1, 9, 1, 4, 3, 3, 3, 1, 2, 3, 3, 2, 1, 3, 3, 3, 4, 1, 9, 1, 14, 1, 2, 1, 1, 1, 4, 1, 1, 2, 1, 4, 1, 1, 1, 9, 2, 7, 1, 2, 2, 24, 7, 8, 21, 2, 1, 2, 6, 1, 3, 1, 3, 1, 1, 1, 1, 2, 12, 1, 5, 2, 3, 1, 18, 3, 56, 1, 170]\n",
      "\n"
     ]
    }
   ],
   "source": [
    "# Algoritmo \n",
    "\n",
    "def FraccionContinuaRaiz(p):\n",
    "    parte_entera_raiz =  ParteEnteraRaizCuadrada(p)\n",
    "    q_a = parte_entera_raiz\n",
    "    FCS = [q_a]\n",
    "    P_a = 0\n",
    "    Q_a = 1\n",
    "     \n",
    "    for i in range(2*p-1):\n",
    "        P_s = q_a*Q_a -P_a\n",
    "        Q_s = (p - P_s*P_s)//Q_a\n",
    "        q_s = (P_s + parte_entera_raiz)//Q_s\n",
    "        FCS.append(q_s)\n",
    "        P_a = P_s\n",
    "        q_a = q_s\n",
    "        Q_a = Q_s\n",
    "    return FCS\n",
    "\n",
    "def calcularPeriodo(ristra):\n",
    "    ''' con esto calcuaremos el periodo de cada FCS\n",
    "    Se fundamenta en que sabemos que son simétricos y que \n",
    "    acaba en el doble que el primero.\n",
    "    '''\n",
    "    primero = ristra[0]\n",
    "    ultimo = 2*primero\n",
    "    encontrado = False\n",
    "    start = 1\n",
    "    while not encontrado and start < len(ristra):\n",
    "        start = ristra.index(ultimo,start)\n",
    "        # Condición de simetría\n",
    "        if ristra[1:start] == (ristra[1:start])[::-1]:\n",
    "            encontrado = True \n",
    "    return start\n",
    "\n",
    "numeros_que_mostrar = 200\n",
    "for p in factores:\n",
    "    FCS = FraccionContinuaRaiz(p)\n",
    "    periodo = calcularPeriodo(FCS)\n",
    "    print(f\"Los {periodo+1} primeros componentes de la FCS de {p} son {FCS[:periodo+1]}\\n\")\n"
   ]
  },
  {
   "cell_type": "code",
   "execution_count": null,
   "metadata": {},
   "outputs": [],
   "source": []
  }
 ],
 "metadata": {
  "interpreter": {
   "hash": "adb5cd174cd885aafe13f9c79d1ba14d4a172d301e49486c29efffe4dc4c2562"
  },
  "kernelspec": {
   "display_name": "SageMath 9.5",
   "language": "sage",
   "name": "SageMath-9.5"
  },
  "language_info": {
   "codemirror_mode": {
    "name": "ipython",
    "version": 3
   },
   "file_extension": ".py",
   "mimetype": "text/x-python",
   "name": "python",
   "nbconvert_exporter": "python",
   "pygments_lexer": "ipython3",
   "version": "3.9.9"
  },
  "orig_nbformat": 4
 },
 "nbformat": 4,
 "nbformat_minor": 2
}
