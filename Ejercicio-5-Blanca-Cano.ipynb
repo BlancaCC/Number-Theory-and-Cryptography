{
 "cells": [
  {
   "cell_type": "markdown",
   "metadata": {},
   "source": [
    "# Ejercicio 5\n",
    "Alumna: Blanca Cano Camarero  \n",
    "Correo: blancacano@correo.ugr.es"
   ]
  },
  {
   "cell_type": "markdown",
   "metadata": {},
   "source": [
    "Dado un número $n$"
   ]
  },
  {
   "cell_type": "code",
   "execution_count": 1,
   "metadata": {},
   "outputs": [
    {
     "data": {
      "text/plain": [
       "7393 * 7559"
      ]
     },
     "execution_count": 1,
     "metadata": {},
     "output_type": "execute_result"
    }
   ],
   "source": [
    "n = 55883687\n",
    "factor(n)"
   ]
  },
  {
   "cell_type": "markdown",
   "metadata": {},
   "source": [
    "### Apartado primero \n",
    "\n",
    "Factoriza $n$ aplicando el método de la $\\rho$ de Polard. ¿Cuántas iteraciones necesitas?\n",
    "Sea $p1$ el mayor de sus factores primos y $p2$ el siguiente primo."
   ]
  },
  {
   "cell_type": "code",
   "execution_count": 2,
   "metadata": {},
   "outputs": [
    {
     "name": "stdout",
     "output_type": "stream",
     "text": [
      "Se tiene que n = multiplicar los elementos de [7559] y 7393\n",
      "\n",
      "============================================================\n",
      "Los factores de 55883686 son [7559, 7393]\n",
      "p=7559 es primo por el test Lucas-Lehmer con a = 13\n",
      "p=7393 es primo por el test Lucas-Lehmer con a = 5\n"
     ]
    }
   ],
   "source": [
    "# Código auxiliar de prácticas ateriores\n",
    "def Verbose_Rho_de_Polard(n:Integer, f) -> Integer:\n",
    "    '''Devuelve un factor de p\n",
    "    o n si es un fracaso\n",
    "    '''\n",
    "    mf = lambda x: f(x)% n\n",
    "    #print(f\"Cálculo de Rho de Polar para n={n}\")\n",
    "    x = 1\n",
    "    y = 1\n",
    "    d = 1\n",
    "    paso = 0\n",
    "    #print(f\"Paso {paso}   x={x}    y={y}\")\n",
    "    while d == 1:\n",
    "        paso += 1\n",
    "        x = mf(x)\n",
    "        y = mf(mf(y))\n",
    "        d = gcd(abs(x-y),n)\n",
    "        #print(f\"Paso {paso}    x={x}    y={y}    mcd={d}\")\n",
    "    return d\n",
    "f = lambda x : x^2 +1 \n",
    "\n",
    "## Versión de sacar todos los factores de manera manual \n",
    "def SacaFactores(numero_factores, n, f ):\n",
    "    factores = []\n",
    "    m = n\n",
    "    hay_factores = True \n",
    "    while numero_factores >= 0 and hay_factores:\n",
    "        numero_factores -= 1\n",
    "        d = Verbose_Rho_de_Polard(m,f)\n",
    "        if d != m:\n",
    "            factores.append(d)\n",
    "            m = m // d\n",
    "            print(f\"Se tiene que n = multiplicar los elementos de {factores} y {m}\\n\")\n",
    "        else:\n",
    "            factores.append(m)\n",
    "            print('='*60)\n",
    "            hay_factores = False\n",
    "    return factores\n",
    "\n",
    "factores = SacaFactores(2, n,f )\n",
    "print(f\"Los factores de {n-1} son {factores}\")\n",
    "\n",
    "def Test_Lucas_Lehmer(n, bases):\n",
    "    m = n-1\n",
    "    for a in bases:\n",
    "        # cumple condición 1\n",
    "        if mod(a^m, n) == 1:\n",
    "            condicion_dos = True\n",
    "            for i in range (2,m):\n",
    "                # si es divisor \n",
    "                if m % i == 0:\n",
    "                    if (int(a**(m/i))% n) == 1:\n",
    "                        condicion_dos =  False\n",
    "                        break\n",
    "            if condicion_dos == True:\n",
    "                return a\n",
    "    return 0\n",
    "\n",
    "for p in factores:\n",
    "    resultado = Test_Lucas_Lehmer(p,[2,3,5,7,11,13])\n",
    "    mensaje = (\n",
    "        f\"p={p} es primo por el test Lucas-Lehmer con a = {resultado}\",\n",
    "        \"No se ha encontrado un entero que satisfaga el test de Lucas-Lehmer para p = {p}\"\n",
    "    )[resultado == 0] \n",
    "    print(mensaje)"
   ]
  },
  {
   "cell_type": "markdown",
   "metadata": {},
   "source": [
    "A la vista de los resultado, tenemos que \n",
    "$p1 = 7559$ y $p2=7393$\n",
    "### Apartado segundo   \n",
    "\n",
    "Calcula las partes enteras de $\\sqrt{p1}$ y $\\sqrt{p2}$ con el algoritmo entero."
   ]
  },
  {
   "cell_type": "code",
   "execution_count": 10,
   "metadata": {},
   "outputs": [
    {
     "name": "stdout",
     "output_type": "stream",
     "text": [
      "i:1  a_i:8  a^2 +n: 79 = 4 * 16 + 15\n",
      "i:2  a_i:4  a^2 +n: 31 = 3 * 8 + 7\n",
      "i:3  a_i:3  a^2 +n: 24 = 4 * 6 + 0\n",
      "\n",
      " La parte entera de  sqr(15) es3 \n",
      " ================================================== \n",
      "\n",
      "i:1  a_i:51  a^2 +n: 2702 = 26 * 102 + 50\n",
      "i:2  a_i:26  a^2 +n: 777 = 14 * 52 + 49\n",
      "i:3  a_i:14  a^2 +n: 297 = 10 * 28 + 17\n",
      "i:4  a_i:10  a^2 +n: 201 = 10 * 20 + 1\n",
      "\n",
      " La parte entera de  sqr(101) es10 \n",
      " ================================================== \n",
      "\n"
     ]
    }
   ],
   "source": [
    "def VerboseRaizCuadradoEntero(n):\n",
    "    # Incicializamos a \n",
    "    a = n\n",
    "    if is_even(n):\n",
    "        a //= 2\n",
    "    else:\n",
    "        a = (a+1)//2\n",
    "\n",
    "    \n",
    "    menor = True \n",
    "    i = 1\n",
    "    while menor:\n",
    "        numerador = a**2 + n\n",
    "        cociente =  numerador//(2*a)\n",
    "        resto = numerador % (2*a)\n",
    "        print(f\"i:{i}  a_i:{a}  a^2 +n: {numerador} = {cociente} * {2*a} + {resto}\")\n",
    "        i += 1\n",
    "        if cociente < a:\n",
    "            a = cociente\n",
    "        else:\n",
    "            menor = False \n",
    "    print( \"\\n\",f\"La parte entera de  sqr({n}) es{a}\", '\\n','='*50,'\\n')   \n",
    "    return a \n",
    "for p in [15,101]:#factores:\n",
    "    VerboseRaizCuadradoEntero(p)\n",
    "\n",
    "    "
   ]
  }
 ],
 "metadata": {
  "interpreter": {
   "hash": "adb5cd174cd885aafe13f9c79d1ba14d4a172d301e49486c29efffe4dc4c2562"
  },
  "kernelspec": {
   "display_name": "SageMath 9.5",
   "language": "sage",
   "name": "SageMath-9.5"
  },
  "language_info": {
   "codemirror_mode": {
    "name": "ipython",
    "version": 3
   },
   "file_extension": ".py",
   "mimetype": "text/x-python",
   "name": "python",
   "nbconvert_exporter": "python",
   "pygments_lexer": "ipython3",
   "version": "3.9.9"
  },
  "orig_nbformat": 4
 },
 "nbformat": 4,
 "nbformat_minor": 2
}
