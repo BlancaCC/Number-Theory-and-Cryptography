{
 "cells": [
  {
   "cell_type": "markdown",
   "id": "09f2e3cb",
   "metadata": {},
   "source": [
    "# Ejercicios de evaluación de criptosistemas basados en curvas elípticas \n",
    "Autora: Blanca Cano Camarero \n",
    "\n",
    "## Ejercicio \n",
    "Sea $F_{32} = F_2[\\xi]_{\\xi^5 + \\xi^2 +1}$. \n",
    "Con la curva elíptica $E(A,B)$ y punto $Q$: \n"
   ]
  },
  {
   "cell_type": "code",
   "execution_count": 36,
   "id": "127ead06",
   "metadata": {},
   "outputs": [
    {
     "data": {
      "text/plain": [
       "16"
      ]
     },
     "execution_count": 36,
     "metadata": {},
     "output_type": "execute_result"
    }
   ],
   "source": [
    "755577392 % 32"
   ]
  },
  {
   "cell_type": "markdown",
   "id": "3c9aebf3",
   "metadata": {},
   "source": [
    "$$E(A,B) = E(\\xi^4 + \\xi^2 + \\xi + 1,  \\xi^4 + \\xi^3 + \\xi + 1)$$\n",
    "\n",
    "$$Q = (1, \\xi^4 + \\xi^3 + \\xi^2 + \\xi + 1)$$"
   ]
  },
  {
   "cell_type": "code",
   "execution_count": 37,
   "id": "6e0ddc1e",
   "metadata": {},
   "outputs": [
    {
     "data": {
      "text/plain": [
       "Elliptic Curve defined by y^2 + x*y = x^3 + (xi^4+xi^2+xi+1)*x^2 + (xi^4+xi^3+xi+1) over Finite Field in xi of size 2^5"
      ]
     },
     "metadata": {},
     "output_type": "display_data"
    },
    {
     "data": {
      "text/plain": [
       "(1 : xi^4 + xi^3 + xi^2 + xi + 1 : 1)"
      ]
     },
     "metadata": {},
     "output_type": "display_data"
    }
   ],
   "source": [
    "F.<xi> = GF(2^5, modulus = GF(2)[x](x^5 + x^2 + 1))\n",
    "E = EllipticCurve(F, [1,(xi^4 + xi^2 + xi + 1), 0, 0, (xi^4 + xi^3 + xi + 1)])\n",
    "Q = E.point((1, xi^4 + xi^3 + xi^2 + xi + 1))\n",
    "display(E)\n",
    "display(Q)"
   ]
  },
  {
   "cell_type": "markdown",
   "id": "8e08691e",
   "metadata": {},
   "source": [
    "## Apartado 1\n",
    "Calcula mediante el algoritmo de Shank o mediante el algoritmo 9, $\\log_Q \\mathcal O$."
   ]
  },
  {
   "cell_type": "code",
   "execution_count": 38,
   "id": "efe18eff",
   "metadata": {},
   "outputs": [
    {
     "data": {
      "text/plain": [
       "(0 : 1 : 0)"
      ]
     },
     "execution_count": 38,
     "metadata": {},
     "output_type": "execute_result"
    }
   ],
   "source": [
    "o = E.point(0)\n",
    "o"
   ]
  },
  {
   "cell_type": "markdown",
   "id": "205ab489",
   "metadata": {},
   "source": [
    "En virtud del teorema de Hasse calculamos una cota del orden: \n",
    "\n",
    "$$|E| \\leq q + 1 + \\lfloor 2 \\sqrt{q} \\rfloor$$"
   ]
  },
  {
   "cell_type": "code",
   "execution_count": 39,
   "id": "db5b01c0",
   "metadata": {},
   "outputs": [
    {
     "name": "stdout",
     "output_type": "stream",
     "text": [
      "La cota es 44\n"
     ]
    }
   ],
   "source": [
    "q = 32\n",
    "cota_orden = q + 1 + floor(2 * sqrt(q))\n",
    "print(f\"La cota es {cota_orden}\")"
   ]
  },
  {
   "cell_type": "markdown",
   "id": "df8537c9",
   "metadata": {},
   "source": [
    "Tomamos: "
   ]
  },
  {
   "cell_type": "code",
   "execution_count": 40,
   "id": "b75f1962",
   "metadata": {},
   "outputs": [
    {
     "data": {
      "text/plain": [
       "7"
      ]
     },
     "execution_count": 40,
     "metadata": {},
     "output_type": "execute_result"
    }
   ],
   "source": [
    "f = ceil(sqrt(\n",
    "    q + 1 + floor(2 * sqrt(q))\n",
    "))\n",
    "f"
   ]
  },
  {
   "cell_type": "markdown",
   "id": "44c04bd1",
   "metadata": {},
   "source": [
    "Y construimos la tabla: "
   ]
  },
  {
   "cell_type": "code",
   "execution_count": 41,
   "id": "94b55886",
   "metadata": {},
   "outputs": [
    {
     "data": {
      "text/plain": [
       "[[0, (0 : 1 : 0)],\n",
       " [1, (1 : xi^4 + xi^3 + xi^2 + xi + 1 : 1)],\n",
       " [2, (xi^4 + xi^3 + xi : xi^4 + xi^3 + xi^2 + xi + 1 : 1)],\n",
       " [3, (xi^3 + xi^2 : xi^4 + xi + 1 : 1)],\n",
       " [4, (xi^3 + xi : xi^4 + xi^3 : 1)],\n",
       " [5, (xi^4 + 1 : xi^3 : 1)],\n",
       " [6, (xi^3 + xi^2 + xi : xi^3 + xi^2 : 1)]]"
      ]
     },
     "execution_count": 41,
     "metadata": {},
     "output_type": "execute_result"
    }
   ],
   "source": [
    "tabla = [[i, i*Q] for i in range(0, f)]\n",
    "tabla"
   ]
  },
  {
   "cell_type": "markdown",
   "id": "1576bd49",
   "metadata": {},
   "source": [
    "Calculamos ahora\n",
    "\n",
    "$$Q^{-f} = -f Q$$"
   ]
  },
  {
   "cell_type": "code",
   "execution_count": 42,
   "id": "4c8ddd57",
   "metadata": {},
   "outputs": [
    {
     "data": {
      "text/plain": [
       "(xi^2 + xi + 1 : xi + 1 : 1)"
      ]
     },
     "execution_count": 42,
     "metadata": {},
     "output_type": "execute_result"
    }
   ],
   "source": [
    "Q_elevado_menos_f = -f*Q\n",
    "Q_elevado_menos_f"
   ]
  },
  {
   "cell_type": "markdown",
   "id": "c5ba4243",
   "metadata": {},
   "source": [
    "Vamos a construir funciones auxiliares: \n",
    "1. Un elemento pertenece a la tabla\n",
    "2. Índice j-esimo de la tabla"
   ]
  },
  {
   "cell_type": "code",
   "execution_count": 43,
   "id": "317c7c28",
   "metadata": {},
   "outputs": [
    {
     "name": "stdout",
     "output_type": "stream",
     "text": [
      "h_1 = (xi^2 + xi + 1 : xi + 1 : 1)\n",
      "h_2 = (xi^3 + xi^2 : xi^4 + xi + 1 : 1)\n",
      "Sí que está en la tabla (i = 2, j = 3)\n",
      "El logaritmo es 17\n"
     ]
    }
   ],
   "source": [
    "def EstaEnLaTabla(h, tabla):\n",
    "    return len([x for x in tabla if x[1] == h]) > 0\n",
    "\n",
    "def SacaIndice(h, tabla):\n",
    "    incidencias = [x for x in tabla if x[1] == h] \n",
    "    return incidencias[0][0]\n",
    "\n",
    "# Cálculo del logaritmo \n",
    "\n",
    "h = o\n",
    "indice_i = 0 \n",
    "indice_j = 0\n",
    "\n",
    "for i in range(1, len(tabla)):\n",
    "    h = h + (Q_elevado_menos_f)\n",
    "    \n",
    "    print(\"h_\"+ str(i) + \" = \" + str(h))\n",
    "    \n",
    "    if EstaEnLaTabla(h, tabla):\n",
    "        indice_i = i\n",
    "        indice_j = SacaIndice(h, tabla)\n",
    "        print(\"Sí que está en la tabla (i = \" + str(indice_i) + \", j = \" + str(indice_j) + \")\")\n",
    "        break\n",
    "\n",
    "# Por lo tanto el índice es \n",
    "\n",
    "logaritmo = indice_j + indice_i * f\n",
    "print(f\"El logaritmo es {logaritmo}\")"
   ]
  },
  {
   "cell_type": "code",
   "execution_count": 44,
   "id": "a504c9de",
   "metadata": {},
   "outputs": [
    {
     "data": {
      "text/plain": [
       "(0 : 1 : 0)"
      ]
     },
     "execution_count": 44,
     "metadata": {},
     "output_type": "execute_result"
    }
   ],
   "source": [
    "# Comprobación de la correción \n",
    "logaritmo * Q"
   ]
  },
  {
   "cell_type": "markdown",
   "id": "5be29a18",
   "metadata": {},
   "source": [
    "## Apartado 2\n",
    "\n",
    "Generar clave par de claves pública y privadas para el algoritmo de ECDH"
   ]
  },
  {
   "cell_type": "markdown",
   "id": "a1c5c7e4",
   "metadata": {},
   "source": [
    "### Solución \n",
    "\n",
    "Sea $E$ nuestra curva, de forma que $|E| = hn$, con $n$ primo,  $h$ pequeño y $\\|Q\\| = n$: "
   ]
  },
  {
   "cell_type": "code",
   "execution_count": 50,
   "id": "58d1b464",
   "metadata": {},
   "outputs": [
    {
     "name": "stdout",
     "output_type": "stream",
     "text": [
      "Orden E= 34\n",
      "Orden de Q=17\n"
     ]
    }
   ],
   "source": [
    "# Vemos parámetros \n",
    "print(f\"Orden E= {E.order()}\")\n",
    "print(f\"Orden de Q={Q.order()}\")\n",
    "\n",
    "# Tomamos entonces \n",
    "n = 17\n",
    "h = 2"
   ]
  },
  {
   "cell_type": "markdown",
   "id": "9b97e6da",
   "metadata": {},
   "source": [
    "Alice toma número aleatorio entre \n",
    "$$2 \\leq a \\leq n-1$$ \n",
    "y hace público: \n",
    "$$(E, Q, aQ)$$"
   ]
  },
  {
   "cell_type": "code",
   "execution_count": 53,
   "id": "76844c12",
   "metadata": {},
   "outputs": [
    {
     "name": "stdout",
     "output_type": "stream",
     "text": [
      "a = 5\n"
     ]
    }
   ],
   "source": [
    "a = ZZ.random_element(2,17)\n",
    "\n",
    "print(f\"a = {a}\")"
   ]
  },
  {
   "cell_type": "markdown",
   "id": "21aebf64",
   "metadata": {},
   "source": [
    "Alice envia a Bob $P_A=aQ$"
   ]
  },
  {
   "cell_type": "code",
   "execution_count": 56,
   "id": "1fea04f6",
   "metadata": {},
   "outputs": [
    {
     "data": {
      "text/plain": [
       "(xi^4 + 1 : xi^3 : 1)"
      ]
     },
     "execution_count": 56,
     "metadata": {},
     "output_type": "execute_result"
    }
   ],
   "source": [
    "P_A = a*Q\n",
    "P_A"
   ]
  },
  {
   "cell_type": "markdown",
   "id": "f3f789db",
   "metadata": {},
   "source": [
    "Bob por su parte hace lo mismo: \n",
    "generara $P_B = bQ$ y se la envía a Alice "
   ]
  },
  {
   "cell_type": "code",
   "execution_count": 58,
   "id": "4182047a",
   "metadata": {},
   "outputs": [
    {
     "name": "stdout",
     "output_type": "stream",
     "text": [
      "b = 7\n",
      "P_B = (xi^2 + xi + 1 : xi^2 : 1)\n"
     ]
    }
   ],
   "source": [
    "b = ZZ.random_element(2, n)\n",
    "print(f\"b = {b}\")\n",
    "P_B = b * Q\n",
    "print(f\"P_B = {P_B}\")"
   ]
  },
  {
   "cell_type": "markdown",
   "id": "bd369725",
   "metadata": {},
   "source": [
    "Veamos que las respectivas claves compartidas son \n",
    "La de Alice a(P_B) y la Bob b(P_A):"
   ]
  },
  {
   "cell_type": "code",
   "execution_count": 59,
   "id": "8e2cbc6d",
   "metadata": {},
   "outputs": [
    {
     "name": "stdout",
     "output_type": "stream",
     "text": [
      "Clave de Alice:\n"
     ]
    },
    {
     "data": {
      "text/plain": [
       "(1 : xi^4 + xi^3 + xi^2 + xi + 1 : 1)"
      ]
     },
     "metadata": {},
     "output_type": "display_data"
    },
    {
     "name": "stdout",
     "output_type": "stream",
     "text": [
      "\n",
      "Clave de Bob:\n"
     ]
    },
    {
     "data": {
      "text/plain": [
       "(1 : xi^4 + xi^3 + xi^2 + xi + 1 : 1)"
      ]
     },
     "metadata": {},
     "output_type": "display_data"
    }
   ],
   "source": [
    "k_alice = a * P_B\n",
    "k_bob = b * P_A\n",
    "print(\"Clave de Alice:\")\n",
    "display(k_alice)\n",
    "print(\"\\nClave de Bob:\")\n",
    "display(k_bob)"
   ]
  },
  {
   "cell_type": "markdown",
   "id": "29077abd",
   "metadata": {},
   "source": [
    "Notemos que ambas satisfacen que: "
   ]
  },
  {
   "cell_type": "code",
   "execution_count": 61,
   "id": "89ba0489",
   "metadata": {},
   "outputs": [
    {
     "data": {
      "text/plain": [
       "True"
      ]
     },
     "execution_count": 61,
     "metadata": {},
     "output_type": "execute_result"
    }
   ],
   "source": [
    "a * (P_B) == b * (P_A)"
   ]
  },
  {
   "cell_type": "markdown",
   "id": "9feedd92",
   "metadata": {},
   "source": [
    "### Apartado 3\n",
    "\n",
    "Cifra el mensaje \n",
    "\n",
    "$$(\\xi^3 + \\xi^2 + 1, \\xi^4 + \\xi^2) \\in F^{2}_{32}$$\n",
    "mediante el criptosistema de Menezes-Vanston. \n",
    "\n"
   ]
  },
  {
   "cell_type": "markdown",
   "id": "b79989c5",
   "metadata": {},
   "source": [
    "### Solución \n",
    "\n",
    "Como en el protocolo la generación de claves se mantiene idéntica mantendremos las del apartado anterior."
   ]
  },
  {
   "cell_type": "code",
   "execution_count": 66,
   "id": "afaa4eec",
   "metadata": {},
   "outputs": [],
   "source": [
    "# Mensaje \n",
    "\n",
    "ms = [xi^3 + xi^2 + 1, xi^4 + xi^2]\n"
   ]
  },
  {
   "cell_type": "markdown",
   "id": "446d0a0c",
   "metadata": {},
   "source": [
    "Supongamos que es Bob el que quiere enviar el mensaje, hacemos la partición: \n",
    "$$(x_0, y_0) = b(aQ)$$"
   ]
  },
  {
   "cell_type": "code",
   "execution_count": 63,
   "id": "c63fcffe",
   "metadata": {},
   "outputs": [
    {
     "data": {
      "text/plain": [
       "(1, xi^4 + xi^3 + xi^2 + xi + 1)"
      ]
     },
     "execution_count": 63,
     "metadata": {},
     "output_type": "execute_result"
    }
   ],
   "source": [
    "x_0 = (b*(P_A))[0]\n",
    "y_0 = (b*(P_A))[1]\n",
    "\n",
    "x_0, y_0"
   ]
  },
  {
   "cell_type": "markdown",
   "id": "03bf8455",
   "metadata": {},
   "source": [
    "El cifrado del mensaje particionado viene dado por: \n",
    "$$E(M)= E(m_1, m_2) = bQ, M+b(P_A) = (b Q, x_0m_1, y_0m_2)$$"
   ]
  },
  {
   "cell_type": "code",
   "execution_count": 68,
   "id": "1ed2264f",
   "metadata": {},
   "outputs": [
    {
     "name": "stdout",
     "output_type": "stream",
     "text": [
      "El criptograma es: \n"
     ]
    },
    {
     "data": {
      "text/plain": [
       "[(xi^2 + xi + 1 : xi^2 : 1), xi^3 + xi^2 + 1, xi^4 + xi^2 + 1]"
      ]
     },
     "metadata": {},
     "output_type": "display_data"
    }
   ],
   "source": [
    "x_0m_1 = x_0 * ms[0]\n",
    "y_0m_2 = y_0 * ms[1]\n",
    "\n",
    "criptograma = [b*Q, x_0m_1, y_0m_2]\n",
    "print(\"El criptograma es: \")\n",
    "display(criptograma)"
   ]
  },
  {
   "cell_type": "markdown",
   "id": "48517560",
   "metadata": {},
   "source": [
    "### Apartado 4 \n",
    "\n",
    "Descifra el mensaje anterior\n",
    "\n",
    "### Solución \n",
    "\n",
    "Supongamos que es Alice la que quiere descifrar el mensaje, pare ello calcula primero:\n",
    "$$a(C_1) = a(P_B) = (x_0, y_0)$$"
   ]
  },
  {
   "cell_type": "code",
   "execution_count": 69,
   "id": "96df1937",
   "metadata": {},
   "outputs": [
    {
     "data": {
      "text/plain": [
       "(1, xi^4 + xi^3 + xi^2 + xi + 1)"
      ]
     },
     "execution_count": 69,
     "metadata": {},
     "output_type": "execute_result"
    }
   ],
   "source": [
    "C_1 = criptograma[0]\n",
    "aC_1 = a * C_1\n",
    "\n",
    "x_0 = aC_1[0]\n",
    "y_0 = aC_1[1]\n",
    "\n",
    "x_0, y_0"
   ]
  },
  {
   "cell_type": "markdown",
   "id": "0ec0cd77",
   "metadata": {},
   "source": [
    "Para desencriptarlo debe hacer: \n",
    "$$D(C_1, c_2, c_3) = (x^{-1}c_2, y_0^{-1}c_3)$$"
   ]
  },
  {
   "cell_type": "code",
   "execution_count": 75,
   "id": "1d782c50",
   "metadata": {},
   "outputs": [
    {
     "name": "stdout",
     "output_type": "stream",
     "text": [
      "El mensaje descifrado es:\n",
      " [xi^3 + xi^2 + 1, xi^4 + xi^2]\n"
     ]
    },
    {
     "data": {
      "text/plain": [
       "True"
      ]
     },
     "execution_count": 75,
     "metadata": {},
     "output_type": "execute_result"
    }
   ],
   "source": [
    "descifrado = [\n",
    "    x_0^-1 * criptograma[1], \n",
    "    y_0^-1 * criptograma[2]\n",
    "]\n",
    "print(f\"El mensaje descifrado es:\\n {descifrado}\")\n",
    "descifrado == ms"
   ]
  }
 ],
 "metadata": {
  "kernelspec": {
   "display_name": "SageMath 9.5",
   "language": "sage",
   "name": "sagemath-9.5"
  },
  "language_info": {
   "codemirror_mode": {
    "name": "ipython",
    "version": 3
   },
   "file_extension": ".py",
   "mimetype": "text/x-python",
   "name": "python",
   "nbconvert_exporter": "python",
   "pygments_lexer": "ipython3",
   "version": "3.9.9"
  },
  "vscode": {
   "interpreter": {
    "hash": "10ee41b0a2b4dea8aca2e0ba0733240772c8bdfa2bc24a889a116731a918817c"
   }
  }
 },
 "nbformat": 4,
 "nbformat_minor": 5
}
