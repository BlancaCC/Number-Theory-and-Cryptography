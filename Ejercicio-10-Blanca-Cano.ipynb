{
 "cells": [
  {
   "cell_type": "markdown",
   "metadata": {},
   "source": [
    "# Ejercicio 10 \n",
    "Alumna: Blanca Cano Camarero"
   ]
  },
  {
   "cell_type": "markdown",
   "metadata": {},
   "source": [
    "Sea $p$"
   ]
  },
  {
   "cell_type": "code",
   "execution_count": 2,
   "metadata": {},
   "outputs": [],
   "source": [
    "p = 75577753"
   ]
  },
  {
   "cell_type": "markdown",
   "metadata": {},
   "source": [
    "### Apartado primero   \n",
    "Calculamos el símbolo de Jacobi "
   ]
  },
  {
   "cell_type": "code",
   "execution_count": 3,
   "metadata": {},
   "outputs": [
    {
     "data": {
      "text/plain": [
       "1"
      ]
     },
     "execution_count": 3,
     "metadata": {},
     "output_type": "execute_result"
    }
   ],
   "source": [
    "# Calcula el símbolo de Jacobi\n",
    "kronecker(-11, p)"
   ]
  },
  {
   "cell_type": "markdown",
   "metadata": {},
   "source": [
    "A la vista del resultado usaremos $-11$ es un residuo cuadrático y podemos aplicar el algoritmo de Tonelli Shanks para  hallar soluciones a la congruencia \n",
    "\n",
    "$$x^2 \\equiv -11 \\mod p$$"
   ]
  },
  {
   "cell_type": "markdown",
   "metadata": {},
   "source": [
    "factors(p-1)"
   ]
  },
  {
   "cell_type": "code",
   "execution_count": 4,
   "metadata": {},
   "outputs": [
    {
     "name": "stdout",
     "output_type": "stream",
     "text": [
      "p es primo cuadrático con p-1 = 2^3 x 9447219\n"
     ]
    }
   ],
   "source": [
    "# Cálculo de q \n",
    "factores = dict(factor(p-1))\n",
    "q = (p-1)/(2^factores[2])\n",
    "\n",
    "# p es un primo cuadrático con \n",
    "print(f'p es primo cuadrático con p-1 = 2^{factores[2]} x {q}')"
   ]
  },
  {
   "cell_type": "code",
   "execution_count": 17,
   "metadata": {},
   "outputs": [
    {
     "ename": "IndentationError",
     "evalue": "unexpected indent (111447176.py, line 4)",
     "output_type": "error",
     "traceback": [
      "\u001b[0;36m  File \u001b[0;32m\"/var/folders/6x/92l244517zjbjbndy62lk_9m0000gn/T/ipykernel_782/111447176.py\"\u001b[0;36m, line \u001b[0;32m4\u001b[0m\n\u001b[0;31m    s = p - Integer(1)\u001b[0m\n\u001b[0m    ^\u001b[0m\n\u001b[0;31mIndentationError\u001b[0m\u001b[0;31m:\u001b[0m unexpected indent\n"
     ]
    }
   ],
   "source": [
    "def Tonelli_Shanks(a, p):\n",
    "  '''Calcula entero cuadrático, algoritmo en base al pseudo códifo wikipedia \n",
    "  ''' \n",
    "    s = p - 1\n",
    "    e = 0\n",
    "    while s % 2 == 0:\n",
    "        s //= 2\n",
    "        e += 1\n",
    "\n",
    "    n = 2\n",
    "    # Algoritmo de Jacobi\n",
    "    while kronecker(n, p) != -1:\n",
    "        n += 1\n",
    "\n",
    "    x = pow(a, (s + 1) // 2, p)\n",
    "    b = pow(a, s, p)\n",
    "    g = pow(n, s, p)\n",
    "    r = e\n",
    "\n",
    "    while True:\n",
    "        t = b\n",
    "        m = 0\n",
    "        for m in range(r):\n",
    "            if t == 1:\n",
    "                break\n",
    "            t = pow(t, 2, p)\n",
    "\n",
    "        if m == 0:\n",
    "            return x\n",
    "\n",
    "        gs = pow(g, 2 ** (r - m - 1), p)\n",
    "        g = (gs * gs) % p\n",
    "        x = (x * gs) % p\n",
    "        b = (b * g) % p\n",
    "        r = m\n",
    "\n",
    "#Ejemplo de prueba \n",
    "\n",
    "sol1 = Tonelli_Shanks(n, p)\n",
    "sol2 = p-sol1\n",
    "\n",
    "print(\"Las soluciones son \")\n",
    "print(sol1,sol2)"
   ]
  },
  {
   "cell_type": "markdown",
   "metadata": {},
   "source": [
    "### Apartado segundo \n",
    "\n",
    "Usa una de las soluciones para factorizar el ideal principal\n",
    "$$(p) = (p, n+ \\sqrt{-11})(p, n+\\sqrt{-11})$$\n",
    "como producto de dos ideales."
   ]
  },
  {
   "cell_type": "markdown",
   "metadata": {},
   "source": [
    "Tomamos la solución impar y puesto que $p$ es un primo impar  no divisor de -11 se tiene que "
   ]
  },
  {
   "cell_type": "code",
   "execution_count": null,
   "metadata": {},
   "outputs": [],
   "source": []
  },
  {
   "cell_type": "markdown",
   "metadata": {},
   "source": [
    "### Apartado tercero \n",
    "\n",
    "Aplica el algoritmo de Cornachia-Smith modificado a $2p$ y $n$ para encontrar una solución a la ecuación diofántica $4p = x^2 + 11 y^2$\n",
    "y úsala para encontrar una factorización de $p$ en a.e del cuerpo \n",
    "$Q[\\sqrt{p}].$"
   ]
  },
  {
   "cell_type": "markdown",
   "metadata": {},
   "source": []
  }
 ],
 "metadata": {
  "interpreter": {
   "hash": "24dcaf82da949eb8a169ffe40fd331a23a642ab22de3e08713f616aa663d0868"
  },
  "kernelspec": {
   "display_name": "SageMath 9.5",
   "language": "sage",
   "name": "SageMath-9.5"
  },
  "language_info": {
   "codemirror_mode": {
    "name": "ipython",
    "version": 3
   },
   "file_extension": ".py",
   "mimetype": "text/x-python",
   "name": "python",
   "nbconvert_exporter": "python",
   "pygments_lexer": "ipython3",
   "version": "3.9.9"
  },
  "orig_nbformat": 4
 },
 "nbformat": 4,
 "nbformat_minor": 2
}
