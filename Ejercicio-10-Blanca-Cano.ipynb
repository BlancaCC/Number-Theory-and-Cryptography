{
 "cells": [
  {
   "cell_type": "markdown",
   "metadata": {},
   "source": [
    "# Ejercicio 10 \n",
    "Alumna: Blanca Cano Camarero"
   ]
  },
  {
   "cell_type": "markdown",
   "metadata": {},
   "source": [
    "Sea $p$"
   ]
  },
  {
   "cell_type": "code",
   "execution_count": 55,
   "metadata": {},
   "outputs": [],
   "source": [
    "p = 75577753\n",
    "a = -11"
   ]
  },
  {
   "cell_type": "markdown",
   "metadata": {},
   "source": [
    "### Apartado primero   \n",
    "Calculamos el símbolo de Jacobi "
   ]
  },
  {
   "cell_type": "code",
   "execution_count": 56,
   "metadata": {},
   "outputs": [
    {
     "data": {
      "text/plain": [
       "1"
      ]
     },
     "execution_count": 56,
     "metadata": {},
     "output_type": "execute_result"
    }
   ],
   "source": [
    "# Calcula el símbolo de Jacobi\n",
    "kronecker(-11, p)"
   ]
  },
  {
   "cell_type": "markdown",
   "metadata": {},
   "source": [
    "A la vista del resultado usaremos $-11$ es un residuo cuadrático y podemos aplicar el algoritmo de Tonelli Shanks para  hallar soluciones a la congruencia \n",
    "\n",
    "$$x^2 \\equiv -11 \\mod p$$"
   ]
  },
  {
   "cell_type": "markdown",
   "metadata": {},
   "source": [
    "factors(p-1)"
   ]
  },
  {
   "cell_type": "code",
   "execution_count": 57,
   "metadata": {},
   "outputs": [
    {
     "name": "stdout",
     "output_type": "stream",
     "text": [
      "p es primo cuadrático con p-1 = 2^3 x 9447219\n"
     ]
    }
   ],
   "source": [
    "# Cálculo de q \n",
    "factores = dict(factor(p-1))\n",
    "q = (p-1)/(2^factores[2])\n",
    "\n",
    "# p es un primo cuadrático con \n",
    "print(f'p es primo cuadrático con p-1 = 2^{factores[2]} x {q}')"
   ]
  },
  {
   "cell_type": "code",
   "execution_count": 58,
   "metadata": {},
   "outputs": [
    {
     "name": "stdout",
     "output_type": "stream",
     "text": [
      "Las soluciones son \n",
      "14742789 60834964\n"
     ]
    }
   ],
   "source": [
    "def Tonelli_Shanks(a, p):\n",
    "    '''Calcula entero cuadrático, algoritmo en base al pseudo códifo wikipedia \n",
    "    ''' \n",
    "    s = p-1\n",
    "    e = 0\n",
    "    while s % 2 == 0:\n",
    "        s //= 2\n",
    "        e += 1\n",
    "\n",
    "    n = 2\n",
    "    # Algoritmo de Jacobi\n",
    "    while kronecker(n, p) != -1:\n",
    "        n += 1\n",
    "\n",
    "    x = pow(a, (s + 1) // 2, p)\n",
    "    b = pow(a, s, p)\n",
    "    g = pow(n, s, p)\n",
    "    r = e\n",
    "\n",
    "    while True:\n",
    "        t = b\n",
    "        m = 0\n",
    "        for m in range(r):\n",
    "            if t == 1:\n",
    "                break\n",
    "            t = pow(t, 2, p)\n",
    "\n",
    "        if m == 0:\n",
    "            return x\n",
    "\n",
    "        gs = pow(g, 2 ** (r - m - 1), p)\n",
    "        g = (gs * gs) % p\n",
    "        x = (x * gs) % p\n",
    "        b = (b * g) % p\n",
    "        r = m\n",
    "\n",
    "#Ejemplo de prueba \n",
    "\n",
    "n = int(Tonelli_Shanks(a, p))\n",
    "sol2 = p-n\n",
    "\n",
    "print(\"Las soluciones son \")\n",
    "print(n,sol2)"
   ]
  },
  {
   "cell_type": "markdown",
   "metadata": {},
   "source": [
    "### Apartado segundo \n",
    "\n",
    "Usa una de las soluciones para factorizar el ideal principal\n",
    "$$(p) = (p, n+ \\sqrt{-11})(p, n+\\sqrt{-11})$$\n",
    "como producto de dos ideales."
   ]
  },
  {
   "cell_type": "markdown",
   "metadata": {},
   "source": [
    "Tomamos la solución impar y puesto que $p$ es un primo impar  no divisor de -11 se tiene que "
   ]
  },
  {
   "cell_type": "code",
   "execution_count": null,
   "metadata": {},
   "outputs": [],
   "source": []
  },
  {
   "cell_type": "markdown",
   "metadata": {},
   "source": [
    "### Apartado tercero \n",
    "\n",
    "Aplica el algoritmo de Cornachia-Smith modificado a $2p$ y $n$ para encontrar una solución a la ecuación diofántica $4p = x^2 + 11 y^2$\n",
    "y úsala para encontrar una factorización de $p$ en a.e del cuerpo \n",
    "$Q[\\sqrt{p}].$"
   ]
  },
  {
   "cell_type": "code",
   "execution_count": 63,
   "metadata": {},
   "outputs": [
    {
     "name": "stdout",
     "output_type": "stream",
     "text": [
      "Algoritmo de euclides: \n",
      "151155506 = 10 * 14742789 + 3727616\n",
      "14742789 = 3 * 3727616 + 3559941\n",
      "3727616 = 1 * 3559941 + 167675\n",
      "3559941 = 21 * 167675 + 38766\n",
      "167675 = 4 * 38766 + 12611\n",
      "\n",
      "La factorización de p=75577753 es (12611 + 3609sqrt(-11)/2) (12611 - 3609sqrt(-11)/2)\n",
      "Es decir los generadores de los ideales (p, n +- sqrt(m))\n"
     ]
    }
   ],
   "source": [
    "# Algoritmo de Euclides \n",
    "def AlgoritmoEuclides(num1,num2, parada):\n",
    "    if num1<num2:\n",
    "        num1,num2=num2,num1\n",
    "    resto=num1%num2\n",
    "    print(f\"{num1} = {num1//num2} * {num2} + {resto}\")\n",
    "    if resto < parada :\n",
    "        return resto\n",
    "    return AlgoritmoEuclides(num2,resto,parada)\n",
    "\n",
    "def Factorizacion(p,n, m): \n",
    "    print(\"Algoritmo de euclides: \")\n",
    "    a = AlgoritmoEuclides(2*p,n, 2*sqrt(p))\n",
    "    b = sqrt((4*p-a**2)/11)\n",
    "\n",
    "    print(f\"\\nLa factorización de p={p} es ({a} + {b}sqrt({m})/{2}) ({a} - {b}sqrt({m})/{2})\")\n",
    "    print(\"Es decir los generadores de los ideales (p, n +- sqrt(m))\")\n",
    "\n",
    "Factorizacion(p,  n, a)"
   ]
  },
  {
   "cell_type": "markdown",
   "metadata": {},
   "source": []
  },
  {
   "cell_type": "markdown",
   "metadata": {},
   "source": [
    "#### Apartado 4  \n",
    "¿Son principales tus ideales $(p, n+ \\sqrt{-11})$ y $(p, n+\\sqrt{-11})$?\n",
    "\n",
    "Sí, ya que $Q[\\sqrt{-11}]$ es un dominio de ideales principales "
   ]
  }
 ],
 "metadata": {
  "interpreter": {
   "hash": "adb5cd174cd885aafe13f9c79d1ba14d4a172d301e49486c29efffe4dc4c2562"
  },
  "kernelspec": {
   "display_name": "SageMath 9.5",
   "language": "sage",
   "name": "SageMath-9.5"
  },
  "language_info": {
   "codemirror_mode": {
    "name": "ipython",
    "version": 3
   },
   "file_extension": ".py",
   "mimetype": "text/x-python",
   "name": "python",
   "nbconvert_exporter": "python",
   "pygments_lexer": "ipython3",
   "version": "3.9.9"
  },
  "orig_nbformat": 4
 },
 "nbformat": 4,
 "nbformat_minor": 2
}
