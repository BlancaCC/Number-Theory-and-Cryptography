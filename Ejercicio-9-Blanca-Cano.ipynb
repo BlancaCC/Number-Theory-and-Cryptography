{
 "cells": [
  {
   "cell_type": "markdown",
   "metadata": {},
   "source": [
    "# Ejercicio 9 \n",
    "\n",
    "Autora: Blanca Cano Camarero \n"
   ]
  },
  {
   "cell_type": "markdown",
   "metadata": {},
   "source": [
    "Dado $n$ de la siguiente forma define en base dos el siguiente polinomio $f(x)$"
   ]
  },
  {
   "cell_type": "code",
   "execution_count": 1,
   "metadata": {},
   "outputs": [
    {
     "name": "stdout",
     "output_type": "stream",
     "text": [
      "f(x)= x^26 + x^23 + x^16 + x^13 + x^12 + x^11 + x^5 + x^4 + x^2 + x + 1\n"
     ]
    }
   ],
   "source": [
    "n = 75577399\n",
    "\n",
    "R = PolynomialRing(GF(2), 'x')\n",
    "x = R.gen()\n",
    "coeficientes = list(map(int, bin(n)[2:]))\n",
    "f = 0\n",
    "for coeficiente in coeficientes[:-1]:\n",
    "        f = x*(coeficiente + f)\n",
    "\n",
    "f = f+coeficientes[-1]\n",
    "print(f\"f(x)= {f}\")"
   ]
  },
  {
   "cell_type": "markdown",
   "metadata": {},
   "source": [
    "### Apartado 1 \n",
    "\n",
    "Sea $f(x)$ el polinomio que obtienes con coeficientes en $Z$. \n",
    "\n",
    "Toma $g(x)=f(x) \\mod 2$ y halla el menor cuerpo de característica 2 que contenga a todas las raíces de $g$. \n",
    "¿Qué se deduce sobre la irreducibilidad de $g(x)$ en $Z_2[x]$."
   ]
  },
  {
   "cell_type": "markdown",
   "metadata": {},
   "source": [
    "Veamos primero si es libre de cuadrados viendo que el máximo común divisor con su derivada es 1"
   ]
  },
  {
   "cell_type": "code",
   "execution_count": 2,
   "metadata": {},
   "outputs": [
    {
     "data": {
      "text/plain": [
       "1"
      ]
     },
     "execution_count": 2,
     "metadata": {},
     "output_type": "execute_result"
    }
   ],
   "source": [
    "df = derivative(f,x)\n",
    "df\n",
    "\n",
    "f.gcd(df)"
   ]
  },
  {
   "cell_type": "markdown",
   "metadata": {},
   "source": [
    "Efectivamente es libre de cuadrados ahora aplicaremos el algoritmo para calcular cf menor: "
   ]
  },
  {
   "cell_type": "code",
   "execution_count": 3,
   "metadata": {},
   "outputs": [
    {
     "name": "stdout",
     "output_type": "stream",
     "text": [
      "El cuerpo es F_2^153\n"
     ]
    }
   ],
   "source": [
    "def PotenciaCuerpoFinito(f,p):\n",
    "    g = x^p\n",
    "    g1 = (g - x)%f\n",
    "    k = 1\n",
    "    while g1!= 0: \n",
    "        g = g^p % f\n",
    "        g1 = (g - x)%f \n",
    "        k = k+1\n",
    "    return k\n",
    "\n",
    "p = 2\n",
    "k = PotenciaCuerpoFinito(f,p)\n",
    "    \n",
    "print(f\"El cuerpo es F_2^{k}\")"
   ]
  },
  {
   "cell_type": "markdown",
   "metadata": {},
   "source": [
    "Tomando el K retornado se tiene que el el menor cuerpo finito que contiene sus raíces es \n",
    "$F_{2^k}$\n",
    "como el K obtenido es mayor que el grado de f se tiene que f es reducible . "
   ]
  },
  {
   "cell_type": "markdown",
   "metadata": {},
   "source": [
    "### Apartado segundo \n",
    "\n",
    "Extrae la parte libre de cuadrados de g(x) y calcula su matriz de Berlekamp por columnas. Resuelve el sistema $(B-Id)X=0$\n",
    "\n",
    "--- \n",
    "Ya hemos visto en el apartado primero que era libre de cuadrados."
   ]
  },
  {
   "cell_type": "code",
   "execution_count": 4,
   "metadata": {},
   "outputs": [
    {
     "name": "stdout",
     "output_type": "stream",
     "text": [
      "La matrix de Berlekamp es \n",
      "[1 0 0 0 0 0 0 0 0 0 0 0 0 0 0 0 0 0 0 0 0 0 0 0 0 0]\n",
      "[0 0 1 0 0 0 0 0 0 0 0 0 0 0 0 0 0 0 0 0 0 0 0 0 0 0]\n",
      "[0 0 0 0 1 0 0 0 0 0 0 0 0 0 0 0 0 0 0 0 0 0 0 0 0 0]\n",
      "[0 0 0 0 0 0 1 0 0 0 0 0 0 0 0 0 0 0 0 0 0 0 0 0 0 0]\n",
      "[0 0 0 0 0 0 0 0 1 0 0 0 0 0 0 0 0 0 0 0 0 0 0 0 0 0]\n",
      "[0 0 0 0 0 0 0 0 0 0 1 0 0 0 0 0 0 0 0 0 0 0 0 0 0 0]\n",
      "[0 0 0 0 0 0 0 0 0 0 0 0 1 0 0 0 0 0 0 0 0 0 0 0 0 0]\n",
      "[0 0 0 0 0 0 0 0 0 0 0 0 0 0 1 0 0 0 0 0 0 0 0 0 0 0]\n",
      "[0 0 0 0 0 0 0 0 0 0 0 0 0 0 0 0 1 0 0 0 0 0 0 0 0 0]\n",
      "[0 0 0 0 0 0 0 0 0 0 0 0 0 0 0 0 0 0 1 0 0 0 0 0 0 0]\n",
      "[0 0 0 0 0 0 0 0 0 0 0 0 0 0 0 0 0 0 0 0 1 0 0 0 0 0]\n",
      "[0 0 0 0 0 0 0 0 0 0 0 0 0 0 0 0 0 0 0 0 0 0 1 0 0 0]\n",
      "[0 0 0 0 0 0 0 0 0 0 0 0 0 0 0 0 0 0 0 0 0 0 0 0 1 0]\n",
      "[1 1 1 0 1 1 0 0 0 0 0 1 1 1 0 0 1 0 0 0 0 0 0 1 0 0]\n",
      "[0 0 1 1 1 0 1 1 0 0 0 0 0 1 1 1 0 0 1 0 0 0 0 0 0 1]\n",
      "[0 1 1 1 1 0 0 0 1 1 0 0 1 1 1 1 1 0 0 0 1 0 0 0 1 0]\n",
      "[1 1 1 1 0 0 1 0 0 0 1 0 1 1 1 1 0 1 1 0 0 0 1 1 0 0]\n",
      "[0 0 1 1 1 1 0 0 1 0 0 0 1 0 1 1 1 1 0 1 1 0 0 0 1 1]\n",
      "[1 0 0 1 0 1 0 1 0 0 1 1 0 0 0 0 0 0 1 1 0 1 1 1 1 0]\n",
      "[1 1 0 0 1 0 0 1 0 1 0 1 0 0 0 0 1 0 0 0 1 1 0 0 1 1]\n",
      "[1 0 1 0 1 0 0 0 0 1 0 0 0 1 1 0 1 1 1 0 0 0 1 0 1 0]\n",
      "[1 1 0 0 0 1 1 0 0 0 0 0 1 1 0 1 0 0 1 1 1 0 0 1 1 0]\n",
      "[1 1 0 1 1 1 0 1 1 0 0 1 1 1 1 1 1 1 0 0 1 1 1 1 0 1]\n",
      "[0 1 0 0 0 0 0 1 0 1 1 0 1 0 0 1 1 0 1 1 0 0 1 1 0 1]\n",
      "[0 1 1 0 0 1 1 0 0 1 0 1 0 1 0 0 0 0 1 0 1 1 0 0 0 1]\n",
      "[0 1 1 0 1 1 1 1 1 0 0 1 1 0 1 1 0 1 0 0 1 0 1 1 1 0]\n"
     ]
    }
   ],
   "source": [
    "def BerlekampMatrix(f):\n",
    "    Berlekamp = []\n",
    "    grado = f.degree()\n",
    "    for i in range(grado):\n",
    "        zero_row = [0 for i in range(grado)]\n",
    "        h = x^(2*i)%f\n",
    "        new_row = h.list()\n",
    "        zero_row[:len(new_row)] = new_row\n",
    "\n",
    "        Berlekamp.append(zero_row)\n",
    "        #print(Berlekamp[i])\n",
    "    return matrix(Berlekamp)\n",
    "    \n",
    "\n",
    "\n",
    "B = BerlekampMatrix(f)\n",
    "print(\"La matrix de Berlekamp es \")\n",
    "print(B)"
   ]
  },
  {
   "cell_type": "code",
   "execution_count": 5,
   "metadata": {},
   "outputs": [
    {
     "name": "stdout",
     "output_type": "stream",
     "text": [
      "[0 0 0 0 0 0 0 0 0 0 0 0 0 0 0 0 0 0 0 0 0 0 0 0 0 0]\n",
      "[0 1 1 0 0 0 0 0 0 0 0 0 0 0 0 0 0 0 0 0 0 0 0 0 0 0]\n",
      "[0 0 1 0 1 0 0 0 0 0 0 0 0 0 0 0 0 0 0 0 0 0 0 0 0 0]\n",
      "[0 0 0 1 0 0 1 0 0 0 0 0 0 0 0 0 0 0 0 0 0 0 0 0 0 0]\n",
      "[0 0 0 0 1 0 0 0 1 0 0 0 0 0 0 0 0 0 0 0 0 0 0 0 0 0]\n",
      "[0 0 0 0 0 1 0 0 0 0 1 0 0 0 0 0 0 0 0 0 0 0 0 0 0 0]\n",
      "[0 0 0 0 0 0 1 0 0 0 0 0 1 0 0 0 0 0 0 0 0 0 0 0 0 0]\n",
      "[0 0 0 0 0 0 0 1 0 0 0 0 0 0 1 0 0 0 0 0 0 0 0 0 0 0]\n",
      "[0 0 0 0 0 0 0 0 1 0 0 0 0 0 0 0 1 0 0 0 0 0 0 0 0 0]\n",
      "[0 0 0 0 0 0 0 0 0 1 0 0 0 0 0 0 0 0 1 0 0 0 0 0 0 0]\n",
      "[0 0 0 0 0 0 0 0 0 0 1 0 0 0 0 0 0 0 0 0 1 0 0 0 0 0]\n",
      "[0 0 0 0 0 0 0 0 0 0 0 1 0 0 0 0 0 0 0 0 0 0 1 0 0 0]\n",
      "[0 0 0 0 0 0 0 0 0 0 0 0 1 0 0 0 0 0 0 0 0 0 0 0 1 0]\n",
      "[1 1 1 0 1 1 0 0 0 0 0 1 1 0 0 0 1 0 0 0 0 0 0 1 0 0]\n",
      "[0 0 1 1 1 0 1 1 0 0 0 0 0 1 0 1 0 0 1 0 0 0 0 0 0 1]\n",
      "[0 1 1 1 1 0 0 0 1 1 0 0 1 1 1 0 1 0 0 0 1 0 0 0 1 0]\n",
      "[1 1 1 1 0 0 1 0 0 0 1 0 1 1 1 1 1 1 1 0 0 0 1 1 0 0]\n",
      "[0 0 1 1 1 1 0 0 1 0 0 0 1 0 1 1 1 0 0 1 1 0 0 0 1 1]\n",
      "[1 0 0 1 0 1 0 1 0 0 1 1 0 0 0 0 0 0 0 1 0 1 1 1 1 0]\n",
      "[1 1 0 0 1 0 0 1 0 1 0 1 0 0 0 0 1 0 0 1 1 1 0 0 1 1]\n",
      "[1 0 1 0 1 0 0 0 0 1 0 0 0 1 1 0 1 1 1 0 1 0 1 0 1 0]\n",
      "[1 1 0 0 0 1 1 0 0 0 0 0 1 1 0 1 0 0 1 1 1 1 0 1 1 0]\n",
      "[1 1 0 1 1 1 0 1 1 0 0 1 1 1 1 1 1 1 0 0 1 1 0 1 0 1]\n",
      "[0 1 0 0 0 0 0 1 0 1 1 0 1 0 0 1 1 0 1 1 0 0 1 0 0 1]\n",
      "[0 1 1 0 0 1 1 0 0 1 0 1 0 1 0 0 0 0 1 0 1 1 0 0 1 1]\n",
      "[0 1 1 0 1 1 1 1 1 0 0 1 1 0 1 1 0 1 0 0 1 0 1 1 1 1]\n",
      "f(x) no es irreducible\n"
     ]
    }
   ],
   "source": [
    "# queremos resolver el sistema lineal (B-Id)X=0.\n",
    "\n",
    "def BerlekampCriterio(B, f):\n",
    "    # A = (B-Id)\n",
    "    A = B -identity_matrix(f.degree())\n",
    "    #veamos cuantas sol tiene \n",
    "    rango = rank(A)\n",
    "    r = f.degree() - rango\n",
    "    return r \n",
    "\n",
    "\n",
    "r = BerlekampCriterio(B,f)\n",
    "if r==1:\n",
    "    print(\"f(x) es irreducible en Z_2 pues r=1\" )\n",
    "else:\n",
    "    print(\"f(x) no es irreducible\")"
   ]
  },
  {
   "cell_type": "code",
   "execution_count": 6,
   "metadata": {},
   "outputs": [
    {
     "name": "stdout",
     "output_type": "stream",
     "text": [
      "K =153 y el grado de f es =26\n"
     ]
    }
   ],
   "source": [
    "grado = f.degree()\n",
    "print(f\"K ={k} y el grado de f es ={grado}\")"
   ]
  },
  {
   "cell_type": "markdown",
   "metadata": {},
   "source": [
    "los grados $x,y$ de los polimomio tiene que cumplir que \n",
    "$xy=k$ y $x+y=grado(f)$"
   ]
  },
  {
   "cell_type": "code",
   "execution_count": 7,
   "metadata": {},
   "outputs": [
    {
     "name": "stdout",
     "output_type": "stream",
     "text": [
      "[\n",
      "x == 9,\n",
      "x == 17\n",
      "]\n",
      "Soluciones x=9 e y=17\n",
      "Soluciones x=15 e y=51/5\n"
     ]
    }
   ],
   "source": [
    "y = var('x')\n",
    "print(solve(y^2-grado*y+k, y))\n",
    "soluciones = [9,15]\n",
    "\n",
    "for x in soluciones:\n",
    "    y = k/x\n",
    "    print(f\"Soluciones x={x} e y={y}\")"
   ]
  },
  {
   "cell_type": "markdown",
   "metadata": {},
   "source": [
    "Luego para nuestro polinomio uno será de grado 9 y el otro de 17"
   ]
  },
  {
   "cell_type": "code",
   "execution_count": 10,
   "metadata": {},
   "outputs": [
    {
     "data": {
      "text/plain": [
       "Vector space of degree 26 and dimension 2 over Finite Field of size 2\n",
       "Basis matrix:\n",
       "[1 0 0 0 0 0 0 0 0 0 0 0 0 0 0 0 0 0 0 0 0 0 0 0 0 0]\n",
       "[0 1 0 1 0 1 1 0 1 1 0 0 0 0 1 0 0 0 1 1 1 0 1 0 1 0]"
      ]
     },
     "execution_count": 10,
     "metadata": {},
     "output_type": "execute_result"
    }
   ],
   "source": [
    "A = B -identity_matrix(f.degree())\n",
    "subespacios = kernel(A)\n",
    "subespacios"
   ]
  },
  {
   "cell_type": "code",
   "execution_count": 17,
   "metadata": {},
   "outputs": [
    {
     "name": "stdout",
     "output_type": "stream",
     "text": [
      "[(0, 0, 0, 0, 0, 0, 0, 0, 0, 0, 0, 0, 0, 0, 0, 0, 0, 0, 0, 0, 0, 0, 0, 0, 0, 0), (1, 0, 0, 0, 0, 0, 0, 0, 0, 0, 0, 0, 0, 0, 0, 0, 0, 0, 0, 0, 0, 0, 0, 0, 0, 0), (0, 1, 0, 1, 0, 1, 1, 0, 1, 1, 0, 0, 0, 0, 1, 0, 0, 0, 1, 1, 1, 0, 1, 0, 1, 0), (1, 1, 0, 1, 0, 1, 1, 0, 1, 1, 0, 0, 0, 0, 1, 0, 0, 0, 1, 1, 1, 0, 1, 0, 1, 0)]\n"
     ]
    },
    {
     "data": {
      "text/plain": [
       "(0, 1, 0, 1, 0, 1, 1, 0, 1, 1, 0, 0, 0, 0, 1, 0, 0, 0, 1, 1, 1, 0, 1, 0, 1, 0)"
      ]
     },
     "execution_count": 17,
     "metadata": {},
     "output_type": "execute_result"
    }
   ],
   "source": [
    "subespacios = list(subespacios)\n",
    "print(subespacios)"
   ]
  },
  {
   "cell_type": "markdown",
   "metadata": {},
   "source": [
    "### Apartado tercero \n",
    "\n",
    "Aplica Berlekamp si es necesario recursivamente para halla la descomposición en irreducibles de $g(x)$ en $Z_2[x]$"
   ]
  },
  {
   "cell_type": "code",
   "execution_count": 59,
   "metadata": {},
   "outputs": [
    {
     "name": "stdout",
     "output_type": "stream",
     "text": [
      "El polinomio f-reductor es h(x) = x^24 + x^22 + x^20 + x^19 + x^18 + x^14 + x^9 + x^8 + x^6 + x^5 + x^3 + x\n",
      "f_1 = x^9 + x^8 + x^4 + x^3 + x^2 + x + 1\n",
      "mcd(f_1, (f_1)') = 1\n",
      "f_2 = x^17 + x^16 + x^15 + x^12 + x^11 + x^9 + x^6 + x^5 + x^4 + x^3 + 1\n",
      "mcd(f_2, (f_2)') = 1\n"
     ]
    }
   ],
   "source": [
    "indice_h_reductor = 2\n",
    "# Guardamos y le damos la vuelta\n",
    "candidato = subespacios[indice_h_reductor][::-1]\n",
    "R = PolynomialRing(GF(2), 'x')\n",
    "x = R.gen()\n",
    "def PolinomioAPartirMatriz(lista):\n",
    "    '''Transforma una lista en un coeficiente \n",
    "    La matriz es el coeficiente de orden \n",
    "    [c,b,a...]\n",
    "    a + bx + cx^2 ...\n",
    "    '''\n",
    "    polinomio = lista[0]\n",
    "    for coeficiente in lista[1:]:\n",
    "        polinomio  = x*polinomio + coeficiente \n",
    "    return polinomio \n",
    "\n",
    "h = PolinomioAPartirMatriz(candidato)\n",
    "print(f\"El polinomio f-reductor es h(x) = {h}\")\n",
    "# Vamos a calcular los respectivos polinomios irreducibles\n",
    "f_1 = gcd(f, h)\n",
    "print(f\"f_1 = {f_1}\")\n",
    "print(f\"mcd(f_1, (f_1)') = {gcd(f_1, derivative(f_1, x))}\")\n",
    "f_2 = gcd(f, h+1)\n",
    "print(f\"f_2 = {f_2}\")\n",
    "print(f\"mcd(f_2, (f_2)') = {gcd(f_2, derivative(f_2, x))}\")\n",
    "\n"
   ]
  },
  {
   "cell_type": "markdown",
   "metadata": {},
   "source": [
    "Como podemos ver $f_1, f_2$ son libres de cuadrados y el algoritmo nos asegura que  sean irreducibles. \n",
    "\n",
    "Deduciendo por tanto que \n",
    "$$g(x) = f_1(x)f_2(x)$$"
   ]
  },
  {
   "cell_type": "markdown",
   "metadata": {},
   "source": [
    "### Apartado cuarto \n",
    "\n",
    "Haz lo mismo para hallar la descomposición en irreducibles de $f(x) \\mod 3.$ "
   ]
  },
  {
   "cell_type": "code",
   "execution_count": 67,
   "metadata": {},
   "outputs": [
    {
     "name": "stdout",
     "output_type": "stream",
     "text": [
      "f(x)= x^26 + x^23 + x^16 + x^13 + x^12 + x^11 + x^5 + x^4 + x^2 + x + 1\n",
      "Como modemos comprobar por mcd(f, f') = 1 es libre de cuadrados\n",
      "El cuerpo es F_3^26\n",
      "La matrix de Berlekamp es \n",
      "[1 0 0 0 0 0 0 0 0 0 0 0 0 0 0 0 0 0 0 0 0 0 0 0 0 0]\n",
      "[0 0 1 0 0 0 0 0 0 0 0 0 0 0 0 0 0 0 0 0 0 0 0 0 0 0]\n",
      "[0 0 0 0 1 0 0 0 0 0 0 0 0 0 0 0 0 0 0 0 0 0 0 0 0 0]\n",
      "[0 0 0 0 0 0 1 0 0 0 0 0 0 0 0 0 0 0 0 0 0 0 0 0 0 0]\n",
      "[0 0 0 0 0 0 0 0 1 0 0 0 0 0 0 0 0 0 0 0 0 0 0 0 0 0]\n",
      "[0 0 0 0 0 0 0 0 0 0 1 0 0 0 0 0 0 0 0 0 0 0 0 0 0 0]\n",
      "[0 0 0 0 0 0 0 0 0 0 0 0 1 0 0 0 0 0 0 0 0 0 0 0 0 0]\n",
      "[0 0 0 0 0 0 0 0 0 0 0 0 0 0 1 0 0 0 0 0 0 0 0 0 0 0]\n",
      "[0 0 0 0 0 0 0 0 0 0 0 0 0 0 0 0 1 0 0 0 0 0 0 0 0 0]\n",
      "[0 0 0 0 0 0 0 0 0 0 0 0 0 0 0 0 0 0 1 0 0 0 0 0 0 0]\n",
      "[0 0 0 0 0 0 0 0 0 0 0 0 0 0 0 0 0 0 0 0 1 0 0 0 0 0]\n",
      "[0 0 0 0 0 0 0 0 0 0 0 0 0 0 0 0 0 0 0 0 0 0 1 0 0 0]\n",
      "[0 0 0 0 0 0 0 0 0 0 0 0 0 0 0 0 0 0 0 0 0 0 0 0 1 0]\n",
      "[2 2 2 0 2 2 0 0 0 0 0 2 2 2 0 0 2 0 0 0 0 0 0 2 0 0]\n",
      "[0 0 2 2 2 0 2 2 0 0 0 0 0 2 2 2 0 0 2 0 0 0 0 0 0 2]\n",
      "[0 1 1 1 2 0 0 0 2 2 0 0 1 1 1 2 2 0 0 0 2 0 0 0 1 0]\n",
      "[2 2 2 1 0 0 2 0 0 0 2 1 2 2 1 1 0 2 2 0 0 0 2 2 0 0]\n",
      "[0 0 2 2 2 1 0 0 2 0 0 0 2 1 2 2 1 1 0 2 2 0 0 0 2 2]\n",
      "[1 2 2 1 0 1 0 1 0 0 2 1 2 2 0 1 0 0 1 1 0 2 2 1 1 0]\n",
      "[2 2 0 2 1 0 0 1 0 1 0 2 1 0 2 2 2 1 0 0 1 1 0 1 2 1]\n",
      "[1 0 2 1 1 2 0 0 0 1 0 2 0 2 0 0 0 1 2 1 0 0 1 2 2 1]\n",
      "[1 0 1 2 0 1 0 2 0 0 0 2 0 2 2 2 1 2 0 1 2 1 0 1 0 2]\n",
      "[0 1 2 1 1 0 1 1 0 2 0 0 1 0 1 2 2 0 1 2 0 1 2 1 1 1]\n",
      "[2 1 1 0 1 2 0 0 1 1 0 1 1 1 0 0 0 1 2 0 1 2 0 0 1 1]\n",
      "[2 1 0 0 0 1 0 2 0 0 1 0 1 2 0 1 2 2 0 1 2 0 1 1 2 0]\n",
      "[1 1 0 1 1 1 0 1 0 2 0 1 2 1 1 2 1 1 2 2 0 1 2 1 1 1]\n",
      "[0 0 0 0 0 0 0 0 0 0 0 0 0 0 0 0 0 0 0 0 0 0 0 0 0 0]\n",
      "[0 2 1 0 0 0 0 0 0 0 0 0 0 0 0 0 0 0 0 0 0 0 0 0 0 0]\n",
      "[0 0 2 0 1 0 0 0 0 0 0 0 0 0 0 0 0 0 0 0 0 0 0 0 0 0]\n",
      "[0 0 0 2 0 0 1 0 0 0 0 0 0 0 0 0 0 0 0 0 0 0 0 0 0 0]\n",
      "[0 0 0 0 2 0 0 0 1 0 0 0 0 0 0 0 0 0 0 0 0 0 0 0 0 0]\n",
      "[0 0 0 0 0 2 0 0 0 0 1 0 0 0 0 0 0 0 0 0 0 0 0 0 0 0]\n",
      "[0 0 0 0 0 0 2 0 0 0 0 0 1 0 0 0 0 0 0 0 0 0 0 0 0 0]\n",
      "[0 0 0 0 0 0 0 2 0 0 0 0 0 0 1 0 0 0 0 0 0 0 0 0 0 0]\n",
      "[0 0 0 0 0 0 0 0 2 0 0 0 0 0 0 0 1 0 0 0 0 0 0 0 0 0]\n",
      "[0 0 0 0 0 0 0 0 0 2 0 0 0 0 0 0 0 0 1 0 0 0 0 0 0 0]\n",
      "[0 0 0 0 0 0 0 0 0 0 2 0 0 0 0 0 0 0 0 0 1 0 0 0 0 0]\n",
      "[0 0 0 0 0 0 0 0 0 0 0 2 0 0 0 0 0 0 0 0 0 0 1 0 0 0]\n",
      "[0 0 0 0 0 0 0 0 0 0 0 0 2 0 0 0 0 0 0 0 0 0 0 0 1 0]\n",
      "[2 2 2 0 2 2 0 0 0 0 0 2 2 1 0 0 2 0 0 0 0 0 0 2 0 0]\n",
      "[0 0 2 2 2 0 2 2 0 0 0 0 0 2 1 2 0 0 2 0 0 0 0 0 0 2]\n",
      "[0 1 1 1 2 0 0 0 2 2 0 0 1 1 1 1 2 0 0 0 2 0 0 0 1 0]\n",
      "[2 2 2 1 0 0 2 0 0 0 2 1 2 2 1 1 2 2 2 0 0 0 2 2 0 0]\n",
      "[0 0 2 2 2 1 0 0 2 0 0 0 2 1 2 2 1 0 0 2 2 0 0 0 2 2]\n",
      "[1 2 2 1 0 1 0 1 0 0 2 1 2 2 0 1 0 0 0 1 0 2 2 1 1 0]\n",
      "[2 2 0 2 1 0 0 1 0 1 0 2 1 0 2 2 2 1 0 2 1 1 0 1 2 1]\n",
      "[1 0 2 1 1 2 0 0 0 1 0 2 0 2 0 0 0 1 2 1 2 0 1 2 2 1]\n",
      "[1 0 1 2 0 1 0 2 0 0 0 2 0 2 2 2 1 2 0 1 2 0 0 1 0 2]\n",
      "[0 1 2 1 1 0 1 1 0 2 0 0 1 0 1 2 2 0 1 2 0 1 1 1 1 1]\n",
      "[2 1 1 0 1 2 0 0 1 1 0 1 1 1 0 0 0 1 2 0 1 2 0 2 1 1]\n",
      "[2 1 0 0 0 1 0 2 0 0 1 0 1 2 0 1 2 2 0 1 2 0 1 1 1 0]\n",
      "[1 1 0 1 1 1 0 1 0 2 0 1 2 1 1 2 1 1 2 2 0 1 2 1 1 0]\n",
      "f(x) es irreducible en Z_3 pues el rango del sistema lineal es 1\n"
     ]
    }
   ],
   "source": [
    "n = 75577399\n",
    "\n",
    "R = PolynomialRing(GF(3), 'x')\n",
    "x = R.gen()\n",
    "coeficientes = list(map(int, bin(n)[2:]))\n",
    "f = 0\n",
    "for coeficiente in coeficientes[:-1]:\n",
    "        f = x*(coeficiente + f)\n",
    "\n",
    "f = f+coeficientes[-1]\n",
    "print(f\"f(x)= {f}\")\n",
    "\n",
    "# Veamos si es libre de cuadrados \n",
    "f.gcd(derivative(f,x))\n",
    "print(f\"Como modemos comprobar por mcd(f, f') = {f.gcd(derivative(f,x))} es libre de cuadrados\")\n",
    "\n",
    "p=3\n",
    "k = PotenciaCuerpoFinito(f,p)  \n",
    "print(f\"El cuerpo es F_{p}^{k}\")\n",
    "\n",
    "# Calculamos la matrix de Berlekamp\n",
    "B = BerlekampMatrix(f)\n",
    "print(\"La matrix de Berlekamp es \")\n",
    "print(B)\n",
    "\n",
    "\n",
    "r = BerlekampCriterio(B,f)\n",
    "if r==1:\n",
    "    print(\"f(x) es irreducible en Z_3 pues el rango del sistema lineal es 1\" )\n",
    "else:\n",
    "    print(\"f(x) no es irreducible\")\n"
   ]
  },
  {
   "cell_type": "markdown",
   "metadata": {},
   "source": [
    "### Apartado quinto \n",
    "\n",
    "¿Qué se deduce sobre la reducibilidad de $f(x)$ en $Z[x]$?\n",
    "\n",
    "A la vista de los resultado obtenidos en los apartados anteriores está claro que $f$  irreducible en $Z[x]$.\n",
    "\n",
    "No solo por heber sido irreducible en $Z_3$ si no porque las factorizaciones de los apartados anteriores son incompatibles."
   ]
  }
 ],
 "metadata": {
  "interpreter": {
   "hash": "10ee41b0a2b4dea8aca2e0ba0733240772c8bdfa2bc24a889a116731a918817c"
  },
  "kernelspec": {
   "display_name": "SageMath 9.5",
   "language": "sage",
   "name": "sagemath-9.5"
  },
  "language_info": {
   "codemirror_mode": {
    "name": "ipython",
    "version": 3
   },
   "file_extension": ".py",
   "mimetype": "text/x-python",
   "name": "python",
   "nbconvert_exporter": "python",
   "pygments_lexer": "ipython3",
   "version": "3.9.9"
  }
 },
 "nbformat": 4,
 "nbformat_minor": 2
}
