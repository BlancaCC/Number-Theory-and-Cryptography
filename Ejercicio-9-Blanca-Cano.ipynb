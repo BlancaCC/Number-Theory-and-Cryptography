{
 "cells": [
  {
   "cell_type": "markdown",
   "metadata": {},
   "source": [
    "# Ejercio 9 \n",
    "\n",
    "Autora: Blanca Cano Camarero \n"
   ]
  },
  {
   "cell_type": "markdown",
   "metadata": {},
   "source": [
    "Dado $n$ de la siguiente forma define en base dos el siguiente polinomio $f(x)$"
   ]
  },
  {
   "cell_type": "code",
   "execution_count": 92,
   "metadata": {},
   "outputs": [
    {
     "name": "stdout",
     "output_type": "stream",
     "text": [
      "f(x)= x^26 + x^23 + x^16 + x^13 + x^12 + x^11 + x^5 + x^4 + x^2 + x + 1\n"
     ]
    }
   ],
   "source": [
    "n = 75577399\n",
    "\n",
    "R = PolynomialRing(GF(2), 'x')\n",
    "x = R.gen()\n",
    "coeficientes = list(map(int, bin(n)[2:]))\n",
    "f = 0\n",
    "for coeficiente in coeficientes[:-1]:\n",
    "        f = x*(coeficiente + f)\n",
    "\n",
    "f = f+coeficientes[-1]\n",
    "print(f\"f(x)= {f}\")"
   ]
  },
  {
   "cell_type": "markdown",
   "metadata": {},
   "source": [
    "### Apartado 1 \n",
    "\n",
    "Sea $f(x)$ el polinomio que obtienes con coeficientes en $Z$. \n",
    "\n",
    "Toma $g(x)=f(x) \\mod 2$ y halla el menor cuerpo de característica 2 que contenga a todas las raíces de $g$. \n",
    "¿Qué se deduce sobre la irreducibilidad de $g(x)$ en $Z_2[x]$."
   ]
  },
  {
   "cell_type": "markdown",
   "metadata": {},
   "source": [
    "Veamos primero si es libre de cuadrados viendo que el máximo común divisor con su derivada es 1"
   ]
  },
  {
   "cell_type": "code",
   "execution_count": 93,
   "metadata": {},
   "outputs": [
    {
     "data": {
      "text/plain": [
       "1"
      ]
     },
     "execution_count": 93,
     "metadata": {},
     "output_type": "execute_result"
    }
   ],
   "source": [
    "df = derivative(f,x)\n",
    "df\n",
    "\n",
    "f.gcd(df)"
   ]
  },
  {
   "cell_type": "markdown",
   "metadata": {},
   "source": [
    "Efectivamente es libre de cuadrados ahora aplicaremos el algoritmo para calcular cf menor: "
   ]
  },
  {
   "cell_type": "code",
   "execution_count": 94,
   "metadata": {},
   "outputs": [
    {
     "name": "stdout",
     "output_type": "stream",
     "text": [
      "El cuerpo es F_2^153\n"
     ]
    }
   ],
   "source": [
    "def PotenciaCuerpoFinito(f,p):\n",
    "    g = x^p\n",
    "    g1 = (g - x)%f\n",
    "    k = 1\n",
    "    while g1!= 0: \n",
    "        g = g^p % f\n",
    "        g1 = (g - x)%f \n",
    "        k = k+1\n",
    "    return k\n",
    "\n",
    "p = 2\n",
    "k = PotenciaCuerpoFinito(f,p)\n",
    "    \n",
    "print(f\"El cuerpo es F_2^{k}\")"
   ]
  },
  {
   "cell_type": "markdown",
   "metadata": {},
   "source": [
    "Tomando el K retornado se tiene que el el menor cuerpo finito que contiene sus raíces es \n",
    "$F_{2^k}$\n",
    "como el K obtenido es mayor que el grado de f se tiene que f es reducible . "
   ]
  },
  {
   "cell_type": "markdown",
   "metadata": {},
   "source": [
    "### Apartado segundo \n",
    "\n",
    "Extrae la parte libre de cuadrados de g(x) y calcula su matriz de Berlekamp por columnas. Resuelve el sistema $(B-Id)X=0$\n",
    "\n",
    "--- \n",
    "Ya hemos visto en el apartado primero que era libre de cuadrados."
   ]
  },
  {
   "cell_type": "code",
   "execution_count": 95,
   "metadata": {},
   "outputs": [
    {
     "name": "stdout",
     "output_type": "stream",
     "text": [
      "La matrix de Berlekamp es \n",
      "[1 0 0 0 0 0 0 0 0 0 0 0 0 0 0 0 0 0 0 0 0 0 0 0 0 0]\n",
      "[0 0 1 0 0 0 0 0 0 0 0 0 0 0 0 0 0 0 0 0 0 0 0 0 0 0]\n",
      "[0 0 0 0 1 0 0 0 0 0 0 0 0 0 0 0 0 0 0 0 0 0 0 0 0 0]\n",
      "[0 0 0 0 0 0 1 0 0 0 0 0 0 0 0 0 0 0 0 0 0 0 0 0 0 0]\n",
      "[0 0 0 0 0 0 0 0 1 0 0 0 0 0 0 0 0 0 0 0 0 0 0 0 0 0]\n",
      "[0 0 0 0 0 0 0 0 0 0 1 0 0 0 0 0 0 0 0 0 0 0 0 0 0 0]\n",
      "[0 0 0 0 0 0 0 0 0 0 0 0 1 0 0 0 0 0 0 0 0 0 0 0 0 0]\n",
      "[0 0 0 0 0 0 0 0 0 0 0 0 0 0 1 0 0 0 0 0 0 0 0 0 0 0]\n",
      "[0 0 0 0 0 0 0 0 0 0 0 0 0 0 0 0 1 0 0 0 0 0 0 0 0 0]\n",
      "[0 0 0 0 0 0 0 0 0 0 0 0 0 0 0 0 0 0 1 0 0 0 0 0 0 0]\n",
      "[0 0 0 0 0 0 0 0 0 0 0 0 0 0 0 0 0 0 0 0 1 0 0 0 0 0]\n",
      "[0 0 0 0 0 0 0 0 0 0 0 0 0 0 0 0 0 0 0 0 0 0 1 0 0 0]\n",
      "[0 0 0 0 0 0 0 0 0 0 0 0 0 0 0 0 0 0 0 0 0 0 0 0 1 0]\n",
      "[1 1 1 0 1 1 0 0 0 0 0 1 1 1 0 0 1 0 0 0 0 0 0 1 0 0]\n",
      "[0 0 1 1 1 0 1 1 0 0 0 0 0 1 1 1 0 0 1 0 0 0 0 0 0 1]\n",
      "[0 1 1 1 1 0 0 0 1 1 0 0 1 1 1 1 1 0 0 0 1 0 0 0 1 0]\n",
      "[1 1 1 1 0 0 1 0 0 0 1 0 1 1 1 1 0 1 1 0 0 0 1 1 0 0]\n",
      "[0 0 1 1 1 1 0 0 1 0 0 0 1 0 1 1 1 1 0 1 1 0 0 0 1 1]\n",
      "[1 0 0 1 0 1 0 1 0 0 1 1 0 0 0 0 0 0 1 1 0 1 1 1 1 0]\n",
      "[1 1 0 0 1 0 0 1 0 1 0 1 0 0 0 0 1 0 0 0 1 1 0 0 1 1]\n",
      "[1 0 1 0 1 0 0 0 0 1 0 0 0 1 1 0 1 1 1 0 0 0 1 0 1 0]\n",
      "[1 1 0 0 0 1 1 0 0 0 0 0 1 1 0 1 0 0 1 1 1 0 0 1 1 0]\n",
      "[1 1 0 1 1 1 0 1 1 0 0 1 1 1 1 1 1 1 0 0 1 1 1 1 0 1]\n",
      "[0 1 0 0 0 0 0 1 0 1 1 0 1 0 0 1 1 0 1 1 0 0 1 1 0 1]\n",
      "[0 1 1 0 0 1 1 0 0 1 0 1 0 1 0 0 0 0 1 0 1 1 0 0 0 1]\n",
      "[0 1 1 0 1 1 1 1 1 0 0 1 1 0 1 1 0 1 0 0 1 0 1 1 1 0]\n"
     ]
    }
   ],
   "source": [
    "def BerlekampMatrix(f):\n",
    "    Berlekamp = []\n",
    "    grado = f.degree()\n",
    "    for i in range(grado):\n",
    "        zero_row = [0 for i in range(grado)]\n",
    "        h = x^(2*i)%f\n",
    "        new_row = h.list()\n",
    "        zero_row[:len(new_row)] = new_row\n",
    "\n",
    "        Berlekamp.append(zero_row)\n",
    "        #print(Berlekamp[i])\n",
    "    return matrix(Berlekamp)\n",
    "    \n",
    "\n",
    "\n",
    "B = BerlekampMatrix(f)\n",
    "print(\"La matrix de Berlekamp es \")\n",
    "print(B)"
   ]
  },
  {
   "cell_type": "code",
   "execution_count": 97,
   "metadata": {},
   "outputs": [
    {
     "name": "stdout",
     "output_type": "stream",
     "text": [
      "[0 0 0 0 0 0 0 0 0 0 0 0 0 0 0 0 0 0 0 0 0 0 0 0 0 0]\n",
      "[0 1 1 0 0 0 0 0 0 0 0 0 0 0 0 0 0 0 0 0 0 0 0 0 0 0]\n",
      "[0 0 1 0 1 0 0 0 0 0 0 0 0 0 0 0 0 0 0 0 0 0 0 0 0 0]\n",
      "[0 0 0 1 0 0 1 0 0 0 0 0 0 0 0 0 0 0 0 0 0 0 0 0 0 0]\n",
      "[0 0 0 0 1 0 0 0 1 0 0 0 0 0 0 0 0 0 0 0 0 0 0 0 0 0]\n",
      "[0 0 0 0 0 1 0 0 0 0 1 0 0 0 0 0 0 0 0 0 0 0 0 0 0 0]\n",
      "[0 0 0 0 0 0 1 0 0 0 0 0 1 0 0 0 0 0 0 0 0 0 0 0 0 0]\n",
      "[0 0 0 0 0 0 0 1 0 0 0 0 0 0 1 0 0 0 0 0 0 0 0 0 0 0]\n",
      "[0 0 0 0 0 0 0 0 1 0 0 0 0 0 0 0 1 0 0 0 0 0 0 0 0 0]\n",
      "[0 0 0 0 0 0 0 0 0 1 0 0 0 0 0 0 0 0 1 0 0 0 0 0 0 0]\n",
      "[0 0 0 0 0 0 0 0 0 0 1 0 0 0 0 0 0 0 0 0 1 0 0 0 0 0]\n",
      "[0 0 0 0 0 0 0 0 0 0 0 1 0 0 0 0 0 0 0 0 0 0 1 0 0 0]\n",
      "[0 0 0 0 0 0 0 0 0 0 0 0 1 0 0 0 0 0 0 0 0 0 0 0 1 0]\n",
      "[1 1 1 0 1 1 0 0 0 0 0 1 1 0 0 0 1 0 0 0 0 0 0 1 0 0]\n",
      "[0 0 1 1 1 0 1 1 0 0 0 0 0 1 0 1 0 0 1 0 0 0 0 0 0 1]\n",
      "[0 1 1 1 1 0 0 0 1 1 0 0 1 1 1 0 1 0 0 0 1 0 0 0 1 0]\n",
      "[1 1 1 1 0 0 1 0 0 0 1 0 1 1 1 1 1 1 1 0 0 0 1 1 0 0]\n",
      "[0 0 1 1 1 1 0 0 1 0 0 0 1 0 1 1 1 0 0 1 1 0 0 0 1 1]\n",
      "[1 0 0 1 0 1 0 1 0 0 1 1 0 0 0 0 0 0 0 1 0 1 1 1 1 0]\n",
      "[1 1 0 0 1 0 0 1 0 1 0 1 0 0 0 0 1 0 0 1 1 1 0 0 1 1]\n",
      "[1 0 1 0 1 0 0 0 0 1 0 0 0 1 1 0 1 1 1 0 1 0 1 0 1 0]\n",
      "[1 1 0 0 0 1 1 0 0 0 0 0 1 1 0 1 0 0 1 1 1 1 0 1 1 0]\n",
      "[1 1 0 1 1 1 0 1 1 0 0 1 1 1 1 1 1 1 0 0 1 1 0 1 0 1]\n",
      "[0 1 0 0 0 0 0 1 0 1 1 0 1 0 0 1 1 0 1 1 0 0 1 0 0 1]\n",
      "[0 1 1 0 0 1 1 0 0 1 0 1 0 1 0 0 0 0 1 0 1 1 0 0 1 1]\n",
      "[0 1 1 0 1 1 1 1 1 0 0 1 1 0 1 1 0 1 0 0 1 0 1 1 1 1]\n",
      "f(x) no es irreducible\n"
     ]
    }
   ],
   "source": [
    "# queremos resolver el sistema lineal (B-Id)X=0.\n",
    "\n",
    "def BerlekampCriterio(B, f):\n",
    "    # A = (B-Id)\n",
    "    A = B -identity_matrix(f.degree())\n",
    "    print(A)\n",
    "\n",
    "    #veamos cuantas sol tiene \n",
    "    rango = rank(A)\n",
    "    r = f.degree() - rango\n",
    "    return r \n",
    "\n",
    "\n",
    "r = BerlekampCriterio(B,f)\n",
    "if r==1:\n",
    "    print(\"f(x) es irreducible en Z_2 pues r=1\" )\n",
    "else:\n",
    "    print(\"f(x) no es irreducible\")"
   ]
  },
  {
   "cell_type": "code",
   "execution_count": 99,
   "metadata": {},
   "outputs": [
    {
     "name": "stdout",
     "output_type": "stream",
     "text": [
      "K =153 y el grado de f es =26\n"
     ]
    }
   ],
   "source": [
    "grado = f.degree()\n",
    "print(f\"K ={k} y el grado de f es ={grado}\")"
   ]
  },
  {
   "cell_type": "markdown",
   "metadata": {},
   "source": [
    "los grados $x,y$ de los polimomio tiene que cumplir que \n",
    "$xy=k$ y $x+y=grado(f)$"
   ]
  },
  {
   "cell_type": "code",
   "execution_count": 101,
   "metadata": {},
   "outputs": [
    {
     "name": "stdout",
     "output_type": "stream",
     "text": [
      "[\n",
      "x == 9,\n",
      "x == 17\n",
      "]\n",
      "Soluciones x=9 e y=17\n",
      "Soluciones x=15 e y=51/5\n"
     ]
    }
   ],
   "source": [
    "y = var('x')\n",
    "print(solve(y^2-grado*y+k, y))\n",
    "soluciones = [9,15]\n",
    "\n",
    "for x in soluciones:\n",
    "    y = k/x\n",
    "    print(f\"Soluciones x={x} e y={y}\")"
   ]
  },
  {
   "cell_type": "markdown",
   "metadata": {},
   "source": [
    "Luego para nuestro polinomio uno será de grado 9 y el otro de 17"
   ]
  }
 ],
 "metadata": {
  "interpreter": {
   "hash": "10ee41b0a2b4dea8aca2e0ba0733240772c8bdfa2bc24a889a116731a918817c"
  },
  "kernelspec": {
   "display_name": "SageMath 9.5",
   "language": "sage",
   "name": "SageMath-9.5"
  },
  "language_info": {
   "codemirror_mode": {
    "name": "ipython",
    "version": 3
   },
   "file_extension": ".py",
   "mimetype": "text/x-python",
   "name": "python",
   "nbconvert_exporter": "python",
   "pygments_lexer": "ipython3",
   "version": "3.9.9"
  },
  "orig_nbformat": 4
 },
 "nbformat": 4,
 "nbformat_minor": 2
}
