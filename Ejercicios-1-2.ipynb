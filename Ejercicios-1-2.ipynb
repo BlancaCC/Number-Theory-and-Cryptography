{
 "cells": [
  {
   "cell_type": "markdown",
   "metadata": {},
   "source": [
    "# Ejercicios Teoría de Números \n",
    "## Datos personales\n",
    "- Alumna: Blanca Cana Camarero \n",
    "- Correo: blancacano@correo.ugr.es\n",
    "\n",
    "## Ejercicio primero \n",
    "Dado un número : "
   ]
  },
  {
   "cell_type": "markdown",
   "metadata": {},
   "source": []
  },
  {
   "cell_type": "code",
   "execution_count": 2,
   "metadata": {},
   "outputs": [
    {
     "data": {
      "text/plain": [
       "75577392"
      ]
     },
     "execution_count": 2,
     "metadata": {},
     "output_type": "execute_result"
    }
   ],
   "source": [
    "n = 75577392"
   ]
  },
  {
   "cell_type": "markdown",
   "metadata": {},
   "source": [
    "i) Mientras $n$ sea múltiplo de 2, 3, 5, 7 u 11 le sumas uno. De forma que tu nuevo $n$ no tenga esos divisores primos."
   ]
  },
  {
   "cell_type": "code",
   "execution_count": 3,
   "metadata": {},
   "outputs": [
    {
     "name": "stdout",
     "output_type": "stream",
     "text": [
      "El valor n = 75577393 no es múltiplo de ningún elemento de [2, 3, 5, 7, 11]."
     ]
    }
   ],
   "source": [
    "primos = [2,3,5,7,11]\n",
    "no_es_multiplo = true\n",
    "while no_es_multiplo\n",
    "    no_es_multiplo = false\n",
    "    for p in primos\n",
    "        if mod(n,p) == 0\n",
    "            n += 1\n",
    "            no_es_multiplo = true\n",
    "        end\n",
    "    end\n",
    "end\n",
    "print(\"El valor n = $n no es múltiplo de ningún elemento de $primos.\")"
   ]
  },
  {
   "cell_type": "markdown",
   "metadata": {},
   "source": [
    "ii) Calcula $a^{n-1}$ mod $n$, para cada uno de esas cinco bases usando sucesivamente el algoritmo de izquierda-derecha y de derecha.\n",
    "\n",
    "### Base matemática  \n",
    "**Pequeño teorema de Fermat**  \n",
    "\n",
    "Sea $p$ un número primo, entonces para cada natural $a > 0$ se tiene que \n",
    "$$a^p \\equiv a \\mod(p)$$\n",
    "\n",
    "Razonaremos por contradicción, si encontramos un $a$ natural positivo tal que \n",
    "$$a^{p-1} \\mod p \\not \\equiv 1$$\n",
    "entonces sabremos que $p$ no es primo.\n",
    "\n",
    "TODO-\n",
    "En caso contrario diremos que $p$ es un candidato a primo en la base $a$ de Fermat. \n",
    "\n",
    "Antes de aplicar el algoritmo, necesitaremos calcular la exponencial, lo haremos por dos método de la exponencial rápida. \n",
    "\n",
    "#### Algoritmo de derecha izquierda\n",
    "La idea que subyace es que los dígitos en binario no se conocen, así que se van calculando a la par que se aplica el algoritmo. "
   ]
  },
  {
   "cell_type": "code",
   "execution_count": 33,
   "metadata": {},
   "outputs": [
    {
     "name": "stdout",
     "output_type": "stream",
     "text": [
      "paso 0, acu: 1, base: 2\n",
      "paso 1, acu: 1, base: 4\n",
      "paso 2, acu: 4, base: 16\n",
      "paso 3, acu: 64, base: 256\n",
      "paso 4, acu: 16384, base: 65536\n",
      "paso 5, acu: 16384, base: 4294967296\n",
      "paso 6, acu: 16384, base: 0\n",
      "paso 7, acu: 0, base: 0\n",
      "paso 8, acu: 0, base: 0\n",
      "paso 9, acu: 0, base: 0\n",
      "paso 10, acu: 0, base: 0\n",
      "paso 11, acu: 0, base: 0\n",
      "paso 12, acu: 0, base: 0\n",
      "paso 13, acu: 0, base: 0\n",
      "paso 14, acu: 0, base: 0\n",
      "paso 15, acu: 0, base: 0\n",
      "paso 16, acu: 0, base: 0\n",
      "paso 17, acu: 0, base: 0\n",
      "paso 18, acu: 0, base: 0\n",
      "paso 19, acu: 0, base: 0\n",
      "paso 20, acu: 0, base: 0\n",
      "paso 21, acu: 0, base: 0\n",
      "paso 22, acu: 0, base: 0\n",
      "paso 23, acu: 0, base: 0\n",
      "paso 24, acu: 0, base: 0\n",
      "paso 25, acu: 0, base: 0\n"
     ]
    },
    {
     "data": {
      "text/plain": [
       "0"
      ]
     },
     "execution_count": 33,
     "metadata": {},
     "output_type": "execute_result"
    }
   ],
   "source": [
    "function RightToLeftFastExponential(base::Integer, exp::Integer, p :: Integer)\n",
    "    x = base \n",
    "    y = mod(exp,2) == 1 ? base : 1\n",
    "    exp= floor(Int, exp/2)\n",
    "    while  exp> 0\n",
    "        x = mod(x^2, p)\n",
    "        if mod(exp, 2) == 1\n",
    "            y = (y==1) ? x : mod(x*y , p)\n",
    "        end\n",
    "        exp = floor(Int, exp/2)  \n",
    "    end\n",
    "    return y\n",
    "end\n",
    "\n",
    "function VerboseRightToLeftFastExponential(base::Integer, exp::Integer, p :: Integer)\n",
    "    paso = 0\n",
    "    acc = 1\n",
    "    num = exp\n",
    "    aux_exp = 0\n",
    "\n",
    "    println(\"paso $paso, acu: $acc, base: $base\")\n",
    "    while num>0\n",
    "        if mod(num, 2) == 1\n",
    "            acc*= base\n",
    "            aux_exp += 2^paso\n",
    "        end\n",
    "        base ^= 2\n",
    "        num = floor(Int, num/2)\n",
    "        # Vamos calculando módulo\n",
    "        acc = mod(acc, p)\n",
    "        paso +=1\n",
    "        println(\"paso $paso, acu: $acc, base: $base\")\n",
    "    end \n",
    "    return acc\n",
    "end\n",
    "p=27213647\n",
    "VerboseRightToLeftFastExponential(2, p-1, p)"
   ]
  },
  {
   "cell_type": "code",
   "execution_count": 17,
   "metadata": {},
   "outputs": [
    {
     "name": "stdout",
     "output_type": "stream",
     "text": [
      "ALGORITMO DE DERECHA A IZQUIERDA \n",
      "Para base b=2 50057215\n",
      "Para base b=5 58601398\n",
      "Para base b=7 22113448\n",
      "Para base b=11 21343212\n"
     ]
    }
   ],
   "source": [
    "bases = [2,5,7,11]\n",
    "println(\"ALGORITMO DE DERECHA A IZQUIERDA \")\n",
    "for b in bases\n",
    "    r = RightToLeftFastExponential(b, n-1, n)\n",
    "    println(\"Para base b=$(b) $(r)\")\n",
    "end\n"
   ]
  },
  {
   "cell_type": "markdown",
   "metadata": {},
   "source": [
    "### Algoritmo de derecha a izquierda \n",
    "- Se calcula previamente el valor del número en base 2. "
   ]
  },
  {
   "cell_type": "code",
   "execution_count": 27,
   "metadata": {},
   "outputs": [
    {
     "name": "stdout",
     "output_type": "stream",
     "text": [
      "p-1 = 27213646 = 1100111110011111101001110 _2\n",
      "Paso 0 , acu: 1\n",
      "Paso 1 , acu: 2\n",
      "Paso 2 , acu: 8\n",
      "Paso 3 , acu: 64\n",
      "Paso 4 , acu: 4096\n",
      "Paso 5 , acu: 6340785\n",
      "Paso 6 , acu: 6967674\n",
      "Paso 7 , acu: 2913255\n",
      "Paso 8 , acu: 5278505\n",
      "Paso 9 , acu: 8390032\n",
      "Paso 10 , acu: 21530122\n",
      "Paso 11 , acu: 20718507\n",
      "Paso 12 , acu: 6234754\n",
      "Paso 13 , acu: 14354021\n",
      "Paso 14 , acu: 18664779\n",
      "Paso 15 , acu: 21238793\n",
      "Paso 16 , acu: 9159785\n",
      "Paso 17 , acu: 1897988\n",
      "Paso 18 , acu: 6353813\n",
      "Paso 19 , acu: 22747524\n",
      "Paso 20 , acu: 12082479\n",
      "Paso 21 , acu: 22922644\n",
      "Paso 22 , acu: 15226206\n",
      "Paso 23 , acu: 8424067\n",
      "Paso 24 , acu: 1\n",
      "Paso 25 , acu: 1\n"
     ]
    },
    {
     "data": {
      "text/plain": [
       "1"
      ]
     },
     "execution_count": 27,
     "metadata": {},
     "output_type": "execute_result"
    }
   ],
   "source": [
    "function LeftToRightFastExponential(base::Integer, exp::Integer, p::Integer)\n",
    "    binary_exp = string(exp; base=2)\n",
    "    acc = 1\n",
    "    aux_exp = 0\n",
    "    for i in binary_exp\n",
    "        acc ^=2\n",
    "        aux_exp *= 2\n",
    "        if i == '1'\n",
    "            acc *= base \n",
    "            exp += 1\n",
    "        end\n",
    "    end \n",
    "    acc = mod(acc, p)\n",
    "    return acc\n",
    "end \n",
    "\n",
    "# verbose version \n",
    "function VerboseLeftToRightFastExponential(base::Integer, exp::Integer, p::Integer)\n",
    "    binary_exp = string(exp; base=2)\n",
    "    println(\"p-1 = $exp = $binary_exp _2\")\n",
    "    paso = 0\n",
    "    acc = 1\n",
    "    aux_exp = 0\n",
    "    println(\"Paso $paso , acu: $acc\")\n",
    "    for i in binary_exp\n",
    "        acc ^=2\n",
    "        aux_exp *= 2\n",
    "        paso +=1\n",
    "        if i == '1'\n",
    "            acc *= base \n",
    "            exp += 1\n",
    "        end\n",
    "        acc = mod(acc, p)\n",
    "        println(\"Paso $paso , acu: $acc\")\n",
    "    end \n",
    "    return acc\n",
    "end \n",
    "# Ejemplo de la diapositiva\n",
    "p=27213647\n",
    "VerboseLeftToRightFastExponential(2, p-1, p)"
   ]
  },
  {
   "cell_type": "code",
   "execution_count": 24,
   "metadata": {},
   "outputs": [
    {
     "name": "stdout",
     "output_type": "stream",
     "text": [
      "ALGORITMO IZQUIERDA A DERECHA\n",
      "Para base b=2 0\n",
      "Para base b=5 69095490\n",
      "Para base b=7 41203985\n",
      "Para base b=11 39074249\n"
     ]
    }
   ],
   "source": [
    "bases = [2,5,7,11]\n",
    "println(\"ALGORITMO IZQUIERDA A DERECHA\")\n",
    "for b in bases\n",
    "    r =  LeftToRightFastExponential(b, n-1, n)\n",
    "    println(\"Para base b=$(b) $(r)\")\n",
    "end\n"
   ]
  },
  {
   "cell_type": "code",
   "execution_count": 26,
   "metadata": {},
   "outputs": [
    {
     "name": "stdout",
     "output_type": "stream",
     "text": [
      "ALGORITMO DE DERECHA A IZQUIERDA \n",
      "Para base b=2 50057215 vs 0\n",
      "Para base b=5 58601398 vs 69095490\n",
      "Para base b=7 22113448 vs 41203985\n",
      "Para base b=11 21343212 vs 39074249\n"
     ]
    }
   ],
   "source": [
    "bases = [2,5,7,11]\n",
    "println(\"ALGORITMO DE DERECHA A IZQUIERDA \")\n",
    "for b in bases\n",
    "    r1 = RightToLeftFastExponential(b, n-1, n)\n",
    "    r2 = LeftToRightFastExponential(b, n-1, n)\n",
    "    println(\"Para base b=$(b) $(r1) vs $r2\")\n",
    "end\n"
   ]
  },
  {
   "cell_type": "code",
   "execution_count": 6,
   "metadata": {},
   "outputs": [
    {
     "name": "stdout",
     "output_type": "stream",
     "text": [
      "= 0 que en mi algoritmo es 0\n",
      "= 1 que en mi algoritmo es 1\n",
      "= 0 que en mi algoritmo es 0\n",
      "= 1 que en mi algoritmo es 1\n",
      "= 1 que en mi algoritmo es 1\n",
      "= 1 que en mi algoritmo es 1\n",
      "= 0 que en mi algoritmo es 0\n",
      "= 1 que en mi algoritmo es 1\n",
      "= 0 que en mi algoritmo es 0\n",
      "= 0 que en mi algoritmo es 0\n",
      "= 1 que en mi algoritmo es 1\n",
      "= 1 que en mi algoritmo es 1\n",
      "= 0 que en mi algoritmo es 0\n",
      "= 1 que en mi algoritmo es 1\n",
      "= 1 que en mi algoritmo es 1\n",
      "= 0 que en mi algoritmo es 0\n",
      "= 1 que en mi algoritmo es 1\n",
      "= 1 que en mi algoritmo es 1\n",
      "= 0 que en mi algoritmo es 0\n",
      "= 1 que en mi algoritmo es 1\n",
      "= 1 que en mi algoritmo es 1\n",
      "= 0 que en mi algoritmo es 0\n",
      "= 1 que en mi algoritmo es 1\n",
      "= 1 que en mi algoritmo es 1\n",
      "= 0 que en mi algoritmo es 0\n",
      "= 1 que en mi algoritmo es 1\n",
      "= 1 que en mi algoritmo es 1\n",
      "= 0 que en mi algoritmo es 0\n",
      "= 1 que en mi algoritmo es 1\n",
      "= 4 que en mi algoritmo es 4\n",
      "Hay 0 errores\n",
      "Any[]\n"
     ]
    }
   ],
   "source": [
    "# Test\n",
    "errores = 0\n",
    "l = []\n",
    "f(a,b,n) = mod(a^b, n)\n",
    "for i in 1:10\n",
    "    for n in [2,3,5]\n",
    "        b,e = map(abs, rand(big.(2:10),2 )) \n",
    "        x = f(b,e,n)\n",
    "        y = RightToLeftFastExponential(b,e,n)\n",
    "        if x != y \n",
    "             errores +=1 \n",
    "             push!(l, (b,e,n))\n",
    "        end\n",
    "        println(\"= $(f(b,e,n)) que en mi algoritmo es $(RightToLeftFastExponential(b,e,n))\")\n",
    "    end\n",
    "end\n",
    "println(\"Hay $(errores) errores\")\n",
    "println(l)"
   ]
  },
  {
   "cell_type": "code",
   "execution_count": null,
   "metadata": {},
   "outputs": [],
   "source": []
  }
 ],
 "metadata": {
  "kernelspec": {
   "display_name": "Julia 1.7.1",
   "language": "julia",
   "name": "julia-1.7"
  },
  "language_info": {
   "file_extension": ".jl",
   "mimetype": "application/julia",
   "name": "julia",
   "version": "1.7.1"
  },
  "orig_nbformat": 4
 },
 "nbformat": 4,
 "nbformat_minor": 2
}
