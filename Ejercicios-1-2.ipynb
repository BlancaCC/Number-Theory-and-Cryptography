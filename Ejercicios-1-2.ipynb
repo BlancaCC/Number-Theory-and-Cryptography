{
 "cells": [
  {
   "cell_type": "markdown",
   "metadata": {},
   "source": [
    "# Ejercicios Teoría de Números \n",
    "## Datos personales\n",
    "- Alumna: Blanca Cana Camarero \n",
    "- Correo: blancacano@correo.ugr.es\n",
    "\n",
    "## Ejercicio primero \n",
    "Dado un número : "
   ]
  },
  {
   "cell_type": "markdown",
   "metadata": {},
   "source": []
  },
  {
   "cell_type": "code",
   "execution_count": 3,
   "metadata": {},
   "outputs": [
    {
     "data": {
      "text/plain": [
       "75577392"
      ]
     },
     "execution_count": 3,
     "metadata": {},
     "output_type": "execute_result"
    }
   ],
   "source": [
    "n = 75577392"
   ]
  },
  {
   "cell_type": "markdown",
   "metadata": {},
   "source": [
    "i) Mientras $n$ sea múltiplo de 2, 3, 5, 7 u 11 le sumas uno. De forma que tu nuevo $n$ no tenga esos divisores primos."
   ]
  },
  {
   "cell_type": "code",
   "execution_count": 11,
   "metadata": {},
   "outputs": [
    {
     "name": "stdout",
     "output_type": "stream",
     "text": [
      "El valor n = 75577393 no es múltiplo de ningún elemento de [2, 3, 5, 7, 11]."
     ]
    }
   ],
   "source": [
    "primos = [2,3,5,7,11]\n",
    "no_es_multiplo = true\n",
    "while no_es_multiplo\n",
    "    no_es_multiplo = false\n",
    "    for p in primos\n",
    "        if mod(n,p) == 0\n",
    "            n += 1\n",
    "            no_es_multiplo = true\n",
    "        end\n",
    "    end\n",
    "end\n",
    "print(\"El valor n = $n no es múltiplo de ningún elemento de $primos.\")"
   ]
  },
  {
   "cell_type": "markdown",
   "metadata": {},
   "source": [
    "ii) Calcula $a^{n-1}$ mod $n$, para cada uno de esas cinco bases usando sucesivamente el algoritmo de izquierda-derecha y de derecha.\n",
    "\n",
    "### Base matemática  \n",
    "**Pequeño teorema de Fermat**  \n",
    "\n",
    "Sea $p$ un número primo, entonces para cada natural $a > 0$ se tiene que \n",
    "$$a^p \\equiv a \\mod(p)$$\n",
    "\n",
    "Razonaremos por contradicción, si encontramos un $a$ natural positivo tal que \n",
    "$$a^{p-1} \\mod p \\not \\equiv 1$$\n",
    "entonces sabremos que $p$ no es primo.\n",
    "\n",
    "TODO-\n",
    "En caso contrario diremos que $p$ es un candidato a primo en la base $a$ de Fermat. \n",
    "\n",
    "Antes de aplicar el algoritmo, necesitaremos calcular la exponencial, lo haremos por dos método de la exponencial rápida. \n",
    "\n",
    "#### Algoritmo de izquierda derecha  \n"
   ]
  },
  {
   "cell_type": "code",
   "execution_count": 13,
   "metadata": {},
   "outputs": [
    {
     "data": {
      "text/plain": [
       "RightToLeftFastExponential (generic function with 1 method)"
      ]
     },
     "execution_count": 13,
     "metadata": {},
     "output_type": "execute_result"
    }
   ],
   "source": [
    "function RightToLeftFastExponential(base::Integer, exp::Integer, p :: Integer)\n",
    "    x = base \n",
    "    y = mod(exp,2) == 1 ? base : 1\n",
    "    exp= floor(Int, exp/2)\n",
    "    while  exp> 0\n",
    "        x = mod(x^2, p)\n",
    "        if mod(exp, 2) == 1\n",
    "            y = (y==1) ? x : mod(x*y , p)\n",
    "        end\n",
    "        exp = floor(Int, exp/2)  \n",
    "    end\n",
    "    return y\n",
    "end"
   ]
  },
  {
   "cell_type": "code",
   "execution_count": 19,
   "metadata": {},
   "outputs": [
    {
     "name": "stdout",
     "output_type": "stream",
     "text": [
      "Para base b=2 21102512\n",
      "Para base b=5 25269293\n",
      "Para base b=7 59527255\n",
      "Para base b=11 19941251\n"
     ]
    }
   ],
   "source": [
    "bases = [2,5,7,11]\n",
    "for b in bases\n",
    "    r = RightToLeftFastExponential(b, n-1, n)\n",
    "    println(\"Para base b=$(b) $(r)\")\n",
    "end\n",
    "\n"
   ]
  },
  {
   "cell_type": "code",
   "execution_count": 12,
   "metadata": {},
   "outputs": [
    {
     "name": "stdout",
     "output_type": "stream",
     "text": [
      "= 0 que en mi algoritmo es 0\n",
      "= 2 que en mi algoritmo es 2\n",
      "= 0 que en mi algoritmo es 0\n",
      "= 1 que en mi algoritmo es 1\n",
      "= 1 que en mi algoritmo es 1\n",
      "= 4 que en mi algoritmo es 4\n",
      "= 0 que en mi algoritmo es 0\n",
      "= 1 que en mi algoritmo es 1\n",
      "= 3 que en mi algoritmo es 3\n",
      "= 0 que en mi algoritmo es 0\n",
      "= 1 que en mi algoritmo es 1\n",
      "= 0 que en mi algoritmo es 0\n",
      "= 1 que en mi algoritmo es 1\n",
      "= 0 que en mi algoritmo es 0\n",
      "= 4 que en mi algoritmo es 4\n",
      "= 1 que en mi algoritmo es 1\n",
      "= 0 que en mi algoritmo es 0\n",
      "= 4 que en mi algoritmo es 4\n",
      "= 0 que en mi algoritmo es 0\n",
      "= 1 que en mi algoritmo es 1\n",
      "= 4 que en mi algoritmo es 4\n",
      "= 0 que en mi algoritmo es 0\n",
      "= 1 que en mi algoritmo es 1\n",
      "= 3 que en mi algoritmo es 3\n",
      "= 0 que en mi algoritmo es 0\n",
      "= 0 que en mi algoritmo es 0\n",
      "= 0 que en mi algoritmo es 0\n",
      "= 0 que en mi algoritmo es 0\n",
      "= 2 que en mi algoritmo es 2\n",
      "= 2 que en mi algoritmo es 2\n",
      "Hay 0 errores\n",
      "Any[]\n"
     ]
    }
   ],
   "source": [
    "# Test\n",
    "errores = 0\n",
    "l = []\n",
    "f(a,b,n) = mod(a^b, n)\n",
    "for i in 1:10\n",
    "    for n in [2,3,5]\n",
    "        b,e = map(abs, rand(big.(2:10),2 )) \n",
    "        x = f(b,e,n)\n",
    "        y = RightToLeftFastExponential(b,e,n)\n",
    "        if x != y \n",
    "             errores +=1 \n",
    "             push!(l, (b,e,n))\n",
    "        end\n",
    "        println(\"= $(f(b,e,n)) que en mi algoritmo es $(RightToLeftFastExponential(b,e,n))\")\n",
    "    end\n",
    "end\n",
    "println(\"Hay $(errores) errores\")\n",
    "println(l)"
   ]
  },
  {
   "cell_type": "code",
   "execution_count": null,
   "metadata": {},
   "outputs": [],
   "source": []
  }
 ],
 "metadata": {
  "kernelspec": {
   "display_name": "Julia 1.7.1",
   "language": "julia",
   "name": "julia-1.7"
  },
  "language_info": {
   "file_extension": ".jl",
   "mimetype": "application/julia",
   "name": "julia",
   "version": "1.7.1"
  },
  "orig_nbformat": 4
 },
 "nbformat": 4,
 "nbformat_minor": 2
}
