{
 "cells": [
  {
   "cell_type": "markdown",
   "metadata": {},
   "source": [
    "# Ejercicio 7\n",
    "Alumna: Blanca Cano Camarero  \n",
    "Correo: blancacano@correo.ugr.es"
   ]
  },
  {
   "cell_type": "markdown",
   "metadata": {},
   "source": [
    "Dados los número $n$ y $d$ definidos de la siguiente forma"
   ]
  },
  {
   "cell_type": "code",
   "execution_count": 2,
   "metadata": {},
   "outputs": [
    {
     "name": "stdout",
     "output_type": "stream",
     "text": [
      "n = 32626283485046465973090501329113 es primo True\n",
      "d = 5\n"
     ]
    }
   ],
   "source": [
    "n = 32626283485046465973090501329113\n",
    "candidato = 5\n",
    "factor = 1\n",
    "while kronecker(factor*candidato, n) != -1:\n",
    "    candidato += 2\n",
    "    factor *= -1\n",
    "d = candidato*factor \n",
    "\n",
    "print(f\"n = {n} es primo {is_prime(n)}\")\n",
    "print(f\"d = {d}\")"
   ]
  },
  {
   "cell_type": "markdown",
   "metadata": {},
   "source": [
    "### Apartado primero \n",
    "\n",
    "Con $P=1$, $Q=\\frac{1-d}{4},$ define el entero cuadrático $\\alpha$ y sus sucesiones de Lucas asociadas."
   ]
  },
  {
   "cell_type": "code",
   "execution_count": 9,
   "metadata": {},
   "outputs": [
    {
     "name": "stdout",
     "output_type": "stream",
     "text": [
      "P=1\n",
      "Q=-1\n",
      "𝛂 = 1/2*sqrt(5) + 1/2\n"
     ]
    }
   ],
   "source": [
    "P = 1\n",
    "Q = (1-d)/4\n",
    "nabla = P^2 - 4*Q\n",
    "alpha = (P + sqrt(nabla))/2\n",
    "print(f\"P={P}\")\n",
    "print(f\"Q={Q}\")\n",
    "print(f\"𝛂 = {alpha}\")\n"
   ]
  },
  {
   "cell_type": "markdown",
   "metadata": {},
   "source": [
    "Es decir que \n",
    "$\\alpha = \\frac{1 + \\sqrt{5} }{2}$"
   ]
  },
  {
   "cell_type": "markdown",
   "metadata": {},
   "source": [
    "Las sucesiones de Lucas asociadas son \n",
    "para valores iniciales: \n",
    "$V_0=2$, $U_0=0,$ $V_1=P$, $U_i=1$\n",
    "\n",
    "Las que satisfacen\n",
    "$V_n =P V_{n-1} - Q V_{n-2}$ y $U_n =P U_{n-1} - Q U_{n-2}$"
   ]
  },
  {
   "cell_type": "code",
   "execution_count": 6,
   "metadata": {},
   "outputs": [
    {
     "name": "stdout",
     "output_type": "stream",
     "text": [
      "El número n en binario tiene r = 105 cifras y es 110011011110011010011010100101000100100101100010000000010011000010001110110111010010100010000000011011001\n",
      "Primeros 105 término de la sucesión de Lucas\n",
      "V_0 = 2   U_0 = 0\n",
      "V_1 = 1   U_1 = 1\n",
      "V_2 = 3   U_2 = 1\n",
      "V_3 = 4   U_3 = 2\n",
      "V_4 = 7   U_4 = 3\n",
      "V_5 = 11   U_5 = 5\n",
      "V_6 = 18   U_6 = 8\n",
      "V_7 = 29   U_7 = 13\n",
      "V_8 = 47   U_8 = 21\n",
      "V_9 = 76   U_9 = 34\n",
      "V_10 = 123   U_10 = 55\n",
      "V_11 = 199   U_11 = 89\n",
      "V_12 = 322   U_12 = 144\n",
      "V_13 = 521   U_13 = 233\n",
      "V_14 = 843   U_14 = 377\n",
      "V_15 = 1364   U_15 = 610\n",
      "V_16 = 2207   U_16 = 987\n",
      "V_17 = 3571   U_17 = 1597\n",
      "V_18 = 5778   U_18 = 2584\n",
      "V_19 = 9349   U_19 = 4181\n",
      "V_20 = 15127   U_20 = 6765\n",
      "V_21 = 24476   U_21 = 10946\n",
      "V_22 = 39603   U_22 = 17711\n",
      "V_23 = 64079   U_23 = 28657\n",
      "V_24 = 103682   U_24 = 46368\n",
      "V_25 = 167761   U_25 = 75025\n",
      "V_26 = 271443   U_26 = 121393\n",
      "V_27 = 439204   U_27 = 196418\n",
      "V_28 = 710647   U_28 = 317811\n",
      "V_29 = 1149851   U_29 = 514229\n",
      "V_30 = 1860498   U_30 = 832040\n",
      "V_31 = 3010349   U_31 = 1346269\n",
      "V_32 = 4870847   U_32 = 2178309\n",
      "V_33 = 7881196   U_33 = 3524578\n",
      "V_34 = 12752043   U_34 = 5702887\n",
      "V_35 = 20633239   U_35 = 9227465\n",
      "V_36 = 33385282   U_36 = 14930352\n",
      "V_37 = 54018521   U_37 = 24157817\n",
      "V_38 = 87403803   U_38 = 39088169\n",
      "V_39 = 141422324   U_39 = 63245986\n",
      "V_40 = 228826127   U_40 = 102334155\n",
      "V_41 = 370248451   U_41 = 165580141\n",
      "V_42 = 599074578   U_42 = 267914296\n",
      "V_43 = 969323029   U_43 = 433494437\n",
      "V_44 = 1568397607   U_44 = 701408733\n",
      "V_45 = 2537720636   U_45 = 1134903170\n",
      "V_46 = 4106118243   U_46 = 1836311903\n",
      "V_47 = 6643838879   U_47 = 2971215073\n",
      "V_48 = 10749957122   U_48 = 4807526976\n",
      "V_49 = 17393796001   U_49 = 7778742049\n",
      "V_50 = 28143753123   U_50 = 12586269025\n",
      "V_51 = 45537549124   U_51 = 20365011074\n",
      "V_52 = 73681302247   U_52 = 32951280099\n",
      "V_53 = 119218851371   U_53 = 53316291173\n",
      "V_54 = 192900153618   U_54 = 86267571272\n",
      "V_55 = 312119004989   U_55 = 139583862445\n",
      "V_56 = 505019158607   U_56 = 225851433717\n",
      "V_57 = 817138163596   U_57 = 365435296162\n",
      "V_58 = 1322157322203   U_58 = 591286729879\n",
      "V_59 = 2139295485799   U_59 = 956722026041\n",
      "V_60 = 3461452808002   U_60 = 1548008755920\n",
      "V_61 = 5600748293801   U_61 = 2504730781961\n",
      "V_62 = 9062201101803   U_62 = 4052739537881\n",
      "V_63 = 14662949395604   U_63 = 6557470319842\n",
      "V_64 = 23725150497407   U_64 = 10610209857723\n",
      "V_65 = 38388099893011   U_65 = 17167680177565\n",
      "V_66 = 62113250390418   U_66 = 27777890035288\n",
      "V_67 = 100501350283429   U_67 = 44945570212853\n",
      "V_68 = 162614600673847   U_68 = 72723460248141\n",
      "V_69 = 263115950957276   U_69 = 117669030460994\n",
      "V_70 = 425730551631123   U_70 = 190392490709135\n",
      "V_71 = 688846502588399   U_71 = 308061521170129\n",
      "V_72 = 1114577054219522   U_72 = 498454011879264\n",
      "V_73 = 1803423556807921   U_73 = 806515533049393\n",
      "V_74 = 2918000611027443   U_74 = 1304969544928657\n",
      "V_75 = 4721424167835364   U_75 = 2111485077978050\n",
      "V_76 = 7639424778862807   U_76 = 3416454622906707\n",
      "V_77 = 12360848946698171   U_77 = 5527939700884757\n",
      "V_78 = 20000273725560978   U_78 = 8944394323791464\n",
      "V_79 = 32361122672259149   U_79 = 14472334024676221\n",
      "V_80 = 52361396397820127   U_80 = 23416728348467685\n",
      "V_81 = 84722519070079276   U_81 = 37889062373143906\n",
      "V_82 = 137083915467899403   U_82 = 61305790721611591\n",
      "V_83 = 221806434537978679   U_83 = 99194853094755497\n",
      "V_84 = 358890350005878082   U_84 = 160500643816367088\n",
      "V_85 = 580696784543856761   U_85 = 259695496911122585\n",
      "V_86 = 939587134549734843   U_86 = 420196140727489673\n",
      "V_87 = 1520283919093591604   U_87 = 679891637638612258\n",
      "V_88 = 2459871053643326447   U_88 = 1100087778366101931\n",
      "V_89 = 3980154972736918051   U_89 = 1779979416004714189\n",
      "V_90 = 6440026026380244498   U_90 = 2880067194370816120\n",
      "V_91 = 10420180999117162549   U_91 = 4660046610375530309\n",
      "V_92 = 16860207025497407047   U_92 = 7540113804746346429\n",
      "V_93 = 27280388024614569596   U_93 = 12200160415121876738\n",
      "V_94 = 44140595050111976643   U_94 = 19740274219868223167\n",
      "V_95 = 71420983074726546239   U_95 = 31940434634990099905\n",
      "V_96 = 115561578124838522882   U_96 = 51680708854858323072\n",
      "V_97 = 186982561199565069121   U_97 = 83621143489848422977\n",
      "V_98 = 302544139324403592003   U_98 = 135301852344706746049\n",
      "V_99 = 489526700523968661124   U_99 = 218922995834555169026\n",
      "V_100 = 792070839848372253127   U_100 = 354224848179261915075\n",
      "V_101 = 1281597540372340914251   U_101 = 573147844013817084101\n",
      "V_102 = 2073668380220713167378   U_102 = 927372692193078999176\n",
      "V_103 = 3355265920593054081629   U_103 = 1500520536206896083277\n",
      "V_104 = 5428934300813767249007   U_104 = 2427893228399975082453\n",
      "V_105 = 8784200221406821330636   U_105 = 3928413764606871165730\n",
      "V_106 = 14213134522220588579643   U_106 = 6356306993006846248183\n"
     ]
    }
   ],
   "source": [
    "recurrencia = lambda xa, xaa : P*xa - Q*xaa\n",
    "\n",
    "def SucesiónLucasDirecta(n):\n",
    "    '''Devuelve una sucesión de Lucas de tamaño n\n",
    "    '''\n",
    "    V = [2,P]\n",
    "    U = [0,1]\n",
    "    for i in range(n):\n",
    "        V.append(recurrencia(V[-1], V[-2]))\n",
    "        U.append(recurrencia(U[-1], U[-2]))\n",
    "    return V,U\n",
    "\n",
    "# Consideraciones\n",
    "r =len(n.binary())\n",
    "n_binario = n.binary()\n",
    "print(f\"El número n en binario tiene r = {r} cifras y es {n_binario}\")\n",
    "# Mostrarmos lo r primeros términos \n",
    "print(f\"Primeros {r} término de la sucesión de Lucas\")\n",
    "V,U = SucesiónLucasDirecta(r)\n",
    "for i,(v,u) in enumerate(zip(V,U)):\n",
    "    print(f\"V_{i} = {v}   U_{i} = {u}\")"
   ]
  },
  {
   "cell_type": "markdown",
   "metadata": {},
   "source": [
    "### Segundo apartado \n",
    "\n",
    "Si $n$ primo  \n",
    "1.**¿Qué debería de pasarle a $V_r$, $U_r$ módulo $n$?**\n",
    "\n",
    "Por el teorema pequeño de Fermat debería cumplirse que: \n",
    "\\begin{equation*}\n",
    "U_r \\equiv 0 \\mod(n)\n",
    "\\end{equation*}\n",
    "\\begin{equation*}\n",
    "V_r \\equiv 2Q \\mod(n)\n",
    "\\end{equation*}\n",
    "\n",
    "2.**¿Y para $V_\\frac{r}{2}$, $U_\\frac{r}{2}$?**\n",
    "\n",
    "Se tiene por las propiedades de la sucesión que\n",
    "\\begin{equation*}\n",
    "V_r  =  V_\\frac{r}{2}^2 - 2 Q^\\frac{r}{2}\n",
    "\\end{equation*}\n",
    "\\begin{equation*}\n",
    "U_r  = U_\\frac{r}{2} V_\\frac{r}{2}\n",
    "\\end{equation*}\n",
    "\n",
    "y despejando y tomando módulo\n",
    "\n",
    "\\begin{equation*}\n",
    "V_\\frac{r}{2}^2 = V_r  + 2Q^\\frac{r}{2}  \\equiv 2Q^\\frac{r}{2} \\mod n \n",
    "\\end{equation*}\n",
    "\n",
    "Donde recordemos que $Q = -1$ en nuestro caso. \n",
    "\n",
    "\n",
    "1. Calcula los términos $V_r$, $U_r$,$V_\\frac{r}{2}$, $U_\\frac{r}{2}$ módulo $n$ de las sucesiones de Lucas. \n",
    "\n",
    "2. **¿Verifica $n$ el TPF para el entero cuadrático $\\alpha$?**\n"
   ]
  },
  {
   "cell_type": "code",
   "execution_count": 27,
   "metadata": {},
   "outputs": [
    {
     "name": "stdout",
     "output_type": "stream",
     "text": [
      "U_0 = 0, U_1=1\n",
      "U_1 = 1, U_2=1\n",
      "U_3 = 2, U_4=3\n",
      "U_6 = 8, U_7=13\n",
      "U_12 = 144, U_13=233\n",
      "U_25 = 75025, U_26=121393\n",
      "U_51 = 20365011074, U_52=32951280099\n",
      "U_102 = 927372692193078999176, U_103=1500520536206896083277\n",
      "U_205 = 27775207000826253423307631849526, U_206=14340905442191836431869597566110\n",
      "U_103 = 2427893228399975082453\n",
      "U_104 = 3928413764606871165730\n",
      "U_105 = 6356306993006846248183\n",
      "U_106 = 10284720757613717413913\n"
     ]
    },
    {
     "data": {
      "text/plain": [
       "10284720757613717413913"
      ]
     },
     "execution_count": 27,
     "metadata": {},
     "output_type": "execute_result"
    }
   ],
   "source": [
    "def SucesionLucasModulo(P,Q,r,n):\n",
    "    U_0=0\n",
    "    U_1=1\n",
    "    V=0\n",
    "    k=0\n",
    "    aux1=0\n",
    "    aux2=0\n",
    "\n",
    "    print(f\"U_{k} = {U_0}, U_{k+1}={U_1}\")\n",
    "    num_binario= n.binary()#bin(r)[2:]\n",
    "    for i in num_binario:\n",
    "        if i=='0':\n",
    "            aux1=(2*U_0*U_1-P*U_0**2)%n\n",
    "            aux2=(U_1**2-Q*U_0**2)%n\n",
    "            U_0=aux1\n",
    "            U_1=aux2\n",
    "            k *=2\n",
    "\n",
    "        if i=='1':\n",
    "            aux1=(U_1**2-Q*U_0**2)%n\n",
    "            aux2=(P*U_1**2-2*Q*U_0*U_1)%n\n",
    "            U_0=aux1\n",
    "            U_1=aux2\n",
    "            k = 2*k+1\n",
    "        print(f\"U_{k} = {U_0}, U_{k+1}={U_1}\")\n",
    "        if k >= r:\n",
    "            break    \n",
    "    V=(2*U_1-P*U_0)%n\n",
    "    return U_0,U_1,V\n",
    "\n",
    "U_k, U_sk, V_sk =SucesionLucasModulo(P, Q, r, n)\n",
    "\n",
    "def SucesiónLucasContinuda(U_0, U_1, ini, fin, n):\n",
    "    '''Devuelve una sucesión de Lucas de tamaño n\n",
    "    '''\n",
    "    k = ini\n",
    "    U=[U_0, U_1] \n",
    "    while k <=fin:\n",
    "        U.append(recurrencia(U[-1], U[-2]) % n)\n",
    "        k+= 1\n",
    "        print(f\"U_{k} = {U[-1]}\")\n",
    "    return U[-1]\n",
    "\n",
    "SucesiónLucasContinuda(927372692193078999176, 1500520536206896083277, 102, r, n)"
   ]
  }
 ],
 "metadata": {
  "kernelspec": {
   "display_name": "SageMath 9.5",
   "language": "sage",
   "name": "SageMath-9.5"
  },
  "language_info": {
   "codemirror_mode": {
    "name": "ipython",
    "version": 3
   },
   "file_extension": ".py",
   "mimetype": "text/x-python",
   "name": "python",
   "nbconvert_exporter": "python",
   "pygments_lexer": "ipython3",
   "version": "3.9.9"
  },
  "orig_nbformat": 4
 },
 "nbformat": 4,
 "nbformat_minor": 2
}
