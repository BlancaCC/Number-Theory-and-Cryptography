{
 "cells": [
  {
   "cell_type": "markdown",
   "metadata": {},
   "source": [
    "# Ejercicio 8\n",
    "Alumna: Blanca Cano Camarero  \n",
    "Correo: blancacano@correo.ugr.es"
   ]
  },
  {
   "cell_type": "markdown",
   "metadata": {},
   "source": [
    "Da el número $n$ "
   ]
  },
  {
   "cell_type": "code",
   "execution_count": 2,
   "metadata": {},
   "outputs": [
    {
     "data": {
      "text/plain": [
       "True"
      ]
     },
     "execution_count": 2,
     "metadata": {},
     "output_type": "execute_result"
    }
   ],
   "source": [
    "n = 2465809416452482897062922270410493919443\n",
    "is_prime(n)"
   ]
  },
  {
   "cell_type": "markdown",
   "metadata": {},
   "source": [
    "### Apartado primero \n",
    "Pasa algunos test de primalidad para ver si $n$ es compuesto "
   ]
  },
  {
   "cell_type": "markdown",
   "metadata": {},
   "source": [
    "#### Test de primalidad de Fermat"
   ]
  },
  {
   "cell_type": "code",
   "execution_count": 3,
   "metadata": {},
   "outputs": [
    {
     "name": "stdout",
     "output_type": "stream",
     "text": [
      "Para la base 2 se tiene que a^(n-1) mod n = 1\n",
      "Para la base 3 se tiene que a^(n-1) mod n = 1\n",
      "Para la base 5 se tiene que a^(n-1) mod n = 1\n",
      "Para la base 7 se tiene que a^(n-1) mod n = 1\n",
      "Para la base 11 se tiene que a^(n-1) mod n = 1\n",
      "Para la base 13 se tiene que a^(n-1) mod n = 1\n"
     ]
    }
   ],
   "source": [
    "bases = [2,3,5,7,11,13]\n",
    "for a in bases: \n",
    "    print(f\"Para la base {a} se tiene que a^(n-1) mod n = {pow(a,n-1,n)}\")"
   ]
  },
  {
   "cell_type": "markdown",
   "metadata": {},
   "source": [
    "A la vista de los resultados se tiene que $n$ es un posible primo de Fermat para las bases $2,3,5,7,11,13$."
   ]
  },
  {
   "cell_type": "markdown",
   "metadata": {},
   "source": [
    "#### Test de Solovay Strassen \n"
   ]
  },
  {
   "cell_type": "code",
   "execution_count": 4,
   "metadata": {},
   "outputs": [
    {
     "name": "stdout",
     "output_type": "stream",
     "text": [
      "\n",
      "Test Solovay Strassen Base 2 n =2465809416452482897062922270410493919443\n",
      "Por el algoritmo Jacobi (b/n) = -1\n",
      "b^((n-1))/2 modulo n es  2465809416452482897062922270410493919442\n",
      "2465809416452482897062922270410493919443 es un posible primo Euler en base 2\n",
      "\n",
      "Test Solovay Strassen Base 3 n =2465809416452482897062922270410493919443\n",
      "Por el algoritmo Jacobi (b/n) = -1\n",
      "b^((n-1))/2 modulo n es  2465809416452482897062922270410493919442\n",
      "2465809416452482897062922270410493919443 es un posible primo Euler en base 3\n",
      "\n",
      "Test Solovay Strassen Base 5 n =2465809416452482897062922270410493919443\n",
      "Por el algoritmo Jacobi (b/n) = -1\n",
      "b^((n-1))/2 modulo n es  2465809416452482897062922270410493919442\n",
      "2465809416452482897062922270410493919443 es un posible primo Euler en base 5\n",
      "\n",
      "Test Solovay Strassen Base 7 n =2465809416452482897062922270410493919443\n",
      "Por el algoritmo Jacobi (b/n) = 1\n",
      "b^((n-1))/2 modulo n es  1\n",
      "2465809416452482897062922270410493919443 es un posible primo Euler en base 7\n",
      "\n",
      "Test Solovay Strassen Base 11 n =2465809416452482897062922270410493919443\n",
      "Por el algoritmo Jacobi (b/n) = 1\n",
      "b^((n-1))/2 modulo n es  1\n",
      "2465809416452482897062922270410493919443 es un posible primo Euler en base 11\n",
      "\n",
      "Test Solovay Strassen Base 13 n =2465809416452482897062922270410493919443\n",
      "Por el algoritmo Jacobi (b/n) = 1\n",
      "b^((n-1))/2 modulo n es  1\n",
      "2465809416452482897062922270410493919443 es un posible primo Euler en base 13\n"
     ]
    }
   ],
   "source": [
    "#Código auxiliar  de prácticas anteriores \n",
    "# Exponencial rápida \n",
    "def LeftToRightFastExponential(base:Integer, exp:Integer, p:Integer):\n",
    "    b = exp.binary()\n",
    "    a = base\n",
    "    c = 0\n",
    "    acc = 1\n",
    "    n = p\n",
    "    for i in b:\n",
    "        c = 2*c\n",
    "        acc = mod(acc ^2, n)\n",
    "        if i == '1':\n",
    "            c += 1\n",
    "            acc = mod(acc*a, n )   \n",
    "    return acc\n",
    "\n",
    "primos = [2,3,5,7,11]\n",
    "def Jacobi(a :Integer,n :Integer):\n",
    "    a %= n\n",
    "    result = 1\n",
    "    while a != 0:\n",
    "        while is_even(a):\n",
    "            a /=2\n",
    "            if(n % 8 in [3, 5]):\n",
    "                result *= -1\n",
    "        a, n = n,a\n",
    "        if (a % 4 == n % 4 == 3):\n",
    "            result *= -1\n",
    "        a %=n\n",
    "    \n",
    "\n",
    "    return (0,result)[n == 1] \n",
    "\n",
    "def VerboseTest_Solovay_Strassen(b:Integer,n:Integer):\n",
    "    congruente = LeftToRightFastExponential(b, (n-1)//2, n)\n",
    "    jacobi = Jacobi(b,n)\n",
    "    print(f\"\\nTest Solovay Strassen Base {b} n ={n}\")\n",
    "    print(f\"Por el algoritmo Jacobi (b/n) = {jacobi}\")\n",
    "    print(f\"b^((n-1))/2 modulo n es  {congruente}\")\n",
    "    posible_primo = False\n",
    "    if (congruente == jacobi or (congruente-n) == jacobi): \n",
    "        print(f\"{n} es un posible primo Euler en base {b}\")\n",
    "        posible_primo = True\n",
    "    else:  \n",
    "        print(f\"{n} NO es primo gracias al criterio de Euler en base {b}\")\n",
    "        posible_primo = False\n",
    "    return posible_primo\n",
    "    \n",
    "for b in bases:\n",
    "    VerboseTest_Solovay_Strassen(b,n)"
   ]
  },
  {
   "cell_type": "markdown",
   "metadata": {},
   "source": [
    "#### Test de Miller Rabin"
   ]
  },
  {
   "cell_type": "code",
   "execution_count": 5,
   "metadata": {},
   "outputs": [
    {
     "name": "stdout",
     "output_type": "stream",
     "text": [
      "\n",
      " ============================================================\n",
      "Test Miller Rabin base a = 2, n = 2465809416452482897062922270410493919443 \n",
      " m=1232904708226241448531461135205246959721, n = m * 2^1\n",
      "============================================================\n",
      " Para r=0 el término sucesión mod(a^(m 2^r), n) es: -1\n",
      " Para r=1 el término sucesión mod(a^(m 2^r), n) es: 1\n",
      "2465809416452482897062922270410493919443 es un posible primo de Miller-Rabin para la base 2 \n",
      "\n",
      "\n",
      " ============================================================\n",
      "Test Miller Rabin base a = 3, n = 2465809416452482897062922270410493919443 \n",
      " m=1232904708226241448531461135205246959721, n = m * 2^1\n",
      "============================================================\n",
      " Para r=0 el término sucesión mod(a^(m 2^r), n) es: -1\n",
      " Para r=1 el término sucesión mod(a^(m 2^r), n) es: 1\n",
      "2465809416452482897062922270410493919443 es un posible primo de Miller-Rabin para la base 3 \n",
      "\n",
      "\n",
      " ============================================================\n",
      "Test Miller Rabin base a = 5, n = 2465809416452482897062922270410493919443 \n",
      " m=1232904708226241448531461135205246959721, n = m * 2^1\n",
      "============================================================\n",
      " Para r=0 el término sucesión mod(a^(m 2^r), n) es: -1\n",
      " Para r=1 el término sucesión mod(a^(m 2^r), n) es: 1\n",
      "2465809416452482897062922270410493919443 es un posible primo de Miller-Rabin para la base 5 \n",
      "\n",
      "\n",
      " ============================================================\n",
      "Test Miller Rabin base a = 7, n = 2465809416452482897062922270410493919443 \n",
      " m=1232904708226241448531461135205246959721, n = m * 2^1\n",
      "============================================================\n",
      " Para r=0 el término sucesión mod(a^(m 2^r), n) es: 1\n",
      " Para r=1 el término sucesión mod(a^(m 2^r), n) es: 1\n",
      "2465809416452482897062922270410493919443 es un posible primo de Miller-Rabin para la base 7 \n",
      "\n",
      "\n",
      " ============================================================\n",
      "Test Miller Rabin base a = 11, n = 2465809416452482897062922270410493919443 \n",
      " m=1232904708226241448531461135205246959721, n = m * 2^1\n",
      "============================================================\n",
      " Para r=0 el término sucesión mod(a^(m 2^r), n) es: 1\n",
      " Para r=1 el término sucesión mod(a^(m 2^r), n) es: 1\n",
      "2465809416452482897062922270410493919443 es un posible primo de Miller-Rabin para la base 11 \n",
      "\n",
      "\n",
      " ============================================================\n",
      "Test Miller Rabin base a = 13, n = 2465809416452482897062922270410493919443 \n",
      " m=1232904708226241448531461135205246959721, n = m * 2^1\n",
      "============================================================\n",
      " Para r=0 el término sucesión mod(a^(m 2^r), n) es: 1\n",
      " Para r=1 el término sucesión mod(a^(m 2^r), n) es: 1\n",
      "2465809416452482897062922270410493919443 es un posible primo de Miller-Rabin para la base 13 \n",
      "\n"
     ]
    }
   ],
   "source": [
    "# Código auxiliar de prácticas anteriores\n",
    "ModuloBonito = lambda x,n : (x-n, x)[x< (n//2)]\n",
    "\n",
    "def Test_Miller_Rabin(a: Integer, n:Integer)-> bool:\n",
    "    compuesto  = False\n",
    "    # Calculamos sucesión impar \n",
    "    m = (n-1)\n",
    "    r = 0\n",
    "    while is_even(m):\n",
    "        m //= 2\n",
    "        r += 1\n",
    "    print('\\n','='*60)\n",
    "    print(f\"Test Miller Rabin base a = {a}, n = {n} \\n m={m}, n = m * 2^{r}\")\n",
    "    print('='*60)\n",
    "    anterior = 1\n",
    "    # Cálculo de la a-sucesión \n",
    "    for i in range(r+1):\n",
    "        congruente = pow(a, m * pow(2, i), n)\n",
    "        congruente_bonito = ModuloBonito(int(congruente), int(n))\n",
    "        print(f\" Para r={i} el término sucesión mod(a^(m 2^r), n) es: {congruente_bonito}\")\n",
    "        if( congruente_bonito == 1 and  abs(anterior) != 1):\n",
    "           compuesto = True\n",
    "        anterior = congruente_bonito\n",
    "    if anterior != 1:\n",
    "        compuesto = True\n",
    "    salida = (\n",
    "        f\"{n} es un posible primo de Miller-Rabin para la base {a}\",\n",
    "        f\"{n} es compuesto\"\n",
    "        )[compuesto]\n",
    "    print(salida, '\\n')\n",
    "    return compuesto \n",
    "\n",
    "for p in bases:\n",
    "    Test_Miller_Rabin(p,n)"
   ]
  },
  {
   "cell_type": "markdown",
   "metadata": {},
   "source": [
    "## Apartado segundo \n",
    "\n",
    "Factoriza $n+1$ encontrando certificados de primalidad para los factores mayores de 10000."
   ]
  },
  {
   "cell_type": "code",
   "execution_count": 6,
   "metadata": {},
   "outputs": [
    {
     "data": {
      "text/plain": [
       "2^2 * 19 * 47128831 * 688429143145855402034758463849"
      ]
     },
     "execution_count": 6,
     "metadata": {},
     "output_type": "execute_result"
    }
   ],
   "source": [
    "factor(n+1)"
   ]
  },
  {
   "cell_type": "markdown",
   "metadata": {},
   "source": [
    "Vamos a factorizar el número usando la Rho Pollard, antes nos damos cuenta de que $n+1$ tiene como divisores a $2^2$ y a $19$ luego el número $m$ con el que vamos a trabajar es: "
   ]
  },
  {
   "cell_type": "code",
   "execution_count": 7,
   "metadata": {},
   "outputs": [],
   "source": [
    "m = (n+1)//4//19"
   ]
  },
  {
   "cell_type": "code",
   "execution_count": 13,
   "metadata": {},
   "outputs": [
    {
     "name": "stdout",
     "output_type": "stream",
     "text": [
      "Se tiene que n = multiplicar los elementos de [47128831] y 688429143145855402034758463849\n",
      "\n",
      "Los factores de 32444860742795827592933187768559130519 son [47128831]\n"
     ]
    }
   ],
   "source": [
    "# Algoritmo prácticas anteriores\n",
    "def Verbose_Rho_de_Polard(n:Integer, f) -> Integer:\n",
    "    '''Devuelve un factor de p\n",
    "    o n si es un fracaso\n",
    "    '''\n",
    "    mf = lambda x: f(x)% n\n",
    "    #print(f\"Cálculo de Rho de Polar para n={n}\")\n",
    "    x = 1\n",
    "    y = 1\n",
    "    d = 1\n",
    "    paso = 0\n",
    "    #print(f\"Paso {paso}   x={x}    y={y}\")\n",
    "    while d == 1:\n",
    "        paso += 1\n",
    "        x = mf(x)\n",
    "        y = mf(mf(y))\n",
    "        d = gcd(abs(x-y),n)\n",
    "        #print(f\"Paso {paso}    x={x}    y={y}    mcd={d}\")\n",
    "    return d\n",
    "f = lambda x : x^2 +1 \n",
    "\n",
    "## Versión de sacar todos los factores de manera manual \n",
    "def SacaFactores(numero_factores, n, f ):\n",
    "    factores = []\n",
    "    m = n\n",
    "    hay_factores = True \n",
    "    while numero_factores >= 0 and hay_factores:\n",
    "        numero_factores -= 1\n",
    "        d = Verbose_Rho_de_Polard(m,f)\n",
    "        if d != m:\n",
    "            factores.append(d)\n",
    "            m = m // d\n",
    "            print(f\"Se tiene que n = multiplicar los elementos de {factores} y {m}\\n\")\n",
    "        else:\n",
    "            factores.append(m)\n",
    "            print('='*60)\n",
    "            hay_factores = False\n",
    "    return factores\n",
    "factores = SacaFactores(0, m,f )\n",
    "print(f\"Los factores de {m} son {factores}\")"
   ]
  },
  {
   "cell_type": "markdown",
   "metadata": {},
   "source": [
    "Luego los factores candidatos son:"
   ]
  },
  {
   "cell_type": "code",
   "execution_count": 15,
   "metadata": {},
   "outputs": [],
   "source": [
    "factores = [2,19, 47128831, 688429143145855402034758463849 ]"
   ]
  },
  {
   "cell_type": "markdown",
   "metadata": {},
   "source": [
    "Además es necesario obtener un certificado de primalidad de los últimos \n",
    "El proceso sería volver a aplicar el algoritmo que estamos siguiendo ahora mismo y después dar un testigo, dando como resultado que en efecto ambos son primos. (Vamos a omitir el proceso ya que eso pertenece a prácticas anteriores.)"
   ]
  },
  {
   "cell_type": "code",
   "execution_count": null,
   "metadata": {},
   "outputs": [],
   "source": [
    "# Código auxiliar prácticas anteriores\n",
    "def BuscaTestigo(n, factores, lista):\n",
    "    m = n-1\n",
    "    for i in lista:\n",
    "        if pow(i,m, n) == 1:\n",
    "            condicion_testigo = True \n",
    "            for f in factores:\n",
    "                if pow(i,m//f, n) == 1:\n",
    "                    condicion_testigo = False \n",
    "                    break\n",
    "            if condicion_testigo == True:\n",
    "                return i\n",
    "    return 0\n",
    "testigo = BuscaTestigo(n, factores, [2,3,5,7,11,13,15])\n",
    "mensaje = (\n",
    "    f\"{testigo} es un testigo de la primalidad de n={n}\",\n",
    "    f\"No se ha encontrado un testigo que demuestre la primalidad de n= {n}\"\n",
    ")[testigo == 0] \n",
    "print(mensaje)"
   ]
  },
  {
   "cell_type": "code",
   "execution_count": 45,
   "metadata": {},
   "outputs": [
    {
     "name": "stdout",
     "output_type": "stream",
     "text": [
      "los factores de 47128830 son 2 * 3 * 5 * 7 * 224423\n",
      "los factores de 224422 son 2 * 11 * 101^2\n",
      "los factores de 688429143145855402034758463848 son 2^3 * 7 * 17 * 2840077 * 265395451 * 959397780037\n",
      "los factores de 2840076 son 2^2 * 3^3 * 26297\n",
      "los factores de 26296 son 2^3 * 19 * 173\n",
      "los factores de 265395450 son 2 * 3 * 5^2 * 37 * 47819\n",
      "los factores de 47818 son 2 * 23909\n",
      "los factores de 23908 son 2^2 * 43 * 139\n",
      "los factores de 959397780036 son 2^2 * 3 * 26489 * 3018227\n",
      "los factores de 26488 son 2^3 * 7 * 11 * 43\n",
      "los factores de 3018226 son 2 * 19 * 79427\n",
      "los factores de 79426 son 2 * 151 * 263\n",
      "29 es un testigo de la primalidad del factor =47128831\n",
      "5 es un testigo de la primalidad del factor =224423\n",
      "3 es un testigo de la primalidad del factor =688429143145855402034758463849\n",
      "2 es un testigo de la primalidad del factor =2840077\n",
      "3 es un testigo de la primalidad del factor =26297\n",
      "2 es un testigo de la primalidad del factor =265395451\n",
      "2 es un testigo de la primalidad del factor =47819\n",
      "2 es un testigo de la primalidad del factor =23909\n",
      "5 es un testigo de la primalidad del factor =959397780037\n",
      "3 es un testigo de la primalidad del factor =26489\n",
      "2 es un testigo de la primalidad del factor =3018227\n"
     ]
    }
   ],
   "source": [
    "\n",
    "factores_aux = dict()\n",
    "# Esta jerarquía muestra la dependencia de los testigos a calcular \n",
    "factores_que_mostrar = [factores[2], \n",
    "                            224423,  # ya descompone\n",
    "                        factores[3], \n",
    "                            2840077 , \n",
    "                                26297, # ya descompone\n",
    "                            265395451 , \n",
    "                                47819,\n",
    "                                    23909,   # ya descopone\n",
    "                            959397780037,\n",
    "                                26489,\n",
    "                                3018227,\n",
    "                                    79427 # ya descompone\n",
    "                                ]\n",
    "for p in factores_que_mostrar:\n",
    "    factores_aux[p] = factor(p-1)\n",
    "    print(f\"los factores de {p-1} son {factores_aux[p]}\")\n",
    "    factores_aux[p] = list(map(lambda x:x[0], factores_aux[p]))\n",
    "# vamos a buscar testigos\n",
    "for f in factores_que_mostrar[:-1:]:\n",
    "    testigo = BuscaTestigo(f, factores_aux[f], [2,3,5,7,11,13,15, 17,19, 23, 29, 31])\n",
    "    mensaje = (\n",
    "        f\"{testigo} es un testigo de la primalidad del factor ={f}\",\n",
    "        f\"No se ha encontrado un testigo que demuestre la primalidad del factor = {f}\"\n",
    "    )[testigo == 0] \n",
    "    print(mensaje)\n"
   ]
  },
  {
   "cell_type": "markdown",
   "metadata": {},
   "source": [
    "A la vista de los resultados los factores :"
   ]
  },
  {
   "cell_type": "code",
   "execution_count": 46,
   "metadata": {},
   "outputs": [
    {
     "data": {
      "text/plain": [
       "[2, 19, 47128831, 688429143145855402034758463849]"
      ]
     },
     "execution_count": 46,
     "metadata": {},
     "output_type": "execute_result"
    }
   ],
   "source": [
    "factores"
   ]
  },
  {
   "cell_type": "markdown",
   "metadata": {},
   "source": [
    "son primos."
   ]
  }
 ],
 "metadata": {
  "interpreter": {
   "hash": "31f2aee4e71d21fbe5cf8b01ff0e069b9275f58929596ceb00d14d90e3e16cd6"
  },
  "kernelspec": {
   "display_name": "SageMath 9.5",
   "language": "sage",
   "name": "SageMath-9.5"
  },
  "language_info": {
   "codemirror_mode": {
    "name": "ipython",
    "version": 3
   },
   "file_extension": ".py",
   "mimetype": "text/x-python",
   "name": "python",
   "nbconvert_exporter": "python",
   "pygments_lexer": "ipython3",
   "version": "3.9.9"
  },
  "orig_nbformat": 4
 },
 "nbformat": 4,
 "nbformat_minor": 2
}
