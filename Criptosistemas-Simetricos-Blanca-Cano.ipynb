{
 "cells": [
  {
   "cell_type": "markdown",
   "metadata": {},
   "source": [
    "# Ejercicio de evaluación de Criptosistemas simétricos \n",
    "\n",
    "Alumna: Blanca Cano Camarero"
   ]
  },
  {
   "cell_type": "markdown",
   "metadata": {},
   "source": [
    "## MiniAES\n",
    "\n",
    "### Cuerpo en el que se trabaja "
   ]
  },
  {
   "cell_type": "code",
   "execution_count": 2,
   "metadata": {},
   "outputs": [
    {
     "data": {
      "text/plain": [
       "x^4 + x + 1"
      ]
     },
     "execution_count": 2,
     "metadata": {},
     "output_type": "execute_result"
    }
   ],
   "source": [
    "F.<xi> = GF(2^4, modulus=GF(2)[x](x^4+x+1))\n",
    "F.modulus()"
   ]
  },
  {
   "cell_type": "code",
   "execution_count": 3,
   "metadata": {},
   "outputs": [],
   "source": [
    "# Definición de las respectivas funciones \n",
    "\n",
    "def PolinomioAPartirLista(lista):\n",
    "    '''Transforma una lista en un coeficiente \n",
    "    La matriz es el coeficiente de orden \n",
    "    [c,b,a...]\n",
    "    a + bx + cx^2 ...\n",
    "    '''\n",
    "    polinomio = lista[0]\n",
    "    for coeficiente in lista[1:]:\n",
    "        polinomio  = x*polinomio + coeficiente \n",
    "    return polinomio \n",
    "\n",
    "def Inverso(n):\n",
    "    ''' n es una lista con el número en la base {x^3, x^2, x, 1}\n",
    "    y devuelve su inverso o cero\n",
    "    '''\n",
    "    p = vector(n)\n",
    "    if p != 0:\n",
    "        p = vector(reversed(vector(F(vector(reversed(p)))^(-1))))\n",
    "    return p\n",
    "\n",
    "def Gamma(n):\n",
    "    return list(Inverso(n)* matrix(GF(2),4,[0,1,1,1,1,1,1,0,1,1,0,1,1,0,1,1]) + vector(GF(2),[0,0,1,1]))\n",
    "    \n",
    "def GammaMatrix(m):\n",
    "    return [list(map(Gamma, row)) for row in m ]\n",
    "\n",
    "def MixColumn(ll):\n",
    "    A = matrix(F,2,[[x+1,x],[x,x+1]])\n",
    "\n",
    "    b0 = ll[0][0]*x^3 + ll[0][1]*x^2 + ll[0][2]*x + ll[0][3]\n",
    "    b1 = ll[1][0]*x^3 + ll[1][1]*x^2 + ll[1][2]*x + ll[1][3]\n",
    "    b2 = ll[2][0]*x^3 + ll[2][1]*x^2 + ll[2][2]*x + ll[2][3]\n",
    "    b3 = ll[3][0]*x^3 + ll[3][1]*x^2 + ll[3][2]*x + ll[3][3]\n",
    "    \n",
    "    \n",
    "    B = matrix(F,2,[[b0,b2],[b1,b3]])\n",
    "\n",
    "    return A*B"
   ]
  },
  {
   "cell_type": "code",
   "execution_count": 13,
   "metadata": {},
   "outputs": [],
   "source": [
    "def nibblsub(ll):\n",
    "    xx = vector(ll)\n",
    "    if xx != 0:\n",
    "        xx = vector(reversed(vector(F(vector(reversed(xx)))^(-1))))\n",
    "    return list(xx*matrix(GF(2),4,[0,1,1,1,1,1,1,0,1,1,0,1,1,0,1,1]) + vector(GF(2),[0,0,1,1]))\n",
    "def key_schedule(kk): \n",
    "    ww= list(reversed(vector(GF(2),kk.bits())))\n",
    "    while len(ww)<16:\n",
    "        ww = [GF(2)(0)]+ww\n",
    "    ww = [[ww[0],ww[1],ww[2],ww[3]],[ww[4],ww[5],ww[6],ww[7]],[ww[8],ww[9],ww[10],ww[11]],[ww[12],ww[13],ww[14],ww[15]]] \n",
    "    ww.append(list(vector(ww[0]) + vector(nibblsub(ww[3])) + vector(GF(2),[0,0,0,1]))) \n",
    "    ww.append(list(vector(ww[1]) + vector(ww[4])))\n",
    "    ww.append(list(vector(ww[2]) + vector(ww[5])))\n",
    "    ww.append(list(vector(ww[3]) + vector(ww[6])))                                                         \n",
    "    ww.append(list(vector(ww[4]) + vector(nibblsub(ww[7])) + vector(GF(2),[0,0,1,0]))) \n",
    "    ww.append(list(vector(ww[5]) + vector(ww[8])))\n",
    "    ww.append(list(vector(ww[6]) + vector(ww[9])))\n",
    "    ww.append(list(vector(ww[7]) + vector(ww[10])))   \n",
    "    return ww\n",
    "\n",
    "def mixcolumn(ll):\n",
    "    A = matrix(F,2,[[xi+1,xi],[xi,xi+1]])\n",
    "\n",
    "    b0 = ll[0][0]*xi^3 + ll[0][1]*xi^2 + ll[0][2]*xi + ll[0][3]\n",
    "    b1 = ll[1][0]*xi^3 + ll[1][1]*xi^2 + ll[1][2]*xi + ll[1][3]\n",
    "    b2 = ll[2][0]*xi^3 + ll[2][1]*xi^2 + ll[2][2]*xi + ll[2][3]\n",
    "    b3 = ll[3][0]*xi^3 + ll[3][1]*xi^2 + ll[3][2]*xi + ll[3][3]\n",
    "    \n",
    "    \n",
    "    B = matrix(F,2,[[b0,b2],[b1,b3]])\n",
    "\n",
    "    return A*B\n",
    "\n",
    "def shiftrow(ll):\n",
    "    return [ll[0],ll[3],ll[2],ll[1]]\n",
    "\n",
    "def addroundkey(ll,kk): \n",
    "    return [list(vector(ll[0])+vector(kk[0])),list(vector(ll[1])+vector(kk[1])),list(vector(ll[2])+vector(kk[2])),list(vector(ll[3])+vector(kk[3]))]    \n",
    "\n",
    "def NumberToMatriz (binario):\n",
    "    '''Transforma un número binario de la forma 10001001 \n",
    "    en una matriz 4x4, añade los ceros delante'''\n",
    "    nl = [[0,0,0,0],[0,0,0,0],[0,0,0,0],[0,0,0,0]]\n",
    "    n = list(map(int,reversed(str(binario))))\n",
    "    n_length = len(n)\n",
    "    ind = 3\n",
    "    last = 0\n",
    "    cnt = 0\n",
    "    for ind in range(3,-1,-1):\n",
    "        for i in range(0,4):\n",
    "            if cnt < n_length:\n",
    "                nl[ind][3-i] = n[cnt]\n",
    "                cnt +=1\n",
    "            else:\n",
    "                return nl\n",
    "\n",
    "\n",
    "def MiniAES1(kk,mm): #para m1 apartado 1\n",
    "    ww = key_schedule(kk)\n",
    "    estado = list(reversed(vector(GF(2),mm.bits())))\n",
    "    while len(estado) < 32:\n",
    "        estado = [GF(2)(0)] + estado\n",
    "    \n",
    "    estado = [[estado[0],estado[1],estado[2],estado[3]],[estado[4],estado[5],estado[6],estado[7]],[estado[8],estado[9],estado[10],estado[11]],[estado[12],estado[13],estado[14],estado[15]],[estado[16],estado[17],estado[18],estado[19]],[estado[20],estado[21],estado[22],estado[23]],[estado[24],estado[25],estado[26],estado[27]],[estado[28],estado[29],estado[30],estado[31]]] #FALTA CODIGO\n",
    "\n",
    "    estado1 = list()\n",
    "    estado1.append(estado[0])\n",
    "    estado1.append(estado[1])\n",
    "    estado1.append(estado[2])\n",
    "    estado1.append(estado[3])\n",
    "    estado = estado1\n",
    "    print(\"m1 = \",estado)\n",
    "    \n",
    "    estado[3][3] = estado[3][3]  + 1\n",
    "    c0 = [[0,0,0,0],[0,0,0,0],[0,0,0,0],[0,0,0,1]]\n",
    "    print(\"m1+c0 = \", estado)\n",
    "    \n",
    "    print(estado)\n",
    "    print([ww[0],ww[1],ww[2],ww[3]])\n",
    "    estado = addroundkey(estado,[ww[0],ww[1],ww[2],ww[3]])\n",
    "    print(\"sigma_k0 = \",estado)\n",
    "    \n",
    "    estado = [nibblsub(ele) for ele in estado]\n",
    "    print(\"gamma = \",estado)\n",
    "    \n",
    "    estado = shiftrow(estado)\n",
    "    print(\"pi = \",estado)\n",
    "    \n",
    "    estado = mixcolumn(estado) \n",
    "    print(\"sacar coefs = \", estado)\n",
    "    \n",
    "def MiniAES1parte2(kk,estado): #para m1 apartado 1 \n",
    "    ww = key_schedule(kk)\n",
    "    print(estado)\n",
    "    print([ww[4],ww[5],ww[6],ww[7]])\n",
    "    estado = addroundkey(estado,[ww[4],ww[5],ww[6],ww[7]])\n",
    "    print(\"sigma_k1 = \",estado)\n",
    "    \n",
    "    estado = [nibblsub(ele) for ele in estado]\n",
    "    print(\"gamma =\",estado)\n",
    "    \n",
    "    estado = shiftrow(estado)\n",
    "    print(\"pi=\",estado)\n",
    "    \n",
    "    estado = addroundkey(estado,[ww[8],ww[9],ww[10],ww[11]])\n",
    "    print(\"sigma_k2 = \",estado)\n",
    "    \n",
    "    salida = list(reversed(estado[0]+estado[1]+estado[2]+estado[3]))\n",
    "    \n",
    "    return estado,Integer(salida,base=2).hex()\n"
   ]
  },
  {
   "cell_type": "markdown",
   "metadata": {},
   "source": [
    "## Ejercicio \n",
    "\n",
    "Considerando el cifrado en bloques MiniAES descrito en el ejercicio 2.\n",
    "1. Calcula $E_{dni}(0x01234567)$ usando el modo CBC e IV=$0x0001$.\n",
    "\n",
    "Donde el mensaje a cifrar es $0x01234567$"
   ]
  },
  {
   "cell_type": "code",
   "execution_count": 23,
   "metadata": {},
   "outputs": [
    {
     "name": "stdout",
     "output_type": "stream",
     "text": [
      "25 9 32\n",
      "[0, 0, 0, 0, 0, 0, 0, 1, 0, 0, 1, 0, 0, 0, 1, 1, 0, 1, 0, 0, 0, 1, 0, 1, 0, 1, 1, 0, 0, 1, 1, 1]\n",
      "sigma_k_0([[0, 0, 0, 0], [0, 0, 0, 1], [0, 0, 1, 0], [0, 0, 1, 0]]) =  [[0, 0, 1, 1], [1, 0, 0, 1], [0, 0, 0, 1], [0, 0, 1, 0]]\n",
      "gamma[[0, 0, 1, 1], [1, 0, 0, 1], [0, 0, 0, 1], [0, 0, 1, 0]]) = \n",
      " [[0, 1, 1, 1], [1, 1, 1, 0], [1, 0, 0, 0], [1, 1, 1, 1]]\n",
      "pi([[0, 1, 1, 1], [1, 1, 1, 0], [1, 0, 0, 0], [1, 1, 1, 1]]) = \n",
      " [[0, 1, 1, 1], [1, 1, 1, 1], [1, 0, 0, 0], [1, 1, 1, 0]]\n",
      "mix column ([[0, 1, 1, 1], [1, 1, 1, 1], [1, 0, 0, 0], [1, 1, 1, 0]]) = \n",
      " [[(0, 0, 1, 0), (0, 0, 1, 0)], [(0, 0, 1, 1), (0, 1, 0, 0)]]\n"
     ]
    },
    {
     "ename": "TypeError",
     "evalue": "unable to find a common ring for all elements",
     "output_type": "error",
     "traceback": [
      "\u001b[0;31m---------------------------------------------------------------------------\u001b[0m",
      "\u001b[0;31mTypeError\u001b[0m                                 Traceback (most recent call last)",
      "\u001b[0;32m/var/folders/6x/92l244517zjbjbndy62lk_9m0000gn/T/ipykernel_2890/1412994474.py\u001b[0m in \u001b[0;36m<module>\u001b[0;34m\u001b[0m\n\u001b[1;32m     45\u001b[0m     \u001b[0mprint\u001b[0m\u001b[0;34m(\u001b[0m\u001b[0;34mf'mix column ({pi}) = \\n'\u001b[0m\u001b[0;34m,\u001b[0m \u001b[0mmc\u001b[0m\u001b[0;34m)\u001b[0m\u001b[0;34m\u001b[0m\u001b[0;34m\u001b[0m\u001b[0m\n\u001b[1;32m     46\u001b[0m     \u001b[0;31m# sigma k1\u001b[0m\u001b[0;34m\u001b[0m\u001b[0;34m\u001b[0m\u001b[0m\n\u001b[0;32m---> 47\u001b[0;31m     \u001b[0msigma\u001b[0m \u001b[0;34m=\u001b[0m \u001b[0maddroundkey\u001b[0m\u001b[0;34m(\u001b[0m\u001b[0mmc\u001b[0m\u001b[0;34m,\u001b[0m\u001b[0;34m[\u001b[0m\u001b[0mww\u001b[0m\u001b[0;34m[\u001b[0m\u001b[0mindice_k_sigma\u001b[0m\u001b[0;34m+\u001b[0m\u001b[0mInteger\u001b[0m\u001b[0;34m(\u001b[0m\u001b[0;36m0\u001b[0m\u001b[0;34m)\u001b[0m\u001b[0;34m]\u001b[0m\u001b[0;34m,\u001b[0m\u001b[0mww\u001b[0m\u001b[0;34m[\u001b[0m\u001b[0mindice_k_sigma\u001b[0m\u001b[0;34m+\u001b[0m\u001b[0mInteger\u001b[0m\u001b[0;34m(\u001b[0m\u001b[0;36m1\u001b[0m\u001b[0;34m)\u001b[0m\u001b[0;34m]\u001b[0m\u001b[0;34m,\u001b[0m\u001b[0mww\u001b[0m\u001b[0;34m[\u001b[0m\u001b[0mindice_k_sigma\u001b[0m\u001b[0;34m+\u001b[0m\u001b[0mInteger\u001b[0m\u001b[0;34m(\u001b[0m\u001b[0;36m2\u001b[0m\u001b[0;34m)\u001b[0m\u001b[0;34m]\u001b[0m\u001b[0;34m,\u001b[0m\u001b[0mww\u001b[0m\u001b[0;34m[\u001b[0m\u001b[0mindice_k_sigma\u001b[0m\u001b[0;34m+\u001b[0m\u001b[0mInteger\u001b[0m\u001b[0;34m(\u001b[0m\u001b[0;36m3\u001b[0m\u001b[0;34m)\u001b[0m\u001b[0;34m]\u001b[0m\u001b[0;34m]\u001b[0m\u001b[0;34m)\u001b[0m\u001b[0;34m\u001b[0m\u001b[0;34m\u001b[0m\u001b[0m\n\u001b[0m\u001b[1;32m     48\u001b[0m     \u001b[0mindice_k_sigma\u001b[0m \u001b[0;34m+=\u001b[0m \u001b[0mInteger\u001b[0m\u001b[0;34m(\u001b[0m\u001b[0;36m4\u001b[0m\u001b[0;34m)\u001b[0m\u001b[0;34m\u001b[0m\u001b[0;34m\u001b[0m\u001b[0m\n\u001b[1;32m     49\u001b[0m     \u001b[0mprint\u001b[0m\u001b[0;34m(\u001b[0m\u001b[0;34mf'sigma_k_{cnt}({nl}) = '\u001b[0m\u001b[0;34m,\u001b[0m \u001b[0msigma\u001b[0m\u001b[0;34m)\u001b[0m\u001b[0;34m\u001b[0m\u001b[0;34m\u001b[0m\u001b[0m\n",
      "\u001b[0;32m/var/folders/6x/92l244517zjbjbndy62lk_9m0000gn/T/ipykernel_2890/3795420641.py\u001b[0m in \u001b[0;36maddroundkey\u001b[0;34m(ll, kk)\u001b[0m\n\u001b[1;32m     36\u001b[0m \u001b[0;34m\u001b[0m\u001b[0m\n\u001b[1;32m     37\u001b[0m \u001b[0;32mdef\u001b[0m \u001b[0maddroundkey\u001b[0m\u001b[0;34m(\u001b[0m\u001b[0mll\u001b[0m\u001b[0;34m,\u001b[0m\u001b[0mkk\u001b[0m\u001b[0;34m)\u001b[0m\u001b[0;34m:\u001b[0m\u001b[0;34m\u001b[0m\u001b[0;34m\u001b[0m\u001b[0m\n\u001b[0;32m---> 38\u001b[0;31m     \u001b[0;32mreturn\u001b[0m \u001b[0;34m[\u001b[0m\u001b[0mlist\u001b[0m\u001b[0;34m(\u001b[0m\u001b[0mvector\u001b[0m\u001b[0;34m(\u001b[0m\u001b[0mll\u001b[0m\u001b[0;34m[\u001b[0m\u001b[0mInteger\u001b[0m\u001b[0;34m(\u001b[0m\u001b[0;36m0\u001b[0m\u001b[0;34m)\u001b[0m\u001b[0;34m]\u001b[0m\u001b[0;34m)\u001b[0m\u001b[0;34m+\u001b[0m\u001b[0mvector\u001b[0m\u001b[0;34m(\u001b[0m\u001b[0mkk\u001b[0m\u001b[0;34m[\u001b[0m\u001b[0mInteger\u001b[0m\u001b[0;34m(\u001b[0m\u001b[0;36m0\u001b[0m\u001b[0;34m)\u001b[0m\u001b[0;34m]\u001b[0m\u001b[0;34m)\u001b[0m\u001b[0;34m)\u001b[0m\u001b[0;34m,\u001b[0m\u001b[0mlist\u001b[0m\u001b[0;34m(\u001b[0m\u001b[0mvector\u001b[0m\u001b[0;34m(\u001b[0m\u001b[0mll\u001b[0m\u001b[0;34m[\u001b[0m\u001b[0mInteger\u001b[0m\u001b[0;34m(\u001b[0m\u001b[0;36m1\u001b[0m\u001b[0;34m)\u001b[0m\u001b[0;34m]\u001b[0m\u001b[0;34m)\u001b[0m\u001b[0;34m+\u001b[0m\u001b[0mvector\u001b[0m\u001b[0;34m(\u001b[0m\u001b[0mkk\u001b[0m\u001b[0;34m[\u001b[0m\u001b[0mInteger\u001b[0m\u001b[0;34m(\u001b[0m\u001b[0;36m1\u001b[0m\u001b[0;34m)\u001b[0m\u001b[0;34m]\u001b[0m\u001b[0;34m)\u001b[0m\u001b[0;34m)\u001b[0m\u001b[0;34m,\u001b[0m\u001b[0mlist\u001b[0m\u001b[0;34m(\u001b[0m\u001b[0mvector\u001b[0m\u001b[0;34m(\u001b[0m\u001b[0mll\u001b[0m\u001b[0;34m[\u001b[0m\u001b[0mInteger\u001b[0m\u001b[0;34m(\u001b[0m\u001b[0;36m2\u001b[0m\u001b[0;34m)\u001b[0m\u001b[0;34m]\u001b[0m\u001b[0;34m)\u001b[0m\u001b[0;34m+\u001b[0m\u001b[0mvector\u001b[0m\u001b[0;34m(\u001b[0m\u001b[0mkk\u001b[0m\u001b[0;34m[\u001b[0m\u001b[0mInteger\u001b[0m\u001b[0;34m(\u001b[0m\u001b[0;36m2\u001b[0m\u001b[0;34m)\u001b[0m\u001b[0;34m]\u001b[0m\u001b[0;34m)\u001b[0m\u001b[0;34m)\u001b[0m\u001b[0;34m,\u001b[0m\u001b[0mlist\u001b[0m\u001b[0;34m(\u001b[0m\u001b[0mvector\u001b[0m\u001b[0;34m(\u001b[0m\u001b[0mll\u001b[0m\u001b[0;34m[\u001b[0m\u001b[0mInteger\u001b[0m\u001b[0;34m(\u001b[0m\u001b[0;36m3\u001b[0m\u001b[0;34m)\u001b[0m\u001b[0;34m]\u001b[0m\u001b[0;34m)\u001b[0m\u001b[0;34m+\u001b[0m\u001b[0mvector\u001b[0m\u001b[0;34m(\u001b[0m\u001b[0mkk\u001b[0m\u001b[0;34m[\u001b[0m\u001b[0mInteger\u001b[0m\u001b[0;34m(\u001b[0m\u001b[0;36m3\u001b[0m\u001b[0;34m)\u001b[0m\u001b[0;34m]\u001b[0m\u001b[0;34m)\u001b[0m\u001b[0;34m)\u001b[0m\u001b[0;34m]\u001b[0m\u001b[0;34m\u001b[0m\u001b[0;34m\u001b[0m\u001b[0m\n\u001b[0m\u001b[1;32m     39\u001b[0m \u001b[0;34m\u001b[0m\u001b[0m\n\u001b[1;32m     40\u001b[0m \u001b[0;32mdef\u001b[0m \u001b[0mNumberToMatriz\u001b[0m \u001b[0;34m(\u001b[0m\u001b[0mbinario\u001b[0m\u001b[0;34m)\u001b[0m\u001b[0;34m:\u001b[0m\u001b[0;34m\u001b[0m\u001b[0;34m\u001b[0m\u001b[0m\n",
      "\u001b[0;32m/private/var/tmp/sage-9.5-current/local/var/lib/sage/venv-python3.9.9/lib/python3.9/site-packages/sage/modules/free_module_element.pyx\u001b[0m in \u001b[0;36msage.modules.free_module_element.vector (build/cythonized/sage/modules/free_module_element.c:6808)\u001b[0;34m()\u001b[0m\n\u001b[1;32m    578\u001b[0m             \u001b[0msparse\u001b[0m \u001b[0;34m=\u001b[0m \u001b[0;32mFalse\u001b[0m\u001b[0;34m\u001b[0m\u001b[0;34m\u001b[0m\u001b[0m\n\u001b[1;32m    579\u001b[0m \u001b[0;34m\u001b[0m\u001b[0m\n\u001b[0;32m--> 580\u001b[0;31m     \u001b[0mv\u001b[0m\u001b[0;34m,\u001b[0m \u001b[0mR\u001b[0m \u001b[0;34m=\u001b[0m \u001b[0mprepare\u001b[0m\u001b[0;34m(\u001b[0m\u001b[0mv\u001b[0m\u001b[0;34m,\u001b[0m \u001b[0mR\u001b[0m\u001b[0;34m,\u001b[0m \u001b[0mdegree\u001b[0m\u001b[0;34m)\u001b[0m\u001b[0;34m\u001b[0m\u001b[0;34m\u001b[0m\u001b[0m\n\u001b[0m\u001b[1;32m    581\u001b[0m \u001b[0;34m\u001b[0m\u001b[0m\n\u001b[1;32m    582\u001b[0m     \u001b[0mM\u001b[0m \u001b[0;34m=\u001b[0m \u001b[0mFreeModule\u001b[0m\u001b[0;34m(\u001b[0m\u001b[0mR\u001b[0m\u001b[0;34m,\u001b[0m \u001b[0mlen\u001b[0m\u001b[0;34m(\u001b[0m\u001b[0mv\u001b[0m\u001b[0;34m)\u001b[0m\u001b[0;34m,\u001b[0m \u001b[0mbool\u001b[0m\u001b[0;34m(\u001b[0m\u001b[0msparse\u001b[0m\u001b[0;34m)\u001b[0m\u001b[0;34m)\u001b[0m\u001b[0;34m\u001b[0m\u001b[0;34m\u001b[0m\u001b[0m\n",
      "\u001b[0;32m/private/var/tmp/sage-9.5-current/local/var/lib/sage/venv-python3.9.9/lib/python3.9/site-packages/sage/modules/free_module_element.pyx\u001b[0m in \u001b[0;36msage.modules.free_module_element.prepare (build/cythonized/sage/modules/free_module_element.c:7479)\u001b[0;34m()\u001b[0m\n\u001b[1;32m    679\u001b[0m     \u001b[0mring\u001b[0m \u001b[0;34m=\u001b[0m \u001b[0mv\u001b[0m\u001b[0;34m.\u001b[0m\u001b[0muniverse\u001b[0m\u001b[0;34m(\u001b[0m\u001b[0;34m)\u001b[0m\u001b[0;34m\u001b[0m\u001b[0;34m\u001b[0m\u001b[0m\n\u001b[1;32m    680\u001b[0m     \u001b[0;32mif\u001b[0m \u001b[0;32mnot\u001b[0m \u001b[0mis_Ring\u001b[0m\u001b[0;34m(\u001b[0m\u001b[0mring\u001b[0m\u001b[0;34m)\u001b[0m\u001b[0;34m:\u001b[0m\u001b[0;34m\u001b[0m\u001b[0;34m\u001b[0m\u001b[0m\n\u001b[0;32m--> 681\u001b[0;31m         \u001b[0;32mraise\u001b[0m \u001b[0mTypeError\u001b[0m\u001b[0;34m(\u001b[0m\u001b[0;34m\"unable to find a common ring for all elements\"\u001b[0m\u001b[0;34m)\u001b[0m\u001b[0;34m\u001b[0m\u001b[0;34m\u001b[0m\u001b[0m\n\u001b[0m\u001b[1;32m    682\u001b[0m     \u001b[0;32mreturn\u001b[0m \u001b[0mv\u001b[0m\u001b[0;34m,\u001b[0m \u001b[0mring\u001b[0m\u001b[0;34m\u001b[0m\u001b[0;34m\u001b[0m\u001b[0m\n\u001b[1;32m    683\u001b[0m \u001b[0;34m\u001b[0m\u001b[0m\n",
      "\u001b[0;31mTypeError\u001b[0m: unable to find a common ring for all elements"
     ]
    }
   ],
   "source": [
    "mm = 0x01234567 #mensaje \n",
    "kk = 75577392 % 65536 # clave \n",
    "tam = 16 \n",
    "\n",
    "# Calulamos k_o\n",
    "ww =key_schedule(kk)\n",
    "\n",
    "mensaje = mm.bits()\n",
    "print(len(mensaje),len(mensaje)%tam, tam-len(mensaje)%16+len(mensaje)) \n",
    "# añadimos ceros hasta completar un bloque\n",
    "longitud = 16-len(mensaje)%tam\n",
    "for i in range(longitud+2, tam):\n",
    "    mensaje.append(0)\n",
    "\n",
    "mensaje = list(reversed(mensaje))\n",
    "print(mensaje)\n",
    "mc = 0\n",
    "ms_length = len(mensaje)\n",
    "c = 0b1\n",
    "cnt = 0\n",
    "indice_k_sigma = 0\n",
    "for i in range(0, ms_length, tam):\n",
    "    if(i == ms_length-tam):\n",
    "        m = mensaje[i:]\n",
    "    else:\n",
    "        m = mensaje[i:tam]\n",
    "    m='0b'+''.join(map(str, m))\n",
    "    m = format(Integer(m), 'b')\n",
    "    n = str(1^^Integer(m))\n",
    "    nl = NumberToMatriz(n)\n",
    "    ## Vamos concatenandando E_k\n",
    "    # sigma k0\n",
    "    sigma = addroundkey(nl,[ww[indice_k_sigma+0],ww[indice_k_sigma+1],ww[indice_k_sigma+2],ww[indice_k_sigma+3]])\n",
    "    indice_k_sigma += 4\n",
    "    print(f'sigma_k_{cnt}({nl}) = ', sigma)\n",
    "    cnt +=1\n",
    "    # gama \n",
    "    gamma = [nibblsub(ele) for ele in sigma]\n",
    "    print(f'gamma{sigma}) = \\n', gamma)\n",
    "    # pi \n",
    "    pi = shiftrow(gamma)\n",
    "    print(f'pi({gamma}) = \\n', pi)\n",
    "    # tetha miscolumn\n",
    "    mc = [list(map(vector, row)) for row in mixcolumn(pi)] \n",
    "    print(f'mix column ({pi}) = \\n', mc)\n",
    "    # sigma k1\n",
    "    sigma = addroundkey(mc,[ww[indice_k_sigma+0],ww[indice_k_sigma+1],ww[indice_k_sigma+2],ww[indice_k_sigma+3]])\n",
    "    indice_k_sigma += 4\n",
    "    print(f'sigma_k_{cnt}({nl}) = ', sigma)\n",
    "    cnt +=1\n",
    "    # gama \n",
    "    gamma = [nibblsub(ele) for ele in sigma]\n",
    "    print(f'gamma{sigma}) = \\n', gamma)\n",
    "    # pi \n",
    "    pi = shiftrow(gamma)\n",
    "    print(f'pi({gamma}) = \\n', pi)\n",
    "    # sigma k2\n",
    "    sigma = addroundkey(pi,[ww[indice_k_sigma+0],ww[indice_k_sigma+1],ww[indice_k_sigma+2],ww[indice_k_sigma+3]])\n",
    "    print(f'sigma_k_{cnt}({pi}) = ', sigma)\n",
    "\n",
    "\n",
    "\n",
    "\n",
    "\n"
   ]
  },
  {
   "cell_type": "code",
   "execution_count": 18,
   "metadata": {},
   "outputs": [
    {
     "data": {
      "text/plain": [
       "(1, 1, 1, 0)"
      ]
     },
     "execution_count": 18,
     "metadata": {},
     "output_type": "execute_result"
    }
   ],
   "source": [
    "vector(mc[0][0])"
   ]
  },
  {
   "cell_type": "code",
   "execution_count": null,
   "metadata": {},
   "outputs": [],
   "source": []
  }
 ],
 "metadata": {
  "interpreter": {
   "hash": "10ee41b0a2b4dea8aca2e0ba0733240772c8bdfa2bc24a889a116731a918817c"
  },
  "kernelspec": {
   "display_name": "SageMath 9.5",
   "language": "sage",
   "name": "SageMath-9.5"
  },
  "language_info": {
   "codemirror_mode": {
    "name": "ipython",
    "version": 3
   },
   "file_extension": ".py",
   "mimetype": "text/x-python",
   "name": "python",
   "nbconvert_exporter": "python",
   "pygments_lexer": "ipython3",
   "version": "3.9.9"
  },
  "orig_nbformat": 4
 },
 "nbformat": 4,
 "nbformat_minor": 2
}
