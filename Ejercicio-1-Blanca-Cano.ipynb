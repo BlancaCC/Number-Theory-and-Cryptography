{
 "cells": [
  {
   "cell_type": "markdown",
   "metadata": {},
   "source": [
    "# Ejercicios Teoría de Números \n",
    "## Datos personales\n",
    "- Alumna: Blanca Cana Camarero \n",
    "- Correo: blancacano@correo.ugr.es\n",
    "\n",
    "## Ejercicio primero \n",
    "Dado un número : "
   ]
  },
  {
   "cell_type": "markdown",
   "metadata": {},
   "source": []
  },
  {
   "cell_type": "code",
   "execution_count": 8,
   "metadata": {},
   "outputs": [
    {
     "data": {
      "text/plain": [
       "75577392"
      ]
     },
     "execution_count": 8,
     "metadata": {},
     "output_type": "execute_result"
    }
   ],
   "source": [
    "n = 75577392"
   ]
  },
  {
   "cell_type": "markdown",
   "metadata": {},
   "source": [
    "i) Mientras $n$ sea múltiplo de 2, 3, 5, 7 u 11 le sumas uno. De forma que tu nuevo $n$ no tenga esos divisores primos."
   ]
  },
  {
   "cell_type": "code",
   "execution_count": 9,
   "metadata": {},
   "outputs": [
    {
     "name": "stdout",
     "output_type": "stream",
     "text": [
      "El valor n = 75577393 no es múltiplo de ningún elemento de [2, 3, 5, 7, 11]."
     ]
    }
   ],
   "source": [
    "primos = [2,3,5,7,11]\n",
    "no_es_multiplo = true\n",
    "while no_es_multiplo\n",
    "    no_es_multiplo = false\n",
    "    for p in primos\n",
    "        if mod(n,p) == 0\n",
    "            n += 1\n",
    "            no_es_multiplo = true\n",
    "        end\n",
    "    end\n",
    "end\n",
    "print(\"El valor n = $n no es múltiplo de ningún elemento de $primos.\")"
   ]
  },
  {
   "cell_type": "markdown",
   "metadata": {},
   "source": [
    "ii) Calcula $a^{n-1}$ mod $n$, para cada uno de esas cinco bases usando sucesivamente el algoritmo de izquierda-derecha y de derecha.\n",
    "\n",
    "### Base matemática  \n",
    "**Pequeño teorema de Fermat**  \n",
    "\n",
    "Sea $p$ un número primo, entonces para cada natural $a > 0$ se tiene que \n",
    "$$a^p \\equiv a \\mod(p)$$\n",
    "\n",
    "Razonaremos por contradicción, si encontramos un $a$ natural positivo tal que \n",
    "$$a^{p-1} \\mod p \\not \\equiv 1$$\n",
    "entonces sabremos que $p$ no es primo.\n",
    "\n",
    "TODO-\n",
    "En caso contrario diremos que $p$ es un candidato a primo en la base $a$ de Fermat. \n",
    "\n",
    "Antes de aplicar el algoritmo, necesitaremos calcular la exponencial, lo haremos por dos método de la exponencial rápida. \n",
    "\n",
    "#### Algoritmo de derecha izquierda\n",
    "La idea que subyace es que los dígitos en binario no se conocen, así que se van calculando a la par que se aplica el algoritmo. "
   ]
  },
  {
   "cell_type": "code",
   "execution_count": 25,
   "metadata": {},
   "outputs": [
    {
     "name": "stdout",
     "output_type": "stream",
     "text": [
      "Ejección de derecha a izquierda para n=27213647\n",
      "paso 0, acu: 1, base: 2\n",
      "paso 1, acu: 1, base: 4\n",
      "paso 2, acu: 4, base: 16\n",
      "paso 3, acu: 64, base: 256\n",
      "paso 4, acu: 16384, base: 65536\n",
      "paso 5, acu: 16384, base: 22424717\n",
      "paso 6, acu: 16384, base: 12167649\n",
      "paso 7, acu: 14796941, base: 26585339\n",
      "paso 8, acu: 14796941, base: 9779482\n",
      "paso 9, acu: 120175, base: 15067521\n",
      "paso 10, acu: 24905736, base: 12424177\n",
      "paso 11, acu: 9320126, base: 14159809\n",
      "paso 12, acu: 10785431, base: 15283\n",
      "paso 13, acu: 682094, base: 15860913\n",
      "paso 14, acu: 11508854, base: 2314287\n",
      "paso 15, acu: 11508854, base: 6452299\n",
      "paso 16, acu: 11508854, base: 17649979\n",
      "paso 17, acu: 15616437, base: 11515927\n",
      "paso 18, acu: 8921297, base: 9800221\n",
      "paso 19, acu: 10593740, base: 23701151\n",
      "paso 20, acu: 1995822, base: 21932449\n",
      "paso 21, acu: 4173990, base: 3214080\n",
      "paso 22, acu: 4173990, base: 9845200\n",
      "paso 23, acu: 4173990, base: 760573\n",
      "paso 24, acu: 16105485, base: 18007697\n",
      "paso 25, acu: 1, base: 13932984\n"
     ]
    },
    {
     "data": {
      "text/plain": [
       "1"
      ]
     },
     "execution_count": 25,
     "metadata": {},
     "output_type": "execute_result"
    }
   ],
   "source": [
    "function RightToLeftFastExponential(base::Integer, exp::Integer, p :: Integer)\n",
    "    a = base\n",
    "    b = exp\n",
    "    n = p\n",
    "    acc = 1\n",
    "    while b > 0\n",
    "        if mod(b,2) == 1\n",
    "            acc = mod(acc*a, p)\n",
    "        end\n",
    "        b = floor(Int, b/2)\n",
    "        a = mod(a^2, n)\n",
    "    end \n",
    "    return acc\n",
    "end\n",
    "\n",
    "function VerboseRightToLeftFastExponential(base::Integer, exp::Integer, p :: Integer)\n",
    "    paso = 0\n",
    "    a = base\n",
    "    b = exp\n",
    "    n = p\n",
    "    acc = 1\n",
    "\n",
    "    println(\"paso $paso, acu: $acc, base: $base\")\n",
    "    while b > 0\n",
    "        if mod(b,2) == 1\n",
    "            acc = mod(acc*a, p)\n",
    "        end\n",
    "        b = floor(Int, b/2)\n",
    "        a = mod(a^2, n)\n",
    "        paso +=1\n",
    "        println(\"paso $paso, acu: $acc, base: $a\")\n",
    "    end \n",
    "    return acc\n",
    "end\n",
    "p=27213647\n",
    "println(\"Ejección de derecha a izquierda para n=$p\")\n",
    "VerboseRightToLeftFastExponential(2, p-1, p)"
   ]
  },
  {
   "cell_type": "code",
   "execution_count": null,
   "metadata": {},
   "outputs": [],
   "source": []
  },
  {
   "cell_type": "code",
   "execution_count": 22,
   "metadata": {},
   "outputs": [
    {
     "name": "stdout",
     "output_type": "stream",
     "text": [
      "ALGORITMO DE DERECHA A IZQUIERDA \n",
      "------------------------------------------------------------\n",
      "------------------------------------------------------------\n",
      "Ejección de derecha a izquierda para base=2 y n=27213647 \n",
      "------------------------------------------------------------\n",
      "paso 0, acu: 1, base: 2\n",
      "paso 1, acu: 1, base: 4\n",
      "paso 2, acu: 1, base: 16\n",
      "paso 3, acu: 1, base: 256\n",
      "paso 4, acu: 1, base: 65536\n",
      "paso 5, acu: 65536, base: 62633288\n",
      "paso 6, acu: 51371145, base: 64387535\n",
      "paso 7, acu: 51371145, base: 630021\n",
      "paso 8, acu: 51371145, base: 69569798\n",
      "paso 9, acu: 51371145, base: 45008198\n",
      "paso 10, acu: 51371145, base: 65283027\n",
      "paso 11, acu: 51371145, base: 31073893\n",
      "paso 12, acu: 56423783, base: 1414180\n",
      "paso 13, acu: 58729221, base: 51676227\n",
      "paso 14, acu: 19427703, base: 29351351\n",
      "paso 15, acu: 19427703, base: 15248746\n",
      "paso 16, acu: 19427703, base: 50905175\n",
      "paso 17, acu: 75330163, base: 30397990\n",
      "paso 18, acu: 75330163, base: 20967546\n",
      "paso 19, acu: 75330163, base: 57847108\n",
      "paso 20, acu: 75330163, base: 49236013\n",
      "paso 21, acu: 75330163, base: 39642879\n",
      "paso 22, acu: 75330163, base: 33818781\n",
      "paso 23, acu: 75330163, base: 56420502\n",
      "paso 24, acu: 25252192, base: 35178271\n",
      "paso 25, acu: 25252192, base: 17911643\n",
      "paso 26, acu: 25252192, base: 14745733\n",
      "paso 27, acu: 50057215, base: 28581931\n",
      "Se tiene que 2^(27213647-1) mod 27213647 = 50057215\n",
      "------------------------------------------------------------\n",
      "------------------------------------------------------------\n",
      "Ejección de derecha a izquierda para base=5 y n=27213647 \n",
      "------------------------------------------------------------\n",
      "paso 0, acu: 1, base: 5\n",
      "paso 1, acu: 1, base: 25\n",
      "paso 2, acu: 1, base: 625\n",
      "paso 3, acu: 1, base: 390625\n",
      "paso 4, acu: 1, base: 72711551\n",
      "paso 5, acu: 72711551, base: 55071654\n",
      "paso 6, acu: 23633979, base: 722994\n",
      "paso 7, acu: 23633979, base: 27074048\n",
      "paso 8, acu: 23633979, base: 26491951\n",
      "paso 9, acu: 23633979, base: 6315093\n",
      "paso 10, acu: 23633979, base: 23169981\n",
      "paso 11, acu: 23633979, base: 30772177\n",
      "paso 12, acu: 51278342, base: 35312367\n",
      "paso 13, acu: 41617191, base: 65962381\n",
      "paso 14, acu: 6784718, base: 72475540\n",
      "paso 15, acu: 6784718, base: 36440351\n",
      "paso 16, acu: 6784718, base: 2504407\n",
      "paso 17, acu: 7871001, base: 37731365\n",
      "paso 18, acu: 7871001, base: 18178645\n",
      "paso 19, acu: 7871001, base: 637416\n",
      "paso 20, acu: 7871001, base: 70669681\n",
      "paso 21, acu: 7871001, base: 28854560\n",
      "paso 22, acu: 7871001, base: 55388517\n",
      "paso 23, acu: 7871001, base: 19836944\n",
      "paso 24, acu: 60623956, base: 69769616\n",
      "paso 25, acu: 60623956, base: 7608436\n",
      "paso 26, acu: 60623956, base: 20929925\n",
      "paso 27, acu: 58601398, base: 75199025\n",
      "Se tiene que 5^(27213647-1) mod 27213647 = 58601398\n",
      "------------------------------------------------------------\n",
      "------------------------------------------------------------\n",
      "Ejección de derecha a izquierda para base=7 y n=27213647 \n",
      "------------------------------------------------------------\n",
      "paso 0, acu: 1, base: 7\n",
      "paso 1, acu: 1, base: 49\n",
      "paso 2, acu: 1, base: 2401\n",
      "paso 3, acu: 1, base: 5764801\n",
      "paso 4, acu: 1, base: 39319641\n",
      "paso 5, acu: 39319641, base: 41633409\n",
      "paso 6, acu: 55194768, base: 66480796\n",
      "paso 7, acu: 55194768, base: 52087355\n",
      "paso 8, acu: 55194768, base: 30348639\n",
      "paso 9, acu: 55194768, base: 42527898\n",
      "paso 10, acu: 55194768, base: 73466300\n",
      "paso 11, acu: 55194768, base: 65944225\n",
      "paso 12, acu: 15243323, base: 72566388\n",
      "paso 13, acu: 51112320, base: 38200531\n",
      "paso 14, acu: 1252680, base: 68668543\n",
      "paso 15, acu: 1252680, base: 20957669\n",
      "paso 16, acu: 1252680, base: 51034800\n",
      "paso 17, acu: 36721837, base: 48265245\n",
      "paso 18, acu: 36721837, base: 24820324\n",
      "paso 19, acu: 36721837, base: 72631158\n",
      "paso 20, acu: 36721837, base: 10356996\n",
      "paso 21, acu: 36721837, base: 69949544\n",
      "paso 22, acu: 36721837, base: 12817933\n",
      "paso 23, acu: 36721837, base: 49047143\n",
      "paso 24, acu: 13261803, base: 14618675\n",
      "paso 25, acu: 13261803, base: 74790498\n",
      "paso 26, acu: 13261803, base: 73737569\n",
      "paso 27, acu: 22113448, base: 67650685\n",
      "Se tiene que 7^(27213647-1) mod 27213647 = 22113448\n",
      "------------------------------------------------------------\n",
      "------------------------------------------------------------\n",
      "Ejección de derecha a izquierda para base=11 y n=27213647 \n",
      "------------------------------------------------------------\n",
      "paso 0, acu: 1, base: 11\n",
      "paso 1, acu: 1, base: 121\n",
      "paso 2, acu: 1, base: 14641\n",
      "paso 3, acu: 1, base: 63204095\n",
      "paso 4, acu: 1, base: 18003630\n",
      "paso 5, acu: 18003630, base: 38382975\n",
      "paso 6, acu: 56590910, base: 50461118\n",
      "paso 7, acu: 56590910, base: 2150229\n",
      "paso 8, acu: 56590910, base: 37735666\n",
      "paso 9, acu: 56590910, base: 72553434\n",
      "paso 10, acu: 56590910, base: 68099825\n",
      "paso 11, acu: 56590910, base: 53995792\n",
      "paso 12, acu: 68674646, base: 16083735\n",
      "paso 13, acu: 27558667, base: 4057646\n",
      "paso 14, acu: 62318584, base: 31573659\n",
      "paso 15, acu: 62318584, base: 49175867\n",
      "paso 16, acu: 62318584, base: 28973373\n",
      "paso 17, acu: 63341729, base: 24794416\n",
      "paso 18, acu: 63341729, base: 74247382\n",
      "paso 19, acu: 63341729, base: 40376956\n",
      "paso 20, acu: 63341729, base: 39384258\n",
      "paso 21, acu: 63341729, base: 48700122\n",
      "paso 22, acu: 63341729, base: 4187798\n",
      "paso 23, acu: 63341729, base: 69197940\n",
      "paso 24, acu: 58457034, base: 52532211\n",
      "paso 25, acu: 58457034, base: 37814342\n",
      "paso 26, acu: 58457034, base: 34178178\n",
      "paso 27, acu: 21343212, base: 9467675\n",
      "Se tiene que 11^(27213647-1) mod 27213647 = 21343212\n"
     ]
    }
   ],
   "source": [
    "bases = [2,5,7,11]\n",
    "println(\"ALGORITMO DE DERECHA A IZQUIERDA \")\n",
    "for b in bases\n",
    "    println(repeat('-', 60))\n",
    "    println(repeat('-', 60))\n",
    "    println(\"Ejección de derecha a izquierda para base=$b y n=$p \")\n",
    "    println(repeat('-', 60))\n",
    "    r = VerboseRightToLeftFastExponential(b, n-1, n)\n",
    "    println(\"Se tiene que $(b)^($p-1) mod $p = $(r)\")\n",
    "end\n"
   ]
  },
  {
   "cell_type": "markdown",
   "metadata": {},
   "source": [
    "### Algoritmo de derecha a izquierda \n",
    "- Se calcula previamente el valor del número en base 2. "
   ]
  },
  {
   "cell_type": "code",
   "execution_count": 37,
   "metadata": {},
   "outputs": [
    {
     "name": "stdout",
     "output_type": "stream",
     "text": [
      "p-1 = 27213646 = 1100111110011111101001110 (en binario)\n",
      "Paso 0 , acu: 1\n",
      "Paso 1 , acu: 2\n",
      "Paso 2 , acu: 8\n",
      "Paso 3 , acu: 64\n",
      "Paso 4 , acu: 4096\n",
      "Paso 5 , acu: 6340785\n",
      "Paso 6 , acu: 6967674\n",
      "Paso 7 , acu: 2913255\n",
      "Paso 8 , acu: 5278505\n",
      "Paso 9 , acu: 8390032\n",
      "Paso 10 , acu: 21530122\n",
      "Paso 11 , acu: 20718507\n",
      "Paso 12 , acu: 6234754\n",
      "Paso 13 , acu: 14354021\n",
      "Paso 14 , acu: 18664779\n",
      "Paso 15 , acu: 21238793\n",
      "Paso 16 , acu: 9159785\n",
      "Paso 17 , acu: 1897988\n",
      "Paso 18 , acu: 6353813\n",
      "Paso 19 , acu: 22747524\n",
      "Paso 20 , acu: 12082479\n",
      "Paso 21 , acu: 22922644\n",
      "Paso 22 , acu: 15226206\n",
      "Paso 23 , acu: 8424067\n",
      "Paso 24 , acu: 1\n",
      "Paso 25 , acu: 1\n"
     ]
    },
    {
     "data": {
      "text/plain": [
       "1"
      ]
     },
     "execution_count": 37,
     "metadata": {},
     "output_type": "execute_result"
    }
   ],
   "source": [
    "function LeftToRightFastExponential(base::Integer, exp::Integer, p::Integer)\n",
    "    b = string(exp; base=2)\n",
    "    a = base\n",
    "    c = 0\n",
    "    acc = 1\n",
    "    n = p\n",
    "    for i in b\n",
    "        c = 2c\n",
    "        acc = mod(acc ^2, n)\n",
    "        if i == '1'\n",
    "            c += 1\n",
    "            acc = mod(acc*a, n )\n",
    "        end\n",
    "    end \n",
    "    return acc\n",
    "end \n",
    "\n",
    "# verbose version \n",
    "\n",
    "function VerboseLeftToRightFastExponential(base::Integer, exp::Integer, p::Integer)\n",
    "    b = string(exp; base=2)\n",
    "    a = base\n",
    "    println(\"p-1 = $exp = $(b) (en binario)\")\n",
    "    paso = 0\n",
    "    c = 0\n",
    "    acc = 1\n",
    "    n = p\n",
    "    println(\"Paso $paso , acu: $acc\")\n",
    "    for i in b\n",
    "        c = 2c\n",
    "        acc = mod(acc ^2, n)\n",
    "        if i == '1'\n",
    "            c += 1\n",
    "            acc = mod(acc*a, n )\n",
    "        end\n",
    "        paso +=1\n",
    "        println(\"Paso $paso , acu: $acc\")\n",
    "    end \n",
    "    return acc\n",
    "end \n",
    "# Ejemplo de la diapositiva\n",
    "p=27213647\n",
    "VerboseLeftToRightFastExponential(2, p-1, p)"
   ]
  },
  {
   "cell_type": "code",
   "execution_count": 13,
   "metadata": {},
   "outputs": [
    {
     "name": "stdout",
     "output_type": "stream",
     "text": [
      "ALGORITMO IZQUIERDA A DERECHA\n",
      "Para base b=2 0\n",
      "Para base b=5 69095490\n",
      "Para base b=7 41203985\n",
      "Para base b=11 39074249\n"
     ]
    }
   ],
   "source": [
    "bases = [2,5,7,11]\n",
    "println(\"ALGORITMO IZQUIERDA A DERECHA\")\n",
    "for b in bases\n",
    "    r =  LeftToRightFastExponential(b, n-1, n)\n",
    "    println(\"Para base b=$(b) $(r)\")\n",
    "end\n"
   ]
  },
  {
   "cell_type": "code",
   "execution_count": 38,
   "metadata": {},
   "outputs": [
    {
     "name": "stdout",
     "output_type": "stream",
     "text": [
      "ALGORITMO DE DERECHA A IZQUIERDA y de izquierda a derecha \n",
      "Para base b=2 50057215 vs 50057215\n",
      "Para base b=5 58601398 vs 58601398\n",
      "Para base b=7 22113448 vs 22113448\n",
      "Para base b=11 21343212 vs 21343212\n"
     ]
    }
   ],
   "source": [
    "bases = [2,5,7,11]\n",
    "println(\"ALGORITMO DE DERECHA A IZQUIERDA y de izquierda a derecha \")\n",
    "for b in bases\n",
    "    r1 = RightToLeftFastExponential(b, n-1, n)\n",
    "    r2 = LeftToRightFastExponential(b, n-1, n)\n",
    "    println(\"Para base b=$(b) $(r1) vs $r2\")\n",
    "end\n"
   ]
  },
  {
   "cell_type": "code",
   "execution_count": 39,
   "metadata": {},
   "outputs": [
    {
     "name": "stdout",
     "output_type": "stream",
     "text": [
      "= 1 que en mi algoritmo es 1\n",
      "= 2 que en mi algoritmo es 2\n",
      "= 1 que en mi algoritmo es 1\n",
      "= 1 que en mi algoritmo es 1\n",
      "= 0 que en mi algoritmo es 0\n",
      "= 4 que en mi algoritmo es 4\n",
      "= 0 que en mi algoritmo es 0\n",
      "= 1 que en mi algoritmo es 1\n",
      "= 0 que en mi algoritmo es 0\n",
      "= 0 que en mi algoritmo es 0\n",
      "= 0 que en mi algoritmo es 0\n",
      "= 0 que en mi algoritmo es 0\n",
      "= 0 que en mi algoritmo es 0\n",
      "= 1 que en mi algoritmo es 1\n",
      "= 2 que en mi algoritmo es 2\n",
      "= 0 que en mi algoritmo es 0\n",
      "= 0 que en mi algoritmo es 0\n",
      "= 4 que en mi algoritmo es 4\n",
      "= 0 que en mi algoritmo es 0\n",
      "= 1 que en mi algoritmo es 1\n",
      "= 0 que en mi algoritmo es 0\n",
      "= 0 que en mi algoritmo es 0\n",
      "= 1 que en mi algoritmo es 1\n",
      "= 0 que en mi algoritmo es 0\n",
      "= 0 que en mi algoritmo es 0\n",
      "= 2 que en mi algoritmo es 2\n",
      "= 4 que en mi algoritmo es 4\n",
      "= 1 que en mi algoritmo es 1\n",
      "= 1 que en mi algoritmo es 1\n",
      "= 3 que en mi algoritmo es 3\n",
      "Hay 0 errores\n",
      "Any[]\n"
     ]
    }
   ],
   "source": [
    "# Test\n",
    "errores = 0\n",
    "l = []\n",
    "f(a,b,n) = mod(a^b, n)\n",
    "for i in 1:10\n",
    "    for n in [2,3,5]\n",
    "        b,e = map(abs, rand(big.(2:10),2 )) \n",
    "        x = f(b,e,n)\n",
    "        y = RightToLeftFastExponential(b,e,n)\n",
    "        if x != y \n",
    "             errores +=1 \n",
    "             push!(l, (b,e,n))\n",
    "        end\n",
    "        println(\"= $(f(b,e,n)) que en mi algoritmo es $(RightToLeftFastExponential(b,e,n))\")\n",
    "    end\n",
    "end\n",
    "println(\"Hay $(errores) errores\")\n",
    "println(l)"
   ]
  },
  {
   "cell_type": "code",
   "execution_count": null,
   "metadata": {},
   "outputs": [],
   "source": []
  }
 ],
 "metadata": {
  "kernelspec": {
   "display_name": "Julia 1.7.1",
   "language": "julia",
   "name": "julia-1.7"
  },
  "language_info": {
   "file_extension": ".jl",
   "mimetype": "application/julia",
   "name": "julia",
   "version": "1.7.1"
  },
  "orig_nbformat": 4
 },
 "nbformat": 4,
 "nbformat_minor": 2
}
