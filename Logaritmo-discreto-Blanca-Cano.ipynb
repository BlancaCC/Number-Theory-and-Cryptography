{
 "cells": [
  {
   "cell_type": "markdown",
   "metadata": {},
   "source": [
    "# Ejercicios de evaluación de logaritmo discreto\n",
    "\n",
    "Ejercicio. Los parámetros de un criptosistema de ElGamal son $p = 211$ y $g = 3$, es decir, el criptosistema está diseñado en el cuerpo $F_{211}$ = $Z_{211}$ y tomamos como generador de $F^∗_{211}$, $g = 3$. La clave pública empleada es $3^a = 109 \\mod 211$. Descifra el criptograma $(154, d \\mod 211)$. Para calcular los logaritmos discretos necesarios emplea dos de los métodos descritos en la teoría.\n"
   ]
  },
  {
   "cell_type": "markdown",
   "metadata": {},
   "source": [
    "## Solución  \n",
    "\n",
    "La función que descifra el mensaje viene dada por: \n",
    "$$D_a(x,y) = y x^{-a} = y x^{p-1-a}$$\n",
    "que a partir de las hipótesis de teoría consistiría en calcular: \n",
    "\n",
    "$$D_a(K, m) = k m ^{p-1-a}$$"
   ]
  },
  {
   "cell_type": "code",
   "execution_count": 2,
   "metadata": {},
   "outputs": [
    {
     "name": "stdout",
     "output_type": "stream",
     "text": [
      "Is prime p = 211  ? The answer is: True.\n",
      "El criptograma a descifrar es (156, 146)\n"
     ]
    }
   ],
   "source": [
    "p = 211\n",
    "k = 156\n",
    "d = 75577392\n",
    "m = mod(d,p) \n",
    "print(f\"Is prime p = {p}  ? The answer is: {is_prime(211)}.\")\n",
    "print(f\"El criptograma a descifrar es ({k}, {m})\")\n"
   ]
  },
  {
   "cell_type": "markdown",
   "metadata": {},
   "source": [
    "Puesto que como se indica el enunciado la clave pública empleada es \n",
    "$$3^a = 109 \\mod 211,$$\n",
    "la clave del ejercicio resido entonces en calcular el logaritmo discreto para conocer $a$. \n",
    "El logaritmo discreto podrá ser calculado con el algoritmo de `Shanks` y de `Silver-Pohling-Hellman`. "
   ]
  },
  {
   "cell_type": "code",
   "execution_count": 3,
   "metadata": {},
   "outputs": [],
   "source": [
    "def Shanks(h,b,n):\n",
    "    \"\"\"\n",
    "    Calcula el logaritmo discreto x: x = log_b(h)\n",
    "    n es el orden del grupo\n",
    "    b es la base \n",
    "    h = b^x\n",
    "    \"\"\"\n",
    "    f = ceil(sqrt(n-1))\n",
    "    potencia_iesima_b = 1\n",
    "    table = []\n",
    "    for i in range(f):\n",
    "        table.append((i,potencia_iesima_b))\n",
    "        potencia_iesima_b= mod(potencia_iesima_b*b, p)\n",
    "        \n",
    "    inverso_b = power_mod(b,n-f-1, p)\n",
    "    h_0 = h\n",
    "    for i in range(f):\n",
    "        # comprobamos si existe un j tal que (j,h_i) esté en la tabla\n",
    "        for j in range(f):\n",
    "            if(j,h_0) in table: \n",
    "                return j+i*f\n",
    "        # no se ha encontrado \n",
    "        h_0 = h_0*inverso_b\n",
    "    #no existe logaritmo discreto\n",
    "    return 0\n",
    "\n",
    "def SacaJ(e,r,p):\n",
    "    for j in range(p):\n",
    "        if e == r[j]:\n",
    "            return j\n",
    "    return 1\n",
    "\n",
    "def SilverPoligHellman(b, n, h):\n",
    "    l = list(factor(n))\n",
    "    r = len(l)\n",
    "    r_list = []\n",
    "    m = []\n",
    "    p_super_e = []\n",
    "    for i in range(r): # recorremos cada productorio \n",
    "        r_list.append([])\n",
    "        (p,e) = l[i]\n",
    "        p_super_e.append(p**e)\n",
    "        p_aux = p\n",
    "        acc = 0\n",
    "        for j in range(e):\n",
    "            r_ij = b^(j*n/p) %n\n",
    "            r_list[i].append(r_ij)\n",
    "        \n",
    "        for k in range(e):\n",
    "            y_k = h/(b^acc)\n",
    "            x_k = SacaJ(y_k^(n/p_aux), r_list[i], e)\n",
    "            acc += x_k*p^k\n",
    "            p_aux*=p\n",
    "        m.append(acc)\n",
    "    return crt(m, p_super_e)\n",
    "     \n",
    "    "
   ]
  },
  {
   "cell_type": "code",
   "execution_count": 4,
   "metadata": {},
   "outputs": [
    {
     "name": "stdout",
     "output_type": "stream",
     "text": [
      "Logaritmo discreto de Shanks:  96\n",
      "Logaritmo discreto de sage: 96\n",
      "Logaritmo discreto de Silver Polig Hellman:  96\n"
     ]
    }
   ],
   "source": [
    "b = 3\n",
    "h = mod(109,p)\n",
    "n = p-1\n",
    "\n",
    "print(\"Logaritmo discreto de Shanks: \", Shanks(h,b,p))\n",
    "print(f\"Logaritmo discreto de sage: {discrete_log(h,b,n)}\") # Comparamos nuestro resultado con el de Sage \n",
    "#print(\"Logaritmo discreto de Silver Polig Hellman: \", SilverPoligHellman(b, n, h))"
   ]
  },
  {
   "cell_type": "code",
   "execution_count": 5,
   "metadata": {},
   "outputs": [
    {
     "name": "stdout",
     "output_type": "stream",
     "text": [
      "El mensaje descifrado es:  146\n"
     ]
    }
   ],
   "source": [
    "# Desciframos el mensaje\n",
    "a = Shanks(h,b,p) # podría haberse utilizado el algoritmo de SilverPohlingHellman\n",
    "mensaje = k * pow(m , p-1-a)\n",
    "print(\"El mensaje descifrado es: \", m)"
   ]
  }
 ],
 "metadata": {
  "kernelspec": {
   "display_name": "SageMath 9.5",
   "language": "sage",
   "name": "sagemath-9.5"
  },
  "language_info": {
   "codemirror_mode": {
    "name": "ipython",
    "version": 3
   },
   "file_extension": ".py",
   "mimetype": "text/x-python",
   "name": "python",
   "nbconvert_exporter": "python",
   "pygments_lexer": "ipython3",
   "version": "3.9.9"
  },
  "vscode": {
   "interpreter": {
    "hash": "adb5cd174cd885aafe13f9c79d1ba14d4a172d301e49486c29efffe4dc4c2562"
   }
  }
 },
 "nbformat": 4,
 "nbformat_minor": 2
}
