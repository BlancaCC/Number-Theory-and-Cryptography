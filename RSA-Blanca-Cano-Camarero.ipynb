{
 "cells": [
  {
   "cell_type": "markdown",
   "metadata": {},
   "source": [
    "# Ejercicio de RSA \n",
    "Autor: Blanca Cano Camarero "
   ]
  },
  {
   "cell_type": "code",
   "execution_count": 5,
   "metadata": {},
   "outputs": [
    {
     "name": "stdout",
     "output_type": "stream",
     "text": [
      "Los valores con los que se va a trabajar son:\n",
      " p = 7559, q = 7393\n",
      " n = 55883687, e = 13\n"
     ]
    }
   ],
   "source": [
    "def PrimerPrimoMayor(n):\n",
    "    while not is_prime(n):\n",
    "        n += 1\n",
    "    return n\n",
    "\n",
    "p = PrimerPrimoMayor(7557) \n",
    "q = PrimerPrimoMayor(7392)\n",
    "n = p*q \n",
    "\n",
    "e = 11 \n",
    "while not( is_prime(e) and gcd((p-1)*(q-1),e)==1):\n",
    "    e += 2\n",
    "print(\"Los valores con los que se va a trabajar son:\")\n",
    "print(f\" p = {p}, q = {q}\")\n",
    "print(f\" n = {n}, e = {e}\")"
   ]
  },
  {
   "cell_type": "markdown",
   "metadata": {},
   "source": [
    "## Apartado primero \n",
    "Cifra el mensaje $m = 0xCAFE$."
   ]
  },
  {
   "cell_type": "code",
   "execution_count": 12,
   "metadata": {},
   "outputs": [
    {
     "name": "stdout",
     "output_type": "stream",
     "text": [
      "El mensaje cifrado es 0x2ad7d00\n"
     ]
    }
   ],
   "source": [
    "m = 0xCAFE \n",
    "\n",
    "def RSA(mensaje, e, n):\n",
    "    return power_mod(mensaje, e, n)\n",
    "\n",
    "cifrado = RSA(m, e,n).hex()\n",
    "print(f\"El mensaje cifrado es 0x{cifrado}\")"
   ]
  },
  {
   "cell_type": "markdown",
   "metadata": {},
   "source": [
    "## Apartado segundo\n",
    "Descifrar e mensaje anterior"
   ]
  },
  {
   "cell_type": "code",
   "execution_count": 15,
   "metadata": {},
   "outputs": [
    {
     "name": "stdout",
     "output_type": "stream",
     "text": [
      "El mensaje descifrado es 0x35c1af\n"
     ]
    }
   ],
   "source": [
    "def Descifrar(m, e, p, q): \n",
    "    \"\"\" Descifra mensaje del RSA \n",
    "    m: mensaje \n",
    "    (p*q, e) clave pública \n",
    "    \"\"\"\n",
    "    n = p*q\n",
    "    d = e.inverse_mod((p-1)*(q-1))\n",
    "    return RSA(m, n, d)\n",
    "\n",
    "print(f\"El mensaje descifrado es 0x{Descifrar(m, e, p, q).hex()}\")"
   ]
  },
  {
   "cell_type": "markdown",
   "metadata": {},
   "source": [
    "## Apartado tercero \n",
    "Intentar factorizar $n$ mediante el método $p-1$ de Pollard. PAra ello llega como máximo a $b=8$."
   ]
  }
 ],
 "metadata": {
  "kernelspec": {
   "display_name": "SageMath 9.5",
   "language": "sage",
   "name": "SageMath-9.5"
  },
  "language_info": {
   "codemirror_mode": {
    "name": "ipython",
    "version": 3
   },
   "file_extension": ".py",
   "mimetype": "text/x-python",
   "name": "python",
   "nbconvert_exporter": "python",
   "pygments_lexer": "ipython3",
   "version": "3.9.9"
  },
  "orig_nbformat": 4
 },
 "nbformat": 4,
 "nbformat_minor": 2
}
