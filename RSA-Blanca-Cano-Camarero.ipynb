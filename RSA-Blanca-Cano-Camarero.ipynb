{
 "cells": [
  {
   "cell_type": "markdown",
   "metadata": {},
   "source": [
    "# Ejercicio de RSA \n",
    "Autor: Blanca Cano Camarero "
   ]
  },
  {
   "cell_type": "code",
   "execution_count": 1,
   "metadata": {},
   "outputs": [
    {
     "name": "stdout",
     "output_type": "stream",
     "text": [
      "Los valores con los que se va a trabajar son:\n",
      " p = 7559, q = 7393\n",
      " n = 55883687, e = 13\n"
     ]
    }
   ],
   "source": [
    "def PrimerPrimoMayor(n):\n",
    "    while not is_prime(n):\n",
    "        n += 1\n",
    "    return n\n",
    "\n",
    "p = PrimerPrimoMayor(7557) \n",
    "q = PrimerPrimoMayor(7392)\n",
    "n = p*q \n",
    "\n",
    "e = 11 \n",
    "while not( is_prime(e) and gcd((p-1)*(q-1),e)==1):\n",
    "    e += 2\n",
    "print(\"Los valores con los que se va a trabajar son:\")\n",
    "print(f\" p = {p}, q = {q}\")\n",
    "print(f\" n = {n}, e = {e}\")"
   ]
  },
  {
   "cell_type": "markdown",
   "metadata": {},
   "source": [
    "## Apartado primero \n",
    "Cifra el mensaje $m = 0xCAFE$."
   ]
  },
  {
   "cell_type": "code",
   "execution_count": 2,
   "metadata": {},
   "outputs": [
    {
     "name": "stdout",
     "output_type": "stream",
     "text": [
      "El mensaje cifrado es 0x2ad7d00\n"
     ]
    }
   ],
   "source": [
    "m = 0xCAFE \n",
    "\n",
    "def RSA(mensaje, e, n):\n",
    "    return power_mod(mensaje, e, n)\n",
    "\n",
    "cifrado = RSA(m, e,n).hex()\n",
    "print(f\"El mensaje cifrado es 0x{cifrado}\")"
   ]
  },
  {
   "cell_type": "markdown",
   "metadata": {},
   "source": [
    "## Apartado segundo\n",
    "Descifrar e mensaje anterior"
   ]
  },
  {
   "cell_type": "code",
   "execution_count": 3,
   "metadata": {},
   "outputs": [
    {
     "name": "stdout",
     "output_type": "stream",
     "text": [
      "El mensaje descifrado es 0x35c1af\n"
     ]
    }
   ],
   "source": [
    "def Descifrar(m, e, p, q): \n",
    "    \"\"\" Descifra mensaje del RSA \n",
    "    m: mensaje \n",
    "    (p*q, e) clave pública \n",
    "    \"\"\"\n",
    "    n = p*q\n",
    "    d = e.inverse_mod((p-1)*(q-1))\n",
    "    return RSA(m, n, d)\n",
    "\n",
    "print(f\"El mensaje descifrado es 0x{Descifrar(m, e, p, q).hex()}\")"
   ]
  },
  {
   "cell_type": "markdown",
   "metadata": {},
   "source": [
    "## Apartado tercero \n",
    "Intentar factorizar $n$ mediante el método $p-1$ de Pollard. Para ello llega como máximo a $b=8$."
   ]
  },
  {
   "cell_type": "code",
   "execution_count": 4,
   "metadata": {},
   "outputs": [
    {
     "name": "stdout",
     "output_type": "stream",
     "text": [
      "Se ha encontrado para b=11 con a=43700024\n",
      "Con este método hemos visto que p_encontrada es 7393, donde si recordamos p=7559, q = 7393\n",
      "Por lo que hemos encontrado una factorización.\n"
     ]
    }
   ],
   "source": [
    "candidatos_b = list(range(2,13))\n",
    "primo = 2\n",
    "def Pollard(n):\n",
    "    for b in candidatos_b:\n",
    "        a = power_mod(primo, factorial(b), n)\n",
    "        if (gcd(a-1, n) != 1): \n",
    "            print(f\"Se ha encontrado para b={b} con a={a}\")\n",
    "            return a \n",
    "    return 1 # en caso de que no de no entontrarse\n",
    "\n",
    "a= Pollard(n)\n",
    "# entonces la p encontrada es\n",
    "p_encontrada = gcd(n,a-1)\n",
    "print(f\"Con este método hemos visto que p_encontrada es {p_encontrada}, donde si recordamos p={p}, q = {q}\")\n",
    "print(f\"Por lo que hemos encontrado una factorización.\")"
   ]
  },
  {
   "cell_type": "markdown",
   "metadata": {},
   "source": [
    "### Apartado 4\n",
    "\n",
    "Intenta factorizar $n$ a partir de $\\phi(n)$."
   ]
  },
  {
   "cell_type": "code",
   "execution_count": 5,
   "metadata": {},
   "outputs": [
    {
     "name": "stdout",
     "output_type": "stream",
     "text": [
      "La soluciones son p = 7393, q = 7559\n"
     ]
    }
   ],
   "source": [
    "phi_euler = (p-1)*(q-1) # suponemos que p y q no son conocidos\n",
    "\n",
    "b = (n+1-phi_euler)//2\n",
    "raiz = sqrt(b**2 -n)\n",
    "print(f\"La soluciones son p = {b-raiz}, q = {b+raiz}\")\n"
   ]
  },
  {
   "cell_type": "markdown",
   "metadata": {},
   "source": [
    "### Apartado 5\n",
    "Intenta factorizar $n$ a partir de $e$ y $d$. "
   ]
  },
  {
   "cell_type": "code",
   "execution_count": 7,
   "metadata": {},
   "outputs": [
    {
     "name": "stdout",
     "output_type": "stream",
     "text": [
      "Se ha encontrado para a=5 k=41901552\n",
      " Uno de los factores encontrados es 7559\n"
     ]
    }
   ],
   "source": [
    "d = e.inverse_mod((p-1)*(q-1)) # suponemos no cocidos p y q\n",
    "\n",
    "k = e*d -1\n",
    "\n",
    "cantidad_a_probar = 40\n",
    "def Factoriza(k, n):\n",
    "    while k > 1:  \n",
    "        for i in range(cantidad_a_probar):\n",
    "            #a = randint(2,n)\n",
    "            for a in [2,3,5,7,11,13,17,19]:\n",
    "                if gcd(a,n) != 1:\n",
    "                    print(f\"Se ha encontrado el factor p={a}\")\n",
    "                    return a # Se ha encontrado un valor\n",
    "                modulo  = power_mod(a, k, n)\n",
    "                if modulo != 1:\n",
    "                    print(f\"Se ha encontrado para a={a} k={k}\")\n",
    "                    return gcd(n,  mod(a**k -1, n))\n",
    "            k = k//2\n",
    "    return 1\n",
    "\n",
    "p = Factoriza(k,n)\n",
    "print(f\" Uno de los factores encontrados es {p}\")\n"
   ]
  }
 ],
 "metadata": {
  "kernelspec": {
   "display_name": "SageMath 9.5",
   "language": "sage",
   "name": "sagemath-9.5"
  },
  "language_info": {
   "codemirror_mode": {
    "name": "ipython",
    "version": 3
   },
   "file_extension": ".py",
   "mimetype": "text/x-python",
   "name": "python",
   "nbconvert_exporter": "python",
   "pygments_lexer": "ipython3",
   "version": "3.9.9"
  }
 },
 "nbformat": 4,
 "nbformat_minor": 2
}
