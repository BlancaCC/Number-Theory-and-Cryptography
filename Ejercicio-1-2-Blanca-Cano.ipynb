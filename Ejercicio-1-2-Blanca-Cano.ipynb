{
 "cells": [
  {
   "cell_type": "markdown",
   "metadata": {},
   "source": [
    "# Ejercicios Teoría de Números \n",
    "## Datos personales\n",
    "- Alumna: Blanca Cana Camarero \n",
    "- Correo: blancacano@correo.ugr.es"
   ]
  },
  {
   "cell_type": "markdown",
   "metadata": {},
   "source": [
    "## Ejercicio primero \n",
    "Dado un número :"
   ]
  },
  {
   "cell_type": "code",
   "execution_count": 1,
   "metadata": {},
   "outputs": [
    {
     "data": {
      "text/plain": [
       "75577392"
      ]
     },
     "execution_count": 1,
     "metadata": {},
     "output_type": "execute_result"
    }
   ],
   "source": [
    "n = 75577392"
   ]
  },
  {
   "cell_type": "markdown",
   "metadata": {},
   "source": [
    "i) Mientras $n$ sea múltiplo de 2, 3, 5, 7 u 11 le sumas uno. De forma que tu nuevo $n$ no tenga esos divisores primos."
   ]
  },
  {
   "cell_type": "code",
   "execution_count": 2,
   "metadata": {},
   "outputs": [
    {
     "name": "stdout",
     "output_type": "stream",
     "text": [
      "El valor n = 75577393 no es múltiplo de ningún elemento de [2, 3, 5, 7, 11]."
     ]
    }
   ],
   "source": [
    "primos = [2,3,5,7,11]\n",
    "no_es_multiplo = true\n",
    "while no_es_multiplo\n",
    "    no_es_multiplo = false\n",
    "    for p in primos\n",
    "        if mod(n,p) == 0\n",
    "            n += 1\n",
    "            no_es_multiplo = true\n",
    "        end\n",
    "    end\n",
    "end\n",
    "print(\"El valor n = $n no es múltiplo de ningún elemento de $primos.\")"
   ]
  },
  {
   "cell_type": "markdown",
   "metadata": {},
   "source": [
    "ii) Calcula $a^{n-1}$ mod $n$, para cada uno de esas cinco bases usando sucesivamente el algoritmo de izquierda-derecha y de derecha a izquierda.\n",
    "\n",
    "### Base matemática  \n",
    "**Pequeño teorema de Fermat**  \n",
    "\n",
    "Sea $p$ un número primo, entonces para cada natural $a > 0$ se tiene que \n",
    "$$a^p \\equiv a \\mod(p)$$\n",
    "\n",
    "Razonaremos por contradicción, si encontramos un $a$ natural positivo tal que \n",
    "$$a^{p-1} \\mod p \\not \\equiv 1$$\n",
    "entonces sabremos que $p$ no es primo.\n",
    "\n",
    "En caso contrario diremos que $p$ es un posible primo de Fermat en la base $a$ . \n",
    "\n",
    "Vemos que para el cálculo de $a^{p-1} \\mod p$ es necesario el cálculo de una potencia, con el fin de optimizar el algoritmo calcularemos la potencia de $a^{p-1}$ con el método de la exponencial rápida. \n",
    "Existen dos variantes, presentamos a continuación dos versiones del cálculo de $f(a,q,p) = a^{q} \\mod p$ combinando las dos técnicas de exponenciación.\n",
    "\n",
    "#### Algoritmo de derecha izquierda\n",
    "La idea que subyace es que los dígitos en binario no se conocen, así que se van calculando los dígitos a la par que se calcula el módulo(de esta manera no habrá un desbordamiento). "
   ]
  },
  {
   "cell_type": "code",
   "execution_count": 3,
   "metadata": {},
   "outputs": [
    {
     "data": {
      "text/plain": [
       "VerboseRightToLeftFastExponential (generic function with 1 method)"
      ]
     },
     "execution_count": 3,
     "metadata": {},
     "output_type": "execute_result"
    }
   ],
   "source": [
    "function RightToLeftFastExponential(base::Integer, exp::Integer, p :: Integer)\n",
    "    a = base\n",
    "    b = exp\n",
    "    n = p\n",
    "    acc = 1\n",
    "    while b > 0\n",
    "        if mod(b,2) == 1\n",
    "            acc = mod(acc*a, p)\n",
    "        end\n",
    "        b = floor(Int, b/2)\n",
    "        a = mod(a^2, n)\n",
    "    end \n",
    "    return acc\n",
    "end\n",
    "\n",
    "function VerboseRightToLeftFastExponential(base::Integer, exp::Integer, p :: Integer)\n",
    "    paso = 0\n",
    "    a = base\n",
    "    b = exp\n",
    "    n = p\n",
    "    acc = 1\n",
    "\n",
    "    println(\"paso $paso, acu: $acc, base: $base\")\n",
    "    while b > 0\n",
    "        if mod(b,2) == 1\n",
    "            acc = mod(acc*a, p)\n",
    "        end\n",
    "        b = floor(Int, b/2)\n",
    "        a = mod(a^2, n)\n",
    "        paso +=1\n",
    "        println(\"paso $paso, acu: $acc, base: $a\")\n",
    "    end \n",
    "    return acc\n",
    "end\n"
   ]
  },
  {
   "cell_type": "markdown",
   "metadata": {},
   "source": [
    "### Algoritmo de derecha a izquierda \n",
    "- Se calcula previamente el valor del número en base 2. "
   ]
  },
  {
   "cell_type": "code",
   "execution_count": 4,
   "metadata": {},
   "outputs": [
    {
     "data": {
      "text/plain": [
       "VerboseLeftToRightFastExponential (generic function with 1 method)"
      ]
     },
     "execution_count": 4,
     "metadata": {},
     "output_type": "execute_result"
    }
   ],
   "source": [
    "function LeftToRightFastExponential(base::Integer, exp::Integer, p::Integer)\n",
    "    b = string(exp; base=2)\n",
    "    a = base\n",
    "    c = 0\n",
    "    acc = 1\n",
    "    n = p\n",
    "    for i in b\n",
    "        c = 2c\n",
    "        acc = mod(acc ^2, n)\n",
    "        if i == '1'\n",
    "            c += 1\n",
    "            acc = mod(acc*a, n )\n",
    "        end\n",
    "    end \n",
    "    return acc\n",
    "end \n",
    "\n",
    "# verbose version \n",
    "\n",
    "function VerboseLeftToRightFastExponential(base::Integer, exp::Integer, p::Integer)\n",
    "    b = string(exp; base=2)\n",
    "    a = base\n",
    "    println(\"p-1 = $exp = $(b) (en binario)\")\n",
    "    paso = 0\n",
    "    c = 0\n",
    "    acc = 1\n",
    "    n = p\n",
    "    println(\"Paso $paso , acu: $acc\")\n",
    "    for i in b\n",
    "        c = 2c\n",
    "        acc = mod(acc ^2, n)\n",
    "        if i == '1'\n",
    "            c += 1\n",
    "            acc = mod(acc*a, n )\n",
    "        end\n",
    "        paso +=1\n",
    "        println(\"Paso $paso , acu: $acc\")\n",
    "    end \n",
    "    return acc\n",
    "end "
   ]
  },
  {
   "cell_type": "code",
   "execution_count": 5,
   "metadata": {},
   "outputs": [
    {
     "name": "stdout",
     "output_type": "stream",
     "text": [
      "------------------------------------------------------------\n",
      "------------------------------------------------------------\n",
      "Ejección de IZQUIERDA a DERECHA para base=2 y p=75577393 \n",
      "------------------------------------------------------------\n",
      "p-1 = 75577392 = 100100000010011100000110000 (en binario)\n",
      "Paso 0 , acu: 1\n",
      "Paso 1 , acu: 2\n",
      "Paso 2 , acu: 4\n",
      "Paso 3 , acu: 16\n",
      "Paso 4 , acu: 512\n",
      "Paso 5 , acu: 262144\n",
      "Paso 6 , acu: 19626499\n",
      "Paso 7 , acu: 7337286\n",
      "Paso 8 , acu: 23799678\n",
      "Paso 9 , acu: 426701\n",
      "Paso 10 , acu: 7803664\n",
      "Paso 11 , acu: 14437218\n",
      "Paso 12 , acu: 34127470\n",
      "Paso 13 , acu: 3012688\n",
      "Paso 14 , acu: 21832983\n",
      "Paso 15 , acu: 41937495\n",
      "Paso 16 , acu: 46728759\n",
      "Paso 17 , acu: 18386805\n",
      "Paso 18 , acu: 65460386\n",
      "Paso 19 , acu: 47494686\n",
      "Paso 20 , acu: 50988764\n",
      "Paso 21 , acu: 48560926\n",
      "Paso 22 , acu: 45403925\n",
      "Paso 23 , acu: 37806138\n",
      "Paso 24 , acu: 58579395\n",
      "Paso 25 , acu: 16033362\n",
      "Paso 26 , acu: 54782416\n",
      "Paso 27 , acu: 50057215\n",
      "Se tiene que 2^(75577393-1) mod 75577393 = 50057215\n",
      "------------------------------------------------------------\n",
      "------------------------------------------------------------\n",
      "Ejección de DERECHA a IZQUIERDA para base=2 y p=75577393 \n",
      "------------------------------------------------------------\n",
      "paso 0, acu: 1, base: 2\n",
      "paso 1, acu: 1, base: 4\n",
      "paso 2, acu: 1, base: 16\n",
      "paso 3, acu: 1, base: 256\n",
      "paso 4, acu: 1, base: 65536\n",
      "paso 5, acu: 65536, base: 62633288\n",
      "paso 6, acu: 51371145, base: 64387535\n",
      "paso 7, acu: 51371145, base: 630021\n",
      "paso 8, acu: 51371145, base: 69569798\n",
      "paso 9, acu: 51371145, base: 45008198\n",
      "paso 10, acu: 51371145, base: 65283027\n",
      "paso 11, acu: 51371145, base: 31073893\n",
      "paso 12, acu: 56423783, base: 1414180\n",
      "paso 13, acu: 58729221, base: 51676227\n",
      "paso 14, acu: 19427703, base: 29351351\n",
      "paso 15, acu: 19427703, base: 15248746\n",
      "paso 16, acu: 19427703, base: 50905175\n",
      "paso 17, acu: 75330163, base: 30397990\n",
      "paso 18, acu: 75330163, base: 20967546\n",
      "paso 19, acu: 75330163, base: 57847108\n",
      "paso 20, acu: 75330163, base: 49236013\n",
      "paso 21, acu: 75330163, base: 39642879\n",
      "paso 22, acu: 75330163, base: 33818781\n",
      "paso 23, acu: 75330163, base: 56420502\n",
      "paso 24, acu: 25252192, base: 35178271\n",
      "paso 25, acu: 25252192, base: 17911643\n",
      "paso 26, acu: 25252192, base: 14745733\n",
      "paso 27, acu: 50057215, base: 28581931\n",
      "Se tiene que 2^(75577393-1) mod 75577393 = 50057215\n",
      "------------------------------------------------------------\n",
      "------------------------------------------------------------\n",
      "Ejección de IZQUIERDA a DERECHA para base=3 y p=75577393 \n",
      "------------------------------------------------------------\n",
      "p-1 = 75577392 = 100100000010011100000110000 (en binario)\n",
      "Paso 0 , acu: 1\n",
      "Paso 1 , acu: 3\n",
      "Paso 2 , acu: 9\n",
      "Paso 3 , acu: 81\n",
      "Paso 4 , acu: 19683\n",
      "Paso 5 , acu: 9533524\n",
      "Paso 6 , acu: 67429850\n",
      "Paso 7 , acu: 36301408\n",
      "Paso 8 , acu: 9049560\n",
      "Paso 9 , acu: 6799695\n",
      "Paso 10 , acu: 21532201\n",
      "Paso 11 , acu: 46753811\n",
      "Paso 12 , acu: 27053554\n",
      "Paso 13 , acu: 60391017\n",
      "Paso 14 , acu: 42445869\n",
      "Paso 15 , acu: 34094411\n",
      "Paso 16 , acu: 33654452\n",
      "Paso 17 , acu: 55687089\n",
      "Paso 18 , acu: 45426639\n",
      "Paso 19 , acu: 32659651\n",
      "Paso 20 , acu: 34313889\n",
      "Paso 21 , acu: 23962028\n",
      "Paso 22 , acu: 72086361\n",
      "Paso 23 , acu: 64595641\n",
      "Paso 24 , acu: 30979404\n",
      "Paso 25 , acu: 17160280\n",
      "Paso 26 , acu: 65814173\n",
      "Paso 27 , acu: 64972403\n",
      "Se tiene que 3^(75577393-1) mod 75577393 = 64972403\n",
      "------------------------------------------------------------\n",
      "------------------------------------------------------------\n",
      "Ejección de DERECHA a IZQUIERDA para base=3 y p=75577393 \n",
      "------------------------------------------------------------\n",
      "paso 0, acu: 1, base: 3\n",
      "paso 1, acu: 1, base: 9\n",
      "paso 2, acu: 1, base: 81\n",
      "paso 3, acu: 1, base: 6561\n",
      "paso 4, acu: 1, base: 43046721\n",
      "paso 5, acu: 43046721, base: 63347101\n",
      "paso 6, acu: 41600293, base: 62543205\n",
      "paso 7, acu: 41600293, base: 12981609\n",
      "paso 8, acu: 41600293, base: 3627053\n",
      "paso 9, acu: 41600293, base: 58974871\n",
      "paso 10, acu: 41600293, base: 60755281\n",
      "paso 11, acu: 41600293, base: 62934953\n",
      "paso 12, acu: 38989161, base: 67282414\n",
      "paso 13, acu: 60540452, base: 35517132\n",
      "paso 14, acu: 65231755, base: 15453630\n",
      "paso 15, acu: 65231755, base: 18935383\n",
      "paso 16, acu: 65231755, base: 54213171\n",
      "paso 17, acu: 43248171, base: 42341357\n",
      "paso 18, acu: 43248171, base: 52168020\n",
      "paso 19, acu: 43248171, base: 66921725\n",
      "paso 20, acu: 43248171, base: 38648787\n",
      "paso 21, acu: 43248171, base: 60828551\n",
      "paso 22, acu: 43248171, base: 51837897\n",
      "paso 23, acu: 43248171, base: 55646441\n",
      "paso 24, acu: 27367026, base: 58814646\n",
      "paso 25, acu: 27367026, base: 44086951\n",
      "paso 26, acu: 27367026, base: 62475477\n",
      "paso 27, acu: 64972403, base: 60911868\n",
      "Se tiene que 3^(75577393-1) mod 75577393 = 64972403\n",
      "------------------------------------------------------------\n",
      "------------------------------------------------------------\n",
      "Ejección de IZQUIERDA a DERECHA para base=5 y p=75577393 \n",
      "------------------------------------------------------------\n",
      "p-1 = 75577392 = 100100000010011100000110000 (en binario)\n",
      "Paso 0 , acu: 1\n",
      "Paso 1 , acu: 5\n",
      "Paso 2 , acu: 25\n",
      "Paso 3 , acu: 625\n",
      "Paso 4 , acu: 1953125\n",
      "Paso 5 , acu: 3931343\n",
      "Paso 6 , acu: 32069935\n",
      "Paso 7 , acu: 62391002\n",
      "Paso 8 , acu: 75107174\n",
      "Paso 9 , acu: 42033436\n",
      "Paso 10 , acu: 68459919\n",
      "Paso 11 , acu: 65213569\n",
      "Paso 12 , acu: 70828808\n",
      "Paso 13 , acu: 15258924\n",
      "Paso 14 , acu: 52312990\n",
      "Paso 15 , acu: 9967973\n",
      "Paso 16 , acu: 28485227\n",
      "Paso 17 , acu: 45551583\n",
      "Paso 18 , acu: 73412447\n",
      "Paso 19 , acu: 59156021\n",
      "Paso 20 , acu: 35322703\n",
      "Paso 21 , acu: 72429521\n",
      "Paso 22 , acu: 50464233\n",
      "Paso 23 , acu: 64473356\n",
      "Paso 24 , acu: 33548414\n",
      "Paso 25 , acu: 39413365\n",
      "Paso 26 , acu: 63967412\n",
      "Paso 27 , acu: 58601398\n",
      "Se tiene que 5^(75577393-1) mod 75577393 = 58601398\n",
      "------------------------------------------------------------\n",
      "------------------------------------------------------------\n",
      "Ejección de DERECHA a IZQUIERDA para base=5 y p=75577393 \n",
      "------------------------------------------------------------\n",
      "paso 0, acu: 1, base: 5\n",
      "paso 1, acu: 1, base: 25\n",
      "paso 2, acu: 1, base: 625\n",
      "paso 3, acu: 1, base: 390625\n",
      "paso 4, acu: 1, base: 72711551\n",
      "paso 5, acu: 72711551, base: 55071654\n",
      "paso 6, acu: 23633979, base: 722994\n",
      "paso 7, acu: 23633979, base: 27074048\n",
      "paso 8, acu: 23633979, base: 26491951\n",
      "paso 9, acu: 23633979, base: 6315093\n",
      "paso 10, acu: 23633979, base: 23169981\n",
      "paso 11, acu: 23633979, base: 30772177\n",
      "paso 12, acu: 51278342, base: 35312367\n",
      "paso 13, acu: 41617191, base: 65962381\n",
      "paso 14, acu: 6784718, base: 72475540\n",
      "paso 15, acu: 6784718, base: 36440351\n",
      "paso 16, acu: 6784718, base: 2504407\n",
      "paso 17, acu: 7871001, base: 37731365\n",
      "paso 18, acu: 7871001, base: 18178645\n",
      "paso 19, acu: 7871001, base: 637416\n",
      "paso 20, acu: 7871001, base: 70669681\n",
      "paso 21, acu: 7871001, base: 28854560\n",
      "paso 22, acu: 7871001, base: 55388517\n",
      "paso 23, acu: 7871001, base: 19836944\n",
      "paso 24, acu: 60623956, base: 69769616\n",
      "paso 25, acu: 60623956, base: 7608436\n",
      "paso 26, acu: 60623956, base: 20929925\n",
      "paso 27, acu: 58601398, base: 75199025\n",
      "Se tiene que 5^(75577393-1) mod 75577393 = 58601398\n",
      "------------------------------------------------------------\n",
      "------------------------------------------------------------\n",
      "Ejección de IZQUIERDA a DERECHA para base=7 y p=75577393 \n",
      "------------------------------------------------------------\n",
      "p-1 = 75577392 = 100100000010011100000110000 (en binario)\n",
      "Paso 0 , acu: 1\n",
      "Paso 1 , acu: 7\n",
      "Paso 2 , acu: 49\n",
      "Paso 3 , acu: 2401\n",
      "Paso 4 , acu: 40353607\n",
      "Paso 5 , acu: 37227584\n",
      "Paso 6 , acu: 48501463\n",
      "Paso 7 , acu: 58424783\n",
      "Paso 8 , acu: 46430299\n",
      "Paso 9 , acu: 8624288\n",
      "Paso 10 , acu: 61424282\n",
      "Paso 11 , acu: 12872594\n",
      "Paso 12 , acu: 15404157\n",
      "Paso 13 , acu: 54977732\n",
      "Paso 14 , acu: 26101011\n",
      "Paso 15 , acu: 22109132\n",
      "Paso 16 , acu: 70186637\n",
      "Paso 17 , acu: 62446499\n",
      "Paso 18 , acu: 2283861\n",
      "Paso 19 , acu: 47289426\n",
      "Paso 20 , acu: 23397883\n",
      "Paso 21 , acu: 60278873\n",
      "Paso 22 , acu: 9405223\n",
      "Paso 23 , acu: 67474278\n",
      "Paso 24 , acu: 42903113\n",
      "Paso 25 , acu: 52678610\n",
      "Paso 26 , acu: 48527128\n",
      "Paso 27 , acu: 22113448\n",
      "Se tiene que 7^(75577393-1) mod 75577393 = 22113448\n",
      "------------------------------------------------------------\n",
      "------------------------------------------------------------\n",
      "Ejección de DERECHA a IZQUIERDA para base=7 y p=75577393 \n",
      "------------------------------------------------------------\n",
      "paso 0, acu: 1, base: 7\n",
      "paso 1, acu: 1, base: 49\n",
      "paso 2, acu: 1, base: 2401\n",
      "paso 3, acu: 1, base: 5764801\n",
      "paso 4, acu: 1, base: 39319641\n",
      "paso 5, acu: 39319641, base: 41633409\n",
      "paso 6, acu: 55194768, base: 66480796\n",
      "paso 7, acu: 55194768, base: 52087355\n",
      "paso 8, acu: 55194768, base: 30348639\n",
      "paso 9, acu: 55194768, base: 42527898\n",
      "paso 10, acu: 55194768, base: 73466300\n",
      "paso 11, acu: 55194768, base: 65944225\n",
      "paso 12, acu: 15243323, base: 72566388\n",
      "paso 13, acu: 51112320, base: 38200531\n",
      "paso 14, acu: 1252680, base: 68668543\n",
      "paso 15, acu: 1252680, base: 20957669\n",
      "paso 16, acu: 1252680, base: 51034800\n",
      "paso 17, acu: 36721837, base: 48265245\n",
      "paso 18, acu: 36721837, base: 24820324\n",
      "paso 19, acu: 36721837, base: 72631158\n",
      "paso 20, acu: 36721837, base: 10356996\n",
      "paso 21, acu: 36721837, base: 69949544\n",
      "paso 22, acu: 36721837, base: 12817933\n",
      "paso 23, acu: 36721837, base: 49047143\n",
      "paso 24, acu: 13261803, base: 14618675\n",
      "paso 25, acu: 13261803, base: 74790498\n",
      "paso 26, acu: 13261803, base: 73737569\n",
      "paso 27, acu: 22113448, base: 67650685\n",
      "Se tiene que 7^(75577393-1) mod 75577393 = 22113448\n",
      "------------------------------------------------------------\n",
      "------------------------------------------------------------\n",
      "Ejección de IZQUIERDA a DERECHA para base=11 y p=75577393 \n",
      "------------------------------------------------------------\n",
      "p-1 = 75577392 = 100100000010011100000110000 (en binario)\n",
      "Paso 0 , acu: 1\n",
      "Paso 1 , acu: 11\n",
      "Paso 2 , acu: 121\n",
      "Paso 3 , acu: 14641\n",
      "Paso 4 , acu: 15048508\n",
      "Paso 5 , acu: 62272226\n",
      "Paso 6 , acu: 47220020\n",
      "Paso 7 , acu: 13882063\n",
      "Paso 8 , acu: 52975775\n",
      "Paso 9 , acu: 19781235\n",
      "Paso 10 , acu: 67243484\n",
      "Paso 11 , acu: 23963874\n",
      "Paso 12 , acu: 69694069\n",
      "Paso 13 , acu: 37801085\n",
      "Paso 14 , acu: 44415957\n",
      "Paso 15 , acu: 49392315\n",
      "Paso 16 , acu: 8735504\n",
      "Paso 17 , acu: 47969776\n",
      "Paso 18 , acu: 41968865\n",
      "Paso 19 , acu: 69800265\n",
      "Paso 20 , acu: 4447405\n",
      "Paso 21 , acu: 51711995\n",
      "Paso 22 , acu: 40645141\n",
      "Paso 23 , acu: 37257188\n",
      "Paso 24 , acu: 49673583\n",
      "Paso 25 , acu: 63998791\n",
      "Paso 26 , acu: 7617852\n",
      "Paso 27 , acu: 21343212\n",
      "Se tiene que 11^(75577393-1) mod 75577393 = 21343212\n",
      "------------------------------------------------------------\n",
      "------------------------------------------------------------\n"
     ]
    },
    {
     "name": "stdout",
     "output_type": "stream",
     "text": [
      "Ejección de DERECHA a IZQUIERDA para base=11 y p=75577393 \n",
      "------------------------------------------------------------\n",
      "paso 0, acu: 1, base: 11\n",
      "paso 1, acu: 1, base: 121\n",
      "paso 2, acu: 1, base: 14641\n",
      "paso 3, acu: 1, base: 63204095\n",
      "paso 4, acu: 1, base: 18003630\n",
      "paso 5, acu: 18003630, base: 38382975\n",
      "paso 6, acu: 56590910, base: 50461118\n",
      "paso 7, acu: 56590910, base: 2150229\n",
      "paso 8, acu: 56590910, base: 37735666\n",
      "paso 9, acu: 56590910, base: 72553434\n",
      "paso 10, acu: 56590910, base: 68099825\n",
      "paso 11, acu: 56590910, base: 53995792\n",
      "paso 12, acu: 68674646, base: 16083735\n",
      "paso 13, acu: 27558667, base: 4057646\n",
      "paso 14, acu: 62318584, base: 31573659\n",
      "paso 15, acu: 62318584, base: 49175867\n",
      "paso 16, acu: 62318584, base: 28973373\n",
      "paso 17, acu: 63341729, base: 24794416\n",
      "paso 18, acu: 63341729, base: 74247382\n",
      "paso 19, acu: 63341729, base: 40376956\n",
      "paso 20, acu: 63341729, base: 39384258\n",
      "paso 21, acu: 63341729, base: 48700122\n",
      "paso 22, acu: 63341729, base: 4187798\n",
      "paso 23, acu: 63341729, base: 69197940\n",
      "paso 24, acu: 58457034, base: 52532211\n",
      "paso 25, acu: 58457034, base: 37814342\n",
      "paso 26, acu: 58457034, base: 34178178\n",
      "paso 27, acu: 21343212, base: 9467675\n",
      "Se tiene que 11^(75577393-1) mod 75577393 = 21343212\n"
     ]
    }
   ],
   "source": [
    "bases = primos\n",
    "\n",
    "for b in bases\n",
    "    # De izquierda a derecha \n",
    "     # De derecha a izquierda\n",
    "     println(repeat('-', 60))\n",
    "     println(repeat('-', 60))\n",
    "     println(\"Ejección de IZQUIERDA a DERECHA para base=$b y p=$n \")\n",
    "     println(repeat('-', 60))\n",
    "     r = VerboseLeftToRightFastExponential(b, n-1, n)\n",
    "     println(\"Se tiene que $(b)^($n-1) mod $n = $(r)\")\n",
    "\n",
    "    # De derecha a izquierda\n",
    "    println(repeat('-', 60))\n",
    "    println(repeat('-', 60))\n",
    "    println(\"Ejección de DERECHA a IZQUIERDA para base=$b y p=$n \")\n",
    "    println(repeat('-', 60))\n",
    "    r = VerboseRightToLeftFastExponential(b, n-1, n)\n",
    "    println(\"Se tiene que $(b)^($n-1) mod $n = $(r)\")\n",
    "end\n"
   ]
  },
  {
   "cell_type": "code",
   "execution_count": 6,
   "metadata": {},
   "outputs": [
    {
     "name": "stdout",
     "output_type": "stream",
     "text": [
      "Resumen de los resultados\n",
      "Para base b=2 mod(2^{75577392}, 75577393) = 50057215\n",
      "Para base b=3 mod(3^{75577392}, 75577393) = 64972403\n",
      "Para base b=5 mod(5^{75577392}, 75577393) = 58601398\n",
      "Para base b=7 mod(7^{75577392}, 75577393) = 22113448\n",
      "Para base b=11 mod(11^{75577392}, 75577393) = 21343212\n"
     ]
    }
   ],
   "source": [
    "# Resumen de los resultados sin pasos intermedios \n",
    "println(\"Resumen de los resultados\")\n",
    "for b in bases\n",
    "    r2 = LeftToRightFastExponential(b, n-1, n)\n",
    "    println(\"Para base b=$(b) mod($b^{$(n-1)}, $n) = $r2\")\n",
    "end"
   ]
  },
  {
   "cell_type": "markdown",
   "metadata": {},
   "source": [
    "iii) ¿Es $n$ un posible primo posible primo de Fermat para alguna de ellas?\n",
    "\n",
    "No es un posible primo de Fermat ya que contradice la tesis del pequeño teorema de Fermat. \n",
    "\n",
    "De haberse dado $b^{n-1} \\equiv 1 \\mod n$, se hubiera dicho que es un *posible primo de Fermat para la base $b$* y en tal caso, de haber sido compuesto estaríamos frente a un pseudo primo de Fermat para la base $b$.  "
   ]
  },
  {
   "cell_type": "markdown",
   "metadata": {},
   "source": [
    "## Ejercicio segundo\n",
    "Dado un número "
   ]
  },
  {
   "cell_type": "code",
   "execution_count": 7,
   "metadata": {},
   "outputs": [
    {
     "data": {
      "text/plain": [
       "75577399"
      ]
     },
     "execution_count": 7,
     "metadata": {},
     "output_type": "execute_result"
    }
   ],
   "source": [
    "n = 75577399"
   ]
  },
  {
   "cell_type": "markdown",
   "metadata": {},
   "source": [
    "### Apartado primero \n",
    "Use el algoritmo manual para calcular el símbolo de Jacobi $(\\frac{p}{n}),$ para $p$ cada uno de los 5 primeros primos. \n",
    "\n",
    "#### Solución   \n",
    "Entendemos por algoritmo manual a aquel que usando las propiedades del símbolo de Jacobi permiten calcularlo sin factorizar y sin exponenciación. \n"
   ]
  },
  {
   "cell_type": "code",
   "execution_count": 8,
   "metadata": {},
   "outputs": [
    {
     "name": "stdout",
     "output_type": "stream",
     "text": [
      "mod (75577399,8) = 7\n",
      "mod (75577399,4) = 3\n",
      "mod (75577399,3) = 1\n"
     ]
    },
    {
     "data": {
      "text/plain": [
       "1"
      ]
     },
     "execution_count": 8,
     "metadata": {},
     "output_type": "execute_result"
    }
   ],
   "source": [
    "# Algunos cálculos\n",
    "function n_modulo_p(n,p)\n",
    "    n_modulo_p = mod(n,p)\n",
    "    println(\"mod ($n,$p) = $n_modulo_p\")\n",
    "    return n_modulo_p\n",
    "end\n",
    "\n",
    "n_modulo_p(n,8)\n",
    "n_modulo_p(n,4)\n",
    "n_modulo_p(n,3)"
   ]
  },
  {
   "cell_type": "markdown",
   "metadata": {},
   "source": [
    "##### Caso $p=2$\n",
    "Se tienen que $n \\equiv -1 \\mod 8$, luego \n",
    "$$\\left(\\frac{2}{n}\\right) = (-1)^{(n^2-1)/8} = 1$$"
   ]
  },
  {
   "cell_type": "markdown",
   "metadata": {},
   "source": [
    "##### Caso $p=3$\n",
    "\n",
    "En este caso tanto $n$ como $p$ son impares y además se cumple que\n",
    "$$n \\equiv 3 \\mod 4$$\n",
    "entonces \n",
    "\\begin{equation*}\n",
    "    \\left(\\frac{3}{n}\\right)\n",
    "    = \n",
    "    - \\left(\\frac{n}{3}\\right)\n",
    "\\end{equation*}\n",
    "y como $n \\equiv 1 \\mod 3$\n",
    "\\begin{equation*}\n",
    "    \\left(\\frac{3}{n}\\right)\n",
    "    = \n",
    "    - \\left(\\frac{n}{3}\\right)\n",
    "    = \n",
    "    - \\left(\\frac{1}{3}\\right)\n",
    "   = -1 \n",
    "\\end{equation*}"
   ]
  },
  {
   "cell_type": "markdown",
   "metadata": {},
   "source": [
    "##### Caso $p=5$\n",
    "Puesto que $5 \\equiv 1 \\mod 4$ entonces\n",
    "\\begin{equation*}\n",
    "    \\left(\\frac{5}{n}\\right)\n",
    "    = \n",
    "     \\left(\\frac{n}{5}\\right)\n",
    "\\end{equation*}\n",
    "Además $n \\equiv 4 \\mod 5$ luego \n",
    "\\begin{equation*}\n",
    "    \\left(\\frac{5}{n}\\right)\n",
    "    = \n",
    "     \\left(\\frac{n}{5}\\right)\n",
    "     = \n",
    "     \\left(\\frac{4}{5}\\right) \n",
    "\\end{equation*}\n",
    "Sabiendo que  $4 \\equiv -1 \\mod 5$ y aplicando que \n",
    "$(\\frac{-1}{m}) = (-1)^\\frac{(m-1)}{2},$\n",
    "\\begin{equation*}\n",
    "    \\left(\\frac{4}{5}\\right)\n",
    "    = \n",
    "     \\left(\\frac{-1}{5}\\right)\n",
    "    = \n",
    "    (-1)^\\frac{(5-1)}{2}\n",
    "    = 1\n",
    "\\end{equation*}\n",
    "Por lo que concluimos que \n",
    "\n",
    "\\begin{equation*}\n",
    "    \\left(\\frac{5}{n}\\right)\n",
    "    = \n",
    "    1\n",
    "\\end{equation*}"
   ]
  },
  {
   "cell_type": "code",
   "execution_count": 9,
   "metadata": {},
   "outputs": [
    {
     "name": "stdout",
     "output_type": "stream",
     "text": [
      "mod (75577399,5) = 4\n"
     ]
    },
    {
     "data": {
      "text/plain": [
       "4"
      ]
     },
     "execution_count": 9,
     "metadata": {},
     "output_type": "execute_result"
    }
   ],
   "source": [
    "n_modulo_p(n,5)"
   ]
  },
  {
   "cell_type": "markdown",
   "metadata": {},
   "source": [
    "##### Caso $p=7$\n",
    "Por ser $7 \\equiv 3 \\mod 4$ se tiene que \n",
    "\\begin{equation*}\n",
    " \\left(\\frac{7}{n}\\right)\n",
    "    = \n",
    "  -\\left(\\frac{n}{7}\\right),\n",
    "\\end{equation*}\n",
    "como además $n \\equiv 2 \\mod 7$\n",
    "\\begin{equation*}\n",
    " \\left(\\frac{n}{7}\\right)\n",
    "    = \n",
    "  \\left(\\frac{2}{7}\\right), \n",
    "\\end{equation*}\n",
    "gracias a que $7 \\equiv -1 \\mod 8$ y las propiedades del símbolo de Jacobi\n",
    "\\begin{equation*}\n",
    " \\left(\\frac{2}{7}\\right)\n",
    "    = \n",
    "  (-1)^{\\frac{7^2-1}{2}} = 1\n",
    "\\end{equation*}\n",
    "por lo que acabamos de ver que \n",
    "\\begin{equation*}\n",
    " \\left(\\frac{7}{n}\\right)\n",
    "    = \n",
    "  -1\n",
    "\\end{equation*}\n"
   ]
  },
  {
   "cell_type": "code",
   "execution_count": 10,
   "metadata": {},
   "outputs": [
    {
     "name": "stdout",
     "output_type": "stream",
     "text": [
      "mod (75577399,7) = 2\n"
     ]
    },
    {
     "data": {
      "text/plain": [
       "2"
      ]
     },
     "execution_count": 10,
     "metadata": {},
     "output_type": "execute_result"
    }
   ],
   "source": [
    "n_modulo_p(n,7)"
   ]
  },
  {
   "cell_type": "markdown",
   "metadata": {},
   "source": [
    "##### Caso $p=11$\n",
    "Por ser $11 \\equiv 3 \\mod 4$ se tiene que \n",
    "\\begin{equation*}\n",
    " \\left(\\frac{11}{n}\\right)\n",
    "    = \n",
    "  -\\left(\\frac{n}{11}\\right),\n",
    "\\end{equation*}\n",
    "como además $n \\equiv 7 \\mod 11$\n",
    "\\begin{equation*}\n",
    " \\left(\\frac{n}{11}\\right)\n",
    "    = \n",
    "  \\left(\\frac{7}{11}\\right), \n",
    "\\end{equation*}\n",
    "ya que $7 \\equiv 3 \\mod 4$ se tiene que \n",
    "\\begin{equation*}\n",
    " \\left(\\frac{7}{11}\\right)\n",
    "    = \n",
    "  - \\left(\\frac{11}{7}\\right)\n",
    "\\end{equation*}\n",
    "puesto que $11 \\equiv 4 \\mod 7$  y aplicando las propiedades del símbolo de Jacobi se tiene que \n",
    "\\begin{equation*}\n",
    " \\left(\\frac{11}{7}\\right)\n",
    "    =\n",
    "    \\left(\\frac{4}{7}\\right)\n",
    "    =\n",
    "    \\left(\\frac{2}{7}\\right)\n",
    "    \\left(\\frac{2}{7}\\right)\n",
    "    = 1 \\times 1 = 1.\n",
    "\\end{equation*}\n",
    "Finalemente acabamos de probar que \n",
    "\\begin{equation*}\n",
    " \\left(\\frac{11}{n}\\right)\n",
    " = 1\n",
    "\\end{equation*}"
   ]
  },
  {
   "cell_type": "code",
   "execution_count": 11,
   "metadata": {},
   "outputs": [
    {
     "name": "stdout",
     "output_type": "stream",
     "text": [
      "mod (75577399,11) = 7\n"
     ]
    },
    {
     "data": {
      "text/plain": [
       "7"
      ]
     },
     "execution_count": 11,
     "metadata": {},
     "output_type": "execute_result"
    }
   ],
   "source": [
    "n_modulo_p(n,11)"
   ]
  },
  {
   "cell_type": "markdown",
   "metadata": {},
   "source": [
    "Así pues es fácil construir una función que aplique el algoritmo de Jacobi"
   ]
  },
  {
   "cell_type": "code",
   "execution_count": 12,
   "metadata": {},
   "outputs": [
    {
     "data": {
      "text/plain": [
       "VerboseJacobi (generic function with 1 method)"
      ]
     },
     "execution_count": 12,
     "metadata": {},
     "output_type": "execute_result"
    }
   ],
   "source": [
    "function Jacobi(a ::Integer,n ::Integer)\n",
    "    a %= n\n",
    "    result = 1\n",
    "    while a != 0\n",
    "        while iseven(a)\n",
    "            a /=2\n",
    "            ((n % 8 in [3, 5]) && (result *= -1))\n",
    "        end\n",
    "        a, n = n,a\n",
    "        ((a % 4 == n % 4 == 3) && (result *= -1) )\n",
    "        a %=n\n",
    "    end\n",
    "\n",
    "    return n == 1 ? result : 0  \n",
    "end\n",
    "function VerboseJacobi(a ::Integer,n ::Integer)\n",
    "    println(\"Símbolo de Jacobi ($a/$n)\")\n",
    "    a %= n\n",
    "    result = 1\n",
    "    print(\"($a/$n)\")\n",
    "    while a != 0\n",
    "        while iseven(a)\n",
    "            a /=2\n",
    "            ((n % 8 in [3, 5]) && (result *= -1))\n",
    "            print(\"= $result x($a/$n)\")\n",
    "        end\n",
    "        a, n = n,a\n",
    "        ((a % 4 == n % 4 == 3) && (result *= -1) )\n",
    "        a %=n\n",
    "        print(\"= $result x($a/$n)\")\n",
    "    end\n",
    "\n",
    "    return n == 1 ? result : 0  \n",
    "end"
   ]
  },
  {
   "cell_type": "code",
   "execution_count": 13,
   "metadata": {},
   "outputs": [
    {
     "name": "stdout",
     "output_type": "stream",
     "text": [
      "Símbolo de Jacobi (2/75577399)\n",
      "(2/75577399)= 1 x(1.0/75577399)= 1 x(0.0/1.0)= 1\n",
      "Símbolo de Jacobi (3/75577399)\n",
      "(3/75577399)= -1 x(1/3)= -1 x(0/1)= -1\n",
      "Símbolo de Jacobi (5/75577399)\n",
      "(5/75577399)= 1 x(4/5)= -1 x(2.0/5)= 1 x(1.0/5)= 1 x(0.0/1.0)= 1\n",
      "Símbolo de Jacobi (7/75577399)\n",
      "(7/75577399)= -1 x(2/7)= -1 x(1.0/7)= -1 x(0.0/1.0)= -1\n",
      "Símbolo de Jacobi (11/75577399)\n",
      "(11/75577399)= -1 x(7/11)= 1 x(4/7)= 1 x(2.0/7)= 1 x(1.0/7)= 1 x(0.0/1.0)= 1\n"
     ]
    }
   ],
   "source": [
    "for p in [2,3,5,7,11]\n",
    "    println(\"= $(VerboseJacobi(p,n))\")\n",
    "end"
   ]
  },
  {
   "cell_type": "markdown",
   "metadata": {},
   "source": [
    "### Apartado segundo \n",
    "Si para alguna de esas bases $n$ es un posible primo de Fermat, comprueba si además es un posible primo de Euler. \n",
    "\n",
    "#### Solución\n",
    "\n",
    "Como hemos procedido en el ejercicio primero calcularemos comprobaremos si se satisface que \n",
    "$$a^{(p-1)} \\equiv 1 \\mod(p)$$\n",
    "entonces $p$ será un posible primo de Fermat en la base $a$.\n"
   ]
  },
  {
   "cell_type": "code",
   "execution_count": 14,
   "metadata": {},
   "outputs": [
    {
     "name": "stdout",
     "output_type": "stream",
     "text": [
      "Algoritmo de exponenciación rápida de izquierda a derecha \n",
      "Para base b=2 mod(2^{75577398}, 75577399) = 1\n",
      "Para base b=3 mod(3^{75577398}, 75577399) = 1\n",
      "Para base b=5 mod(5^{75577398}, 75577399) = 1\n",
      "Para base b=7 mod(7^{75577398}, 75577399) = 1\n",
      "Para base b=11 mod(11^{75577398}, 75577399) = 1\n"
     ]
    }
   ],
   "source": [
    "# Celda 1\n",
    "bases = [2,3,5,7,11]\n",
    "println(\"Algoritmo de exponenciación rápida de izquierda a derecha \")\n",
    "for b in bases\n",
    "    r2 = LeftToRightFastExponential(b, n-1, n)\n",
    "    println(\"Para base b=$(b) mod($b^{$(n-1)}, $n) = $r2\")\n",
    "end"
   ]
  },
  {
   "cell_type": "markdown",
   "metadata": {},
   "source": [
    "A la vista de los resultados para cualquier base de los cinco primeros números primos es un posible primo de Fermat, vamos ahora si es posible primo de Euler. \n",
    "\n",
    "Esto será si satisface que \n",
    "$$ \\left( \\frac{a}{p} \\right) \\equiv a^{\\frac{p-1}{2}} \\mod p$$"
   ]
  },
  {
   "cell_type": "code",
   "execution_count": 15,
   "metadata": {},
   "outputs": [
    {
     "name": "stdout",
     "output_type": "stream",
     "text": [
      "\n",
      "Base 2\n",
      "Por el algoritmo Jacobi (2/75577399) = 1\n",
      "Calculando el módulo, 2^{75577398/2} = 1\n",
      "75577399 es un posible primo Euler en base 2\n",
      "\n",
      "Base 3\n",
      "Por el algoritmo Jacobi (3/75577399) = -1\n",
      "Calculando el módulo, 3^{75577398/2} = 75577398\n",
      "75577399 NO es primo gracias al criterio de Euler en base 3\n",
      "\n",
      "Base 5\n",
      "Por el algoritmo Jacobi (5/75577399) = 1\n",
      "Calculando el módulo, 5^{75577398/2} = 1\n",
      "75577399 es un posible primo Euler en base 5\n",
      "\n",
      "Base 7\n",
      "Por el algoritmo Jacobi (7/75577399) = -1\n",
      "Calculando el módulo, 7^{75577398/2} = 75577398\n",
      "75577399 NO es primo gracias al criterio de Euler en base 7\n",
      "\n",
      "Base 11\n",
      "Por el algoritmo Jacobi (11/75577399) = 1\n",
      "Calculando el módulo, 11^{75577398/2} = 1\n",
      "75577399 es un posible primo Euler en base 11\n"
     ]
    }
   ],
   "source": [
    "# Celda 2\n",
    "for b in bases\n",
    "    congruente = LeftToRightFastExponential(b, floor(Int, (n-1)/2), n)\n",
    "    jacobi = Jacobi(b,n)\n",
    "    println(\"\\nBase $b\")\n",
    "    println(\"Por el algoritmo Jacobi ($b/$n) = $jacobi\")\n",
    "    println(\"Calculando el módulo, $b^{$((n-1))/2} = $congruente\")\n",
    "    println(congruente == jacobi ? \n",
    "        \"$n es un posible primo Euler en base $b\" : \n",
    "        \"$n NO es primo gracias al criterio de Euler en base $b\")\n",
    "end"
   ]
  },
  {
   "cell_type": "markdown",
   "metadata": {},
   "source": [
    "Acabamos de comprobar que $n$ es un posible primo de Euler para las bases 2, 5 y 11, pero gracias a la base 3 o a la 7 sabemos que no es primo, si no que se trata de un **pseudo primo** de Euler en las bases 2, 5 y 11."
   ]
  },
  {
   "cell_type": "markdown",
   "metadata": {},
   "source": [
    "### Conclusiones   \n",
    "Puesto que acabamos de comprobar que $n$ no es primo, se tiene que: \n",
    "$n$ es un pseudo primo de Fermat para las bases 2,3,5,7 y 11; mientras que se ha comprobado en `celda 2` que es un pseudo primo de Euler en las bases 2,5 y 11. "
   ]
  }
 ],
 "metadata": {
  "kernelspec": {
   "display_name": "Julia 1.7.1",
   "language": "julia",
   "name": "julia-1.7"
  },
  "language_info": {
   "file_extension": ".jl",
   "mimetype": "application/julia",
   "name": "julia",
   "version": "1.7.1"
  }
 },
 "nbformat": 4,
 "nbformat_minor": 2
}
