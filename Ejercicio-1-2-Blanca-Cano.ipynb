{
 "cells": [
  {
   "cell_type": "markdown",
   "metadata": {},
   "source": [
    "# Ejercicios Teoría de Números \n",
    "## Datos personales\n",
    "- Alumna: Blanca Cana Camarero \n",
    "- Correo: blancacano@correo.ugr.es"
   ]
  },
  {
   "cell_type": "markdown",
   "metadata": {},
   "source": [
    "## Ejercicio primero \n",
    "Dado un número :"
   ]
  },
  {
   "cell_type": "code",
   "execution_count": 1,
   "metadata": {},
   "outputs": [
    {
     "data": {
      "text/plain": [
       "75577392"
      ]
     },
     "execution_count": 1,
     "metadata": {},
     "output_type": "execute_result"
    }
   ],
   "source": [
    "n = 75577392"
   ]
  },
  {
   "cell_type": "markdown",
   "metadata": {},
   "source": [
    "i) Mientras $n$ sea múltiplo de 2, 3, 5, 7 u 11 le sumas uno. De forma que tu nuevo $n$ no tenga esos divisores primos."
   ]
  },
  {
   "cell_type": "code",
   "execution_count": 2,
   "metadata": {},
   "outputs": [
    {
     "name": "stdout",
     "output_type": "stream",
     "text": [
      "El valor n = 75577393 no es múltiplo de ningún elemento de [2, 3, 5, 7, 11]."
     ]
    }
   ],
   "source": [
    "primos = [2,3,5,7,11]\n",
    "no_es_multiplo = true\n",
    "while no_es_multiplo\n",
    "    no_es_multiplo = false\n",
    "    for p in primos\n",
    "        if mod(n,p) == 0\n",
    "            n += 1\n",
    "            no_es_multiplo = true\n",
    "        end\n",
    "    end\n",
    "end\n",
    "print(\"El valor n = $n no es múltiplo de ningún elemento de $primos.\")"
   ]
  },
  {
   "cell_type": "markdown",
   "metadata": {},
   "source": [
    "ii) Calcula $a^{n-1}$ mod $n$, para cada uno de esas cinco bases usando sucesivamente el algoritmo de izquierda-derecha y de derecha.\n",
    "\n",
    "### Base matemática  \n",
    "**Pequeño teorema de Fermat**  \n",
    "\n",
    "Sea $p$ un número primo, entonces para cada natural $a > 0$ se tiene que \n",
    "$$a^p \\equiv a \\mod(p)$$\n",
    "\n",
    "Razonaremos por contradicción, si encontramos un $a$ natural positivo tal que \n",
    "$$a^{p-1} \\mod p \\not \\equiv 1$$\n",
    "entonces sabremos que $p$ no es primo.\n",
    "\n",
    "En caso contrario diremos que $p$ es un posible primo de Fermat en la base $a$ . \n",
    "\n",
    "Vemos que para el cálculo de $a^{p-1} \\mod p$ es necesario el cálculo de una potencia, con el fin de optimizar el algoritmo calcularemos la potencia de $a^{p-1}$ con el método de las exponencial rápida. \n",
    "Existen dos variantes, presentamos a continuación dos versiones del cálculo de $f(a,q,p) = a^{q} \\mod p$ combinando las dos técnicas de exponenciación.\n",
    "\n",
    "#### Algoritmo de derecha izquierda\n",
    "La idea que subyace es que los dígitos en binario no se conocen, así que se van calculando a la par que se aplica el algoritmo. "
   ]
  },
  {
   "cell_type": "code",
   "execution_count": 3,
   "metadata": {},
   "outputs": [
    {
     "data": {
      "text/plain": [
       "VerboseRightToLeftFastExponential (generic function with 1 method)"
      ]
     },
     "execution_count": 3,
     "metadata": {},
     "output_type": "execute_result"
    }
   ],
   "source": [
    "function RightToLeftFastExponential(base::Integer, exp::Integer, p :: Integer)\n",
    "    a = base\n",
    "    b = exp\n",
    "    n = p\n",
    "    acc = 1\n",
    "    while b > 0\n",
    "        if mod(b,2) == 1\n",
    "            acc = mod(acc*a, p)\n",
    "        end\n",
    "        b = floor(Int, b/2)\n",
    "        a = mod(a^2, n)\n",
    "    end \n",
    "    return acc\n",
    "end\n",
    "\n",
    "function VerboseRightToLeftFastExponential(base::Integer, exp::Integer, p :: Integer)\n",
    "    paso = 0\n",
    "    a = base\n",
    "    b = exp\n",
    "    n = p\n",
    "    acc = 1\n",
    "\n",
    "    println(\"paso $paso, acu: $acc, base: $base\")\n",
    "    while b > 0\n",
    "        if mod(b,2) == 1\n",
    "            acc = mod(acc*a, p)\n",
    "        end\n",
    "        b = floor(Int, b/2)\n",
    "        a = mod(a^2, n)\n",
    "        paso +=1\n",
    "        println(\"paso $paso, acu: $acc, base: $a\")\n",
    "    end \n",
    "    return acc\n",
    "end\n"
   ]
  },
  {
   "cell_type": "code",
   "execution_count": 73,
   "metadata": {},
   "outputs": [
    {
     "name": "stdout",
     "output_type": "stream",
     "text": [
      "ALGORITMO DE DERECHA A IZQUIERDA \n",
      "------------------------------------------------------------\n",
      "------------------------------------------------------------\n",
      "Ejección de derecha a izquierda para base=2 y p=75577399 \n",
      "------------------------------------------------------------\n",
      "paso 0, acu: 1, base: 2\n",
      "paso 1, acu: 1, base: 4\n",
      "paso 2, acu: 4, base: 16\n",
      "paso 3, acu: 64, base: 256\n",
      "paso 4, acu: 64, base: 65536\n",
      "paso 5, acu: 4194304, base: 62632952\n",
      "paso 6, acu: 43754136, base: 62415056\n",
      "paso 7, acu: 43754136, base: 67860964\n",
      "paso 8, acu: 43754136, base: 17616671\n",
      "paso 9, acu: 43754136, base: 71470788\n",
      "paso 10, acu: 43754136, base: 64247259\n",
      "paso 11, acu: 43754136, base: 5770751\n",
      "paso 12, acu: 34656405, base: 48937429\n",
      "paso 13, acu: 56626654, base: 51427514\n",
      "paso 14, acu: 52966416, base: 63671641\n",
      "paso 15, acu: 52966416, base: 74604685\n",
      "paso 16, acu: 52966416, base: 19067715\n",
      "paso 17, acu: 33127742, base: 56006092\n",
      "paso 18, acu: 33127742, base: 50071778\n",
      "paso 19, acu: 33127742, base: 8368797\n",
      "paso 20, acu: 33127742, base: 18925298\n",
      "paso 21, acu: 33127742, base: 17800278\n",
      "paso 22, acu: 33127742, base: 40661073\n",
      "paso 23, acu: 33127742, base: 66078618\n",
      "paso 24, acu: 60842509, base: 47505594\n",
      "paso 25, acu: 60842509, base: 44399169\n",
      "paso 26, acu: 60842509, base: 2844773\n",
      "paso 27, acu: 1, base: 56691407\n",
      "Se tiene que 2^(75577399-1) mod 75577399 = 1\n",
      "------------------------------------------------------------\n",
      "------------------------------------------------------------\n",
      "Ejección de derecha a izquierda para base=3 y p=75577399 \n",
      "------------------------------------------------------------\n",
      "paso 0, acu: 1, base: 3\n",
      "paso 1, acu: 1, base: 9\n",
      "paso 2, acu: 9, base: 81\n",
      "paso 3, acu: 729, base: 6561\n",
      "paso 4, acu: 729, base: 43046721\n",
      "paso 5, acu: 16439024, base: 67392819\n",
      "paso 6, acu: 6365032, base: 2369341\n",
      "paso 7, acu: 6365032, base: 38731359\n",
      "paso 8, acu: 6365032, base: 62347247\n",
      "paso 9, acu: 6365032, base: 43746099\n",
      "paso 10, acu: 6365032, base: 10168343\n",
      "paso 11, acu: 6365032, base: 27115719\n",
      "paso 12, acu: 16334259, base: 8552960\n",
      "paso 13, acu: 5834559, base: 21989323\n",
      "paso 14, acu: 1615728, base: 33437745\n",
      "paso 15, acu: 1615728, base: 45899102\n",
      "paso 16, acu: 1615728, base: 9541504\n",
      "paso 17, acu: 46172094, base: 66056212\n",
      "paso 18, acu: 46172094, base: 27955641\n",
      "paso 19, acu: 46172094, base: 19876910\n",
      "paso 20, acu: 46172094, base: 41462341\n",
      "paso 21, acu: 46172094, base: 31357639\n",
      "paso 22, acu: 46172094, base: 35684644\n",
      "paso 23, acu: 46172094, base: 46717606\n",
      "paso 24, acu: 63358899, base: 1213376\n",
      "paso 25, acu: 63358899, base: 33584856\n",
      "paso 26, acu: 63358899, base: 55858672\n",
      "paso 27, acu: 1, base: 10602097\n",
      "Se tiene que 3^(75577399-1) mod 75577399 = 1\n",
      "------------------------------------------------------------\n",
      "------------------------------------------------------------\n",
      "Ejección de derecha a izquierda para base=5 y p=75577399 \n",
      "------------------------------------------------------------\n",
      "paso 0, acu: 1, base: 5\n",
      "paso 1, acu: 1, base: 25\n",
      "paso 2, acu: 25, base: 625\n",
      "paso 3, acu: 15625, base: 390625\n",
      "paso 4, acu: 15625, base: 72699443\n",
      "paso 5, acu: 489905, base: 28004127\n",
      "paso 6, acu: 23329662, base: 56564058\n",
      "paso 7, acu: 23329662, base: 30667551\n",
      "paso 8, acu: 23329662, base: 2827180\n",
      "paso 9, acu: 23329662, base: 32188958\n",
      "paso 10, acu: 23329662, base: 60916072\n",
      "paso 11, acu: 23329662, base: 67528892\n",
      "paso 12, acu: 1227507, base: 18162563\n",
      "paso 13, acu: 20712032, base: 50699148\n",
      "paso 14, acu: 17826068, base: 18795119\n",
      "paso 15, acu: 17826068, base: 26403463\n",
      "paso 16, acu: 17826068, base: 678993\n",
      "paso 17, acu: 54939674, base: 9360149\n",
      "paso 18, acu: 54939674, base: 45285441\n",
      "paso 19, acu: 54939674, base: 59835595\n",
      "paso 20, acu: 54939674, base: 8094832\n",
      "paso 21, acu: 54939674, base: 19978633\n",
      "paso 22, acu: 54939674, base: 68448373\n",
      "paso 23, acu: 54939674, base: 7244939\n",
      "paso 24, acu: 17629668, base: 32889029\n",
      "paso 25, acu: 17629668, base: 6997565\n",
      "paso 26, acu: 17629668, base: 74891115\n",
      "paso 27, acu: 1, base: 62955487\n",
      "Se tiene que 5^(75577399-1) mod 75577399 = 1\n",
      "------------------------------------------------------------\n",
      "------------------------------------------------------------\n",
      "Ejección de derecha a izquierda para base=7 y p=75577399 \n",
      "------------------------------------------------------------\n",
      "paso 0, acu: 1, base: 7\n",
      "paso 1, acu: 1, base: 49\n",
      "paso 2, acu: 49, base: 2401\n",
      "paso 3, acu: 117649, base: 5764801\n",
      "paso 4, acu: 117649, base: 36681321\n",
      "paso 5, acu: 51251429, base: 62737837\n",
      "paso 6, acu: 13202588, base: 17122109\n",
      "paso 7, acu: 13202588, base: 72029305\n",
      "paso 8, acu: 13202588, base: 43681406\n",
      "paso 9, acu: 13202588, base: 48396341\n",
      "paso 10, acu: 13202588, base: 26978904\n",
      "paso 11, acu: 13202588, base: 45081689\n",
      "paso 12, acu: 49134235, base: 44617811\n",
      "paso 13, acu: 36986031, base: 10440655\n",
      "paso 14, acu: 52788947, base: 29238951\n",
      "paso 15, acu: 52788947, base: 60304398\n",
      "paso 16, acu: 52788947, base: 56795633\n",
      "paso 17, acu: 16580998, base: 20610019\n",
      "paso 18, acu: 16580998, base: 12740130\n",
      "paso 19, acu: 16580998, base: 58973111\n",
      "paso 20, acu: 16580998, base: 34037091\n",
      "paso 21, acu: 16580998, base: 32948049\n",
      "paso 22, acu: 16580998, base: 50526338\n",
      "paso 23, acu: 16580998, base: 9445004\n",
      "paso 24, acu: 36250940, base: 15340770\n",
      "paso 25, acu: 36250940, base: 46262583\n",
      "paso 26, acu: 36250940, base: 29056830\n",
      "paso 27, acu: 1, base: 60652220\n",
      "Se tiene que 7^(75577399-1) mod 75577399 = 1\n",
      "------------------------------------------------------------\n",
      "------------------------------------------------------------\n",
      "Ejección de derecha a izquierda para base=11 y p=75577399 \n",
      "------------------------------------------------------------\n",
      "paso 0, acu: 1, base: 11\n",
      "paso 1, acu: 1, base: 121\n",
      "paso 2, acu: 121, base: 14641\n",
      "paso 3, acu: 1771561, base: 63204083\n",
      "paso 4, acu: 1771561, base: 73401379\n",
      "paso 5, acu: 24223573, base: 63415651\n",
      "paso 6, acu: 13125992, base: 45899145\n",
      "paso 7, acu: 13125992, base: 26841377\n",
      "paso 8, acu: 13125992, base: 51445066\n",
      "paso 9, acu: 13125992, base: 63556292\n",
      "paso 10, acu: 13125992, base: 3521489\n",
      "paso 11, acu: 13125992, base: 69571802\n",
      "paso 12, acu: 724347, base: 73398230\n",
      "paso 13, acu: 35027871, base: 22819194\n",
      "paso 14, acu: 2693590, base: 32702668\n",
      "paso 15, acu: 2693590, base: 10112410\n",
      "paso 16, acu: 2693590, base: 4939761\n",
      "paso 17, acu: 63005843, base: 17386385\n",
      "paso 18, acu: 63005843, base: 65207117\n",
      "paso 19, acu: 63005843, base: 40007272\n",
      "paso 20, acu: 63005843, base: 29144832\n",
      "paso 21, acu: 63005843, base: 42981314\n",
      "paso 22, acu: 63005843, base: 44640523\n",
      "paso 23, acu: 63005843, base: 33149086\n",
      "paso 24, acu: 945760, base: 1963153\n",
      "paso 25, acu: 945760, base: 51394202\n",
      "paso 26, acu: 945760, base: 34390929\n",
      "paso 27, acu: 1, base: 37680775\n",
      "Se tiene que 11^(75577399-1) mod 75577399 = 1\n"
     ]
    }
   ],
   "source": [
    "bases = primos\n",
    "println(\"ALGORITMO DE DERECHA A IZQUIERDA \")\n",
    "for b in bases\n",
    "    println(repeat('-', 60))\n",
    "    println(repeat('-', 60))\n",
    "    println(\"Ejección de derecha a izquierda para base=$b y p=$n \")\n",
    "    println(repeat('-', 60))\n",
    "    r = VerboseRightToLeftFastExponential(b, n-1, n)\n",
    "    println(\"Se tiene que $(b)^($n-1) mod $n = $(r)\")\n",
    "end\n"
   ]
  },
  {
   "cell_type": "markdown",
   "metadata": {},
   "source": [
    "### Algoritmo de derecha a izquierda \n",
    "- Se calcula previamente el valor del número en base 2. "
   ]
  },
  {
   "cell_type": "code",
   "execution_count": 5,
   "metadata": {},
   "outputs": [
    {
     "data": {
      "text/plain": [
       "VerboseLeftToRightFastExponential (generic function with 1 method)"
      ]
     },
     "execution_count": 5,
     "metadata": {},
     "output_type": "execute_result"
    }
   ],
   "source": [
    "function LeftToRightFastExponential(base::Integer, exp::Integer, p::Integer)\n",
    "    b = string(exp; base=2)\n",
    "    a = base\n",
    "    c = 0\n",
    "    acc = 1\n",
    "    n = p\n",
    "    for i in b\n",
    "        c = 2c\n",
    "        acc = mod(acc ^2, n)\n",
    "        if i == '1'\n",
    "            c += 1\n",
    "            acc = mod(acc*a, n )\n",
    "        end\n",
    "    end \n",
    "    return acc\n",
    "end \n",
    "\n",
    "# verbose version \n",
    "\n",
    "function VerboseLeftToRightFastExponential(base::Integer, exp::Integer, p::Integer)\n",
    "    b = string(exp; base=2)\n",
    "    a = base\n",
    "    println(\"p-1 = $exp = $(b) (en binario)\")\n",
    "    paso = 0\n",
    "    c = 0\n",
    "    acc = 1\n",
    "    n = p\n",
    "    println(\"Paso $paso , acu: $acc\")\n",
    "    for i in b\n",
    "        c = 2c\n",
    "        acc = mod(acc ^2, n)\n",
    "        if i == '1'\n",
    "            c += 1\n",
    "            acc = mod(acc*a, n )\n",
    "        end\n",
    "        paso +=1\n",
    "        println(\"Paso $paso , acu: $acc\")\n",
    "    end \n",
    "    return acc\n",
    "end "
   ]
  },
  {
   "cell_type": "code",
   "execution_count": 6,
   "metadata": {},
   "outputs": [
    {
     "name": "stdout",
     "output_type": "stream",
     "text": [
      "ALGORITMO IZQUIERDA A DERECHA\n",
      "Para base b=2 50057215\n",
      "Para base b=5 58601398\n",
      "Para base b=7 22113448\n",
      "Para base b=11 21343212\n"
     ]
    }
   ],
   "source": [
    "bases = [2,5,7,11]\n",
    "println(\"ALGORITMO IZQUIERDA A DERECHA\")\n",
    "for b in bases\n",
    "    r =  LeftToRightFastExponential(b, n-1, n)\n",
    "    println(\"Para base b=$(b) $(r)\")\n",
    "end\n"
   ]
  },
  {
   "cell_type": "code",
   "execution_count": 7,
   "metadata": {},
   "outputs": [
    {
     "name": "stdout",
     "output_type": "stream",
     "text": [
      "Comparamos resultados\n",
      "Para base b=2 algoritmo de derecha a izquierda: 50057215, algoritmo izquierda a derecha: 50057215\n",
      "Para base b=5 algoritmo de derecha a izquierda: 58601398, algoritmo izquierda a derecha: 58601398\n",
      "Para base b=7 algoritmo de derecha a izquierda: 22113448, algoritmo izquierda a derecha: 22113448\n",
      "Para base b=11 algoritmo de derecha a izquierda: 21343212, algoritmo izquierda a derecha: 21343212\n"
     ]
    }
   ],
   "source": [
    "println(\"Comparamos resultados\")\n",
    "for b in bases\n",
    "    r1 = RightToLeftFastExponential(b, n-1, n)\n",
    "    r2 = LeftToRightFastExponential(b, n-1, n)\n",
    "    println(\"Para base b=$(b) algoritmo de derecha a izquierda: $(r1), algoritmo izquierda a derecha: $r2\")\n",
    "end\n"
   ]
  },
  {
   "cell_type": "markdown",
   "metadata": {},
   "source": [
    "## Ejercicio segundo\n",
    "Dado un número "
   ]
  },
  {
   "cell_type": "code",
   "execution_count": 8,
   "metadata": {},
   "outputs": [
    {
     "data": {
      "text/plain": [
       "75577399"
      ]
     },
     "execution_count": 8,
     "metadata": {},
     "output_type": "execute_result"
    }
   ],
   "source": [
    "n = 75577399"
   ]
  },
  {
   "cell_type": "markdown",
   "metadata": {},
   "source": [
    "## Apartado primero \n",
    "Use el algoritmo manual para calcular el símbolo de Jacobi $(\\frac{p}{n}),$ para $p$ cada uno de los 5 primeros primos. \n",
    "\n",
    "### Solución   \n",
    "Entendemos por algoritmo manual a aquel que usando las propiedades del símbolo de Jacobi permiten calcularlo sin factorizar y sin exponenciación. \n"
   ]
  },
  {
   "cell_type": "code",
   "execution_count": 9,
   "metadata": {},
   "outputs": [
    {
     "name": "stdout",
     "output_type": "stream",
     "text": [
      "mod (75577399,8) = 7\n",
      "mod (75577399,4) = 3\n",
      "mod (75577399,3) = 1\n"
     ]
    },
    {
     "data": {
      "text/plain": [
       "1"
      ]
     },
     "execution_count": 9,
     "metadata": {},
     "output_type": "execute_result"
    }
   ],
   "source": [
    "# Algunos cálculos\n",
    "function n_modulo_p(n,p)\n",
    "    n_modulo_p = mod(n,p)\n",
    "    println(\"mod ($n,$p) = $n_modulo_p\")\n",
    "    return n_modulo_p\n",
    "end\n",
    "\n",
    "n_modulo_p(n,8)\n",
    "n_modulo_p(n,4)\n",
    "n_modulo_p(n,3)"
   ]
  },
  {
   "cell_type": "markdown",
   "metadata": {},
   "source": [
    "#### Caso $p=2$\n",
    "Se tienen que $n \\equiv -1 \\mod 8$, luego \n",
    "$$\\left(\\frac{2}{n}\\right) = (-1)^{8k^2-6k} = 1$$"
   ]
  },
  {
   "cell_type": "markdown",
   "metadata": {},
   "source": [
    "#### Caso $p=3$\n",
    "\n",
    "En este caso tanto $n$ como $p$ son impares y además se cumple que\n",
    "$$n \\equiv 3 \\mod 4$$\n",
    "entonces \n",
    "\\begin{equation}\n",
    "    \\left(\\frac{3}{n}\\right)\n",
    "    = \n",
    "    - \\left(\\frac{n}{3}\\right)\n",
    "    = \n",
    "    - \\left(\\frac{1}{3}\\right)\n",
    "    = \n",
    "    - \\left(\\frac{3}{1}\\right)\n",
    "   = -1 \n",
    "\\end{equation}"
   ]
  },
  {
   "cell_type": "markdown",
   "metadata": {},
   "source": [
    "#### Caso $p=5$\n",
    "Puesto que $5 \\equiv 1 \\mod 4$ entonces\n",
    "\\begin{equation*}\n",
    "    \\left(\\frac{5}{n}\\right)\n",
    "    = \n",
    "     \\left(\\frac{n}{5}\\right)\n",
    "\\end{equation*}\n",
    "Además $n \\equiv 4 \\mod 5$ luego \n",
    "\\begin{equation*}\n",
    "    \\left(\\frac{5}{n}\\right)\n",
    "    = \n",
    "     \\left(\\frac{n}{5}\\right)\n",
    "     = \n",
    "     \\left(\\frac{4}{5}\\right) \n",
    "\\end{equation*}\n",
    "Sabiendo que  $4 \\equiv -1 \\mod 5$ y aplicando que \n",
    "$(\\frac{-1}{m}) = (-1)^\\frac{(m-1)}{2},$\n",
    "\\begin{equation*}\n",
    "    \\left(\\frac{4}{5}\\right)\n",
    "    = \n",
    "     \\left(\\frac{-1}{5}\\right)\n",
    "    = \n",
    "    (-1)^\\frac{(5-1)}{2}\n",
    "    = 1\n",
    "\\end{equation*}\n",
    "Por lo que concluimos que \n",
    "\n",
    "\\begin{equation*}\n",
    "    \\left(\\frac{5}{n}\\right)\n",
    "    = \n",
    "    1\n",
    "\\end{equation*}"
   ]
  },
  {
   "cell_type": "code",
   "execution_count": 10,
   "metadata": {},
   "outputs": [
    {
     "name": "stdout",
     "output_type": "stream",
     "text": [
      "mod (75577399,5) = 4\n"
     ]
    },
    {
     "data": {
      "text/plain": [
       "4"
      ]
     },
     "execution_count": 10,
     "metadata": {},
     "output_type": "execute_result"
    }
   ],
   "source": [
    "n_modulo_p(n,5)"
   ]
  },
  {
   "cell_type": "markdown",
   "metadata": {},
   "source": [
    "Así pues es fácil construir una función que aplique el algoritmo de Jacobi"
   ]
  },
  {
   "cell_type": "code",
   "execution_count": 11,
   "metadata": {},
   "outputs": [
    {
     "data": {
      "text/plain": [
       "VerboseJacobi (generic function with 1 method)"
      ]
     },
     "execution_count": 11,
     "metadata": {},
     "output_type": "execute_result"
    }
   ],
   "source": [
    "function Jacobi(a ::Integer,n ::Integer)\n",
    "    a %= n\n",
    "    result = 1\n",
    "    while a != 0\n",
    "        while iseven(a)\n",
    "            a /=2\n",
    "            ((n % 8 in [3, 5]) && (result *= -1))\n",
    "        end\n",
    "        a, n = n,a\n",
    "        ((a % 4 == n % 4 == 3) && (result *= -1) )\n",
    "        a %=n\n",
    "    end\n",
    "\n",
    "    return n == 1 ? result : 0  \n",
    "end\n",
    "function VerboseJacobi(a ::Integer,n ::Integer)\n",
    "    println(\"Símbolo de Jacobi ($a/$n)\")\n",
    "    a %= n\n",
    "    result = 1\n",
    "    print(\"($a/$n)\")\n",
    "    while a != 0\n",
    "        while iseven(a)\n",
    "            a /=2\n",
    "            ((n % 8 in [3, 5]) && (result *= -1))\n",
    "            print(\"= $result x($a/$n)\")\n",
    "        end\n",
    "        a, n = n,a\n",
    "        ((a % 4 == n % 4 == 3) && (result *= -1) )\n",
    "        a %=n\n",
    "        print(\"= $result x($a/$n)\")\n",
    "    end\n",
    "\n",
    "    return n == 1 ? result : 0  \n",
    "end"
   ]
  },
  {
   "cell_type": "code",
   "execution_count": 12,
   "metadata": {},
   "outputs": [
    {
     "name": "stdout",
     "output_type": "stream",
     "text": [
      "Símbolo de Jacobi (2/75577399)\n",
      "(2/75577399)= 1 x(1.0/75577399)= 1 x(0.0/1.0)= 1\n",
      "Símbolo de Jacobi (3/75577399)\n",
      "(3/75577399)= -1 x(1/3)= -1 x(0/1)= -1\n",
      "Símbolo de Jacobi (5/75577399)\n",
      "(5/75577399)= 1 x(4/5)= -1 x(2.0/5)= 1 x(1.0/5)= 1 x(0.0/1.0)= 1\n",
      "Símbolo de Jacobi (7/75577399)\n",
      "(7/75577399)= -1 x(2/7)= -1 x(1.0/7)= -1 x(0.0/1.0)= -1\n",
      "Símbolo de Jacobi (11/75577399)\n",
      "(11/75577399)= -1 x(7/11)= 1 x(4/7)= 1 x(2.0/7)= 1 x(1.0/7)= 1 x(0.0/1.0)= 1\n"
     ]
    }
   ],
   "source": [
    "for p in [2,3,5,7,11]\n",
    "    println(\"= $(VerboseJacobi(p,n))\")\n",
    "end"
   ]
  },
  {
   "cell_type": "markdown",
   "metadata": {},
   "source": [
    "## Apartado segundo \n",
    "Si para alguna de esas bases $n$ es un posible primo de Fermat, comprueba si además es un posible primo de Euler. \n",
    "\n",
    "### Solución\n",
    "\n",
    "Como hemos procedido en el ejercicio primero calcularemos comprobaremos si se satisface que \n",
    "$$a^{(p-1)} \\equiv 1 \\mod(p)$$\n",
    "entonces $p$ será un posible primo de Fermat en la base $a$.\n"
   ]
  },
  {
   "cell_type": "code",
   "execution_count": 13,
   "metadata": {},
   "outputs": [
    {
     "name": "stdout",
     "output_type": "stream",
     "text": [
      "Algoritmo de exponenciación rápida de izquierda a derecha \n",
      "Para base b=2 mod(2^{75577398}, 75577399) = 1\n",
      "Para base b=3 mod(3^{75577398}, 75577399) = 1\n",
      "Para base b=5 mod(5^{75577398}, 75577399) = 1\n",
      "Para base b=7 mod(7^{75577398}, 75577399) = 1\n",
      "Para base b=11 mod(11^{75577398}, 75577399) = 1\n"
     ]
    }
   ],
   "source": [
    "# Celda 1\n",
    "bases = [2,3,5,7,11]\n",
    "println(\"Algoritmo de exponenciación rápida de izquierda a derecha \")\n",
    "for b in bases\n",
    "    r2 = LeftToRightFastExponential(b, n-1, n)\n",
    "    println(\"Para base b=$(b) mod($b^{$(n-1)}, $n) = $r2\")\n",
    "end"
   ]
  },
  {
   "cell_type": "markdown",
   "metadata": {},
   "source": [
    "A la vista de los resultados para cualquier base de los cinco primeros números primos es un posible primo de Fermat, vamos ahora si es posible primo de Euler. \n",
    "\n",
    "Esto será si satisface que \n",
    "$$ \\left( \\frac{a}{p} \\right) \\equiv a^{\\frac{p-1}{2}} \\mod p$$"
   ]
  },
  {
   "cell_type": "code",
   "execution_count": 14,
   "metadata": {},
   "outputs": [
    {
     "name": "stdout",
     "output_type": "stream",
     "text": [
      "\n",
      "Base 2\n",
      "Por el algoritmo Jacobi (2/75577399) = 1\n",
      "Calculando el módulo, 2^{75577398/2} = 1\n",
      "75577399 es un posible primo Euler en base 2\n",
      "\n",
      "Base 3\n",
      "Por el algoritmo Jacobi (3/75577399) = -1\n",
      "Calculando el módulo, 3^{75577398/2} = 75577398\n",
      "75577399 NO es primo gracias al criterio de Euler en base 3\n",
      "\n",
      "Base 5\n",
      "Por el algoritmo Jacobi (5/75577399) = 1\n",
      "Calculando el módulo, 5^{75577398/2} = 1\n",
      "75577399 es un posible primo Euler en base 5\n",
      "\n",
      "Base 7\n",
      "Por el algoritmo Jacobi (7/75577399) = -1\n",
      "Calculando el módulo, 7^{75577398/2} = 75577398\n",
      "75577399 NO es primo gracias al criterio de Euler en base 7\n",
      "\n",
      "Base 11\n",
      "Por el algoritmo Jacobi (11/75577399) = 1\n",
      "Calculando el módulo, 11^{75577398/2} = 1\n",
      "75577399 es un posible primo Euler en base 11\n"
     ]
    }
   ],
   "source": [
    "# Celda 2\n",
    "for b in bases\n",
    "    congruente = LeftToRightFastExponential(b, floor(Int, (n-1)/2), n)\n",
    "    jacobi = Jacobi(b,n)\n",
    "    println(\"\\nBase $b\")\n",
    "    println(\"Por el algoritmo Jacobi ($b/$n) = $jacobi\")\n",
    "    println(\"Calculando el módulo, $b^{$((n-1))/2} = $congruente\")\n",
    "    println(congruente == jacobi ? \n",
    "        \"$n es un posible primo Euler en base $b\" : \n",
    "        \"$n NO es primo gracias al criterio de Euler en base $b\")\n",
    "end"
   ]
  },
  {
   "cell_type": "markdown",
   "metadata": {},
   "source": [
    "Acabamos de comprobar que $n$ es un posible primo de Euler para las bases 2, 5 y 11, pero gracias a la base 3 o a la 7 sabemos que no es primo, si no que se trata de un **pseudo primo** de Euler en las bases 2, 5 y 11."
   ]
  },
  {
   "cell_type": "markdown",
   "metadata": {},
   "source": [
    "### Conclusiones   \n",
    "Puesto que acabamos de comprobar que $n$ no es primo, se tiene que: \n",
    "$n$ es un pseudo primo de Fermat para las bases 2,3,5,7 y 11; mientras que se ha comprobado en `celda 2` que es un pseudo primo de Euler en las bases 2,5 y 11. "
   ]
  }
 ],
 "metadata": {
  "kernelspec": {
   "display_name": "Julia 1.7.1",
   "language": "julia",
   "name": "julia-1.7"
  },
  "language_info": {
   "file_extension": ".jl",
   "mimetype": "application/julia",
   "name": "julia",
   "version": "1.7.1"
  }
 },
 "nbformat": 4,
 "nbformat_minor": 2
}
