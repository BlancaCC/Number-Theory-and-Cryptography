{
 "cells": [
  {
   "cell_type": "markdown",
   "id": "e50b3805",
   "metadata": {},
   "source": [
    "# Ejercicio 3  \n",
    "\n",
    "Autora: Blanca Cano Camarero   \n",
    "Correo: BlancaCano@correo.ugr.es"
   ]
  },
  {
   "cell_type": "code",
   "execution_count": 92,
   "id": "0dab1616",
   "metadata": {},
   "outputs": [
    {
     "name": "stdout",
     "output_type": "stream",
     "text": [
      "Para base b=2 mod(b^75577392, n) = 50057215\n",
      "Para base b=3 mod(b^75577392, n) = 64972403\n",
      "Para base b=5 mod(b^75577392, n) = 58601398\n",
      "Para base b=7 mod(b^75577392, n) = 22113448\n",
      "Para base b=11 mod(b^75577392, n) = 21343212\n",
      "p=2 jacobi 1\n",
      "p=2 jacobi -1\n",
      "p=2 jacobi 1\n",
      "p=2 jacobi -1\n",
      "p=2 jacobi 1\n"
     ]
    }
   ],
   "source": [
    "# Código auxiliar  de prácticas anteriores \n",
    "# Exponencial rápida \n",
    "def LeftToRightFastExponential(base:Integer, exp:Integer, p:Integer):\n",
    "    b = exp.binary()\n",
    "    a = base\n",
    "    c = 0\n",
    "    acc = 1\n",
    "    n = p\n",
    "    for i in b:\n",
    "        c = 2*c\n",
    "        acc = mod(acc ^2, n)\n",
    "        if i == '1':\n",
    "            c += 1\n",
    "            acc = mod(acc*a, n )   \n",
    "    return acc\n",
    "\n",
    "# Test  \n",
    "n = 75577393\n",
    "primos = [2,3,5,7,11]\n",
    "for b in primos:\n",
    "    r2 = LeftToRightFastExponential(b, n-1, n)\n",
    "    print(f\"Para base b={b} mod(b^{n-1}, n) = {r2}\")\n",
    "\n",
    "primos = [2,3,5,7,11]\n",
    "def Jacobi(a :Integer,n :Integer):\n",
    "    a %= n\n",
    "    result = 1\n",
    "    while a != 0:\n",
    "        while is_even(a):\n",
    "            a /=2\n",
    "            if(n % 8 in [3, 5]):\n",
    "                result *= -1\n",
    "        a, n = n,a\n",
    "        if (a % 4 == n % 4 == 3):\n",
    "            result *= -1\n",
    "        a %=n\n",
    "    \n",
    "\n",
    "    return (0,result)[n == 1] \n",
    "# Test     \n",
    "n = 75577399\n",
    "for p in primos:\n",
    "    print(f\"p={2} jacobi {Jacobi(p,n)}\")\n",
    "\n"
   ]
  },
  {
   "cell_type": "markdown",
   "id": "13bd9c8b",
   "metadata": {},
   "source": [
    "Dado el número: "
   ]
  },
  {
   "cell_type": "code",
   "execution_count": 93,
   "id": "b7402d92",
   "metadata": {},
   "outputs": [],
   "source": [
    "m = 32626283485046465973090501329113"
   ]
  },
  {
   "cell_type": "markdown",
   "id": "903b9535",
   "metadata": {},
   "source": [
    "### Apartado i\n",
    "Calcula $a^{m-1} \\mod m,$ para los 5 primeros primos. "
   ]
  },
  {
   "cell_type": "markdown",
   "id": "512b7d9b",
   "metadata": {},
   "source": []
  },
  {
   "cell_type": "code",
   "execution_count": 94,
   "id": "6853ab9a",
   "metadata": {},
   "outputs": [
    {
     "name": "stdout",
     "output_type": "stream",
     "text": [
      "Para base a=2 mod(a^(m-1), m) = 1\n",
      "Para base a=3 mod(a^(m-1), m) = 1\n",
      "Para base a=5 mod(a^(m-1), m) = 1\n",
      "Para base a=7 mod(a^(m-1), m) = 1\n",
      "Para base a=11 mod(a^(m-1), m) = 1\n"
     ]
    }
   ],
   "source": [
    "primos = [2,3,5,7,11]\n",
    "for b in primos:\n",
    "    r2 = LeftToRightFastExponential(b, m-1, m)\n",
    "    print(f\"Para base a={b} mod(a^(m-1), m) = {r2}\")"
   ]
  },
  {
   "cell_type": "markdown",
   "id": "97b0ec83",
   "metadata": {},
   "source": [
    "### Apartado ii\n",
    "Calcula el test de Solovay-Strassen para los 5 primeros primos "
   ]
  },
  {
   "cell_type": "code",
   "execution_count": 95,
   "id": "0aab8d8f",
   "metadata": {},
   "outputs": [
    {
     "name": "stdout",
     "output_type": "stream",
     "text": [
      "\n",
      "Test Solovay Strassen Base 2 n =32626283485046465973090501329113\n",
      "Por el algoritmo Jacobi (b/n) = 1\n",
      "b^((n-1))/2 modulo n es  1\n",
      "32626283485046465973090501329113 es un posible primo Euler en base 2\n",
      "\n",
      "Test Solovay Strassen Base 3 n =32626283485046465973090501329113\n",
      "Por el algoritmo Jacobi (b/n) = 1\n",
      "b^((n-1))/2 modulo n es  1\n",
      "32626283485046465973090501329113 es un posible primo Euler en base 3\n",
      "\n",
      "Test Solovay Strassen Base 5 n =32626283485046465973090501329113\n",
      "Por el algoritmo Jacobi (b/n) = -1\n",
      "b^((n-1))/2 modulo n es  32626283485046465973090501329112\n",
      "32626283485046465973090501329113 es un posible primo Euler en base 5\n",
      "\n",
      "Test Solovay Strassen Base 7 n =32626283485046465973090501329113\n",
      "Por el algoritmo Jacobi (b/n) = 1\n",
      "b^((n-1))/2 modulo n es  1\n",
      "32626283485046465973090501329113 es un posible primo Euler en base 7\n",
      "\n",
      "Test Solovay Strassen Base 11 n =32626283485046465973090501329113\n",
      "Por el algoritmo Jacobi (b/n) = -1\n",
      "b^((n-1))/2 modulo n es  32626283485046465973090501329112\n",
      "32626283485046465973090501329113 es un posible primo Euler en base 11\n"
     ]
    }
   ],
   "source": [
    "def VerboseTest_Solovay_Strassen(b:Integer,n:Integer):\n",
    "    congruente = LeftToRightFastExponential(b, (n-1)//2, n)\n",
    "    jacobi = Jacobi(b,n)\n",
    "    print(f\"\\nTest Solovay Strassen Base {b} n ={n}\")\n",
    "    print(f\"Por el algoritmo Jacobi (b/n) = {jacobi}\")\n",
    "    print(f\"b^((n-1))/2 modulo n es  {congruente}\")\n",
    "    posible_primo = False\n",
    "    if (congruente == jacobi or (congruente-n) == jacobi): \n",
    "        print(f\"{n} es un posible primo Euler en base {b}\")\n",
    "        posible_primo = True\n",
    "    else:  \n",
    "        print(f\"{n} NO es primo gracias al criterio de Euler en base {b}\")\n",
    "        posible_primo = False\n",
    "    return posible_primo\n",
    "    \n",
    "for b in primos:\n",
    "    VerboseTest_Solovay_Strassen(b,m)"
   ]
  },
  {
   "cell_type": "markdown",
   "id": "c2dd3f60",
   "metadata": {},
   "source": [
    "### Apartado iii\n",
    "\n",
    "Calcula el test de Miller-Rabin para esas 5 bases"
   ]
  },
  {
   "cell_type": "code",
   "execution_count": 96,
   "id": "3846a94f",
   "metadata": {},
   "outputs": [
    {
     "name": "stdout",
     "output_type": "stream",
     "text": [
      "\n",
      " ============================================================\n",
      "Test Miller Rabin base a = 2, n = 32626283485046465973090501329113 \n",
      " m=4078285435630808246636312666139, n = m * 2^3\n",
      "============================================================\n",
      " Para r=0 el término sucesión mod(a^(m 2^r), n) es: -1\n",
      " Para r=1 el término sucesión mod(a^(m 2^r), n) es: 1\n",
      " Para r=2 el término sucesión mod(a^(m 2^r), n) es: 1\n",
      " Para r=3 el término sucesión mod(a^(m 2^r), n) es: 1\n",
      "32626283485046465973090501329113 es un posible primo de Miller-Rabin para la base 2 \n",
      "\n",
      "\n",
      " ============================================================\n",
      "Test Miller Rabin base a = 3, n = 32626283485046465973090501329113 \n",
      " m=4078285435630808246636312666139, n = m * 2^3\n",
      "============================================================\n",
      " Para r=0 el término sucesión mod(a^(m 2^r), n) es: 4803683511556350419495601881218\n",
      " Para r=1 el término sucesión mod(a^(m 2^r), n) es: -1\n",
      " Para r=2 el término sucesión mod(a^(m 2^r), n) es: 1\n",
      " Para r=3 el término sucesión mod(a^(m 2^r), n) es: 1\n",
      "32626283485046465973090501329113 es un posible primo de Miller-Rabin para la base 3 \n",
      "\n",
      "\n",
      " ============================================================\n",
      "Test Miller Rabin base a = 5, n = 32626283485046465973090501329113 \n",
      " m=4078285435630808246636312666139, n = m * 2^3\n",
      "============================================================\n",
      " Para r=0 el término sucesión mod(a^(m 2^r), n) es: 4213834354828386761764425924603\n",
      " Para r=1 el término sucesión mod(a^(m 2^r), n) es: -4803683511556350419495601881218\n",
      " Para r=2 el término sucesión mod(a^(m 2^r), n) es: -1\n",
      " Para r=3 el término sucesión mod(a^(m 2^r), n) es: 1\n",
      "32626283485046465973090501329113 es un posible primo de Miller-Rabin para la base 5 \n",
      "\n",
      "\n",
      " ============================================================\n",
      "Test Miller Rabin base a = 7, n = 32626283485046465973090501329113 \n",
      " m=4078285435630808246636312666139, n = m * 2^3\n",
      "============================================================\n",
      " Para r=0 el término sucesión mod(a^(m 2^r), n) es: -4803683511556350419495601881218\n",
      " Para r=1 el término sucesión mod(a^(m 2^r), n) es: -1\n",
      " Para r=2 el término sucesión mod(a^(m 2^r), n) es: 1\n",
      " Para r=3 el término sucesión mod(a^(m 2^r), n) es: 1\n",
      "32626283485046465973090501329113 es un posible primo de Miller-Rabin para la base 7 \n",
      "\n",
      "\n",
      " ============================================================\n",
      "Test Miller Rabin base a = 11, n = 32626283485046465973090501329113 \n",
      " m=4078285435630808246636312666139, n = m * 2^3\n",
      "============================================================\n",
      " Para r=0 el término sucesión mod(a^(m 2^r), n) es: -4213834354828386761764425924603\n",
      " Para r=1 el término sucesión mod(a^(m 2^r), n) es: -4803683511556350419495601881218\n",
      " Para r=2 el término sucesión mod(a^(m 2^r), n) es: -1\n",
      " Para r=3 el término sucesión mod(a^(m 2^r), n) es: 1\n",
      "32626283485046465973090501329113 es un posible primo de Miller-Rabin para la base 11 \n",
      "\n"
     ]
    }
   ],
   "source": [
    "ModuloBonito = lambda x,n : (x-n, x)[x< (n//2)]\n",
    "\n",
    "def Test_Miller_Rabin(a: Integer, n:Integer)-> bool:\n",
    "    compuesto  = False\n",
    "    # Calculamos sucesión impar \n",
    "    m = (n-1)\n",
    "    r = 0\n",
    "    while is_even(m):\n",
    "        m //= 2\n",
    "        r += 1\n",
    "    print('\\n','='*60)\n",
    "    print(f\"Test Miller Rabin base a = {a}, n = {n} \\n m={m}, n = m * 2^{r}\")\n",
    "    print('='*60)\n",
    "    anterior = 1\n",
    "    # Cálculo de la a-sucesión \n",
    "    for i in range(r+1):\n",
    "        congruente = pow(a, m * pow(2, i), n)\n",
    "        congruente_bonito = ModuloBonito(int(congruente), int(n))\n",
    "        print(f\" Para r={i} el término sucesión mod(a^(m 2^r), n) es: {congruente_bonito}\")\n",
    "        if( congruente_bonito == 1 and  abs(anterior) != 1):\n",
    "           compuesto = True\n",
    "        anterior = congruente_bonito\n",
    "    if anterior != 1:\n",
    "        compuesto = True\n",
    "    salida = (\n",
    "        f\"{n} es un posible primo de Miller-Rabin para la base {a}\",\n",
    "        f\"{n} es compuesto\"\n",
    "        )[compuesto]\n",
    "    print(salida, '\\n')\n",
    "    return compuesto \n",
    "\n",
    "for p in primos:\n",
    "    Test_Miller_Rabin(p,m)"
   ]
  }
 ],
 "metadata": {
  "kernelspec": {
   "display_name": "SageMath 9.5",
   "language": "sage",
   "name": "SageMath-9.5"
  },
  "language_info": {
   "codemirror_mode": {
    "name": "ipython",
    "version": 3
   },
   "file_extension": ".py",
   "mimetype": "text/x-python",
   "name": "python",
   "nbconvert_exporter": "python",
   "pygments_lexer": "ipython3",
   "version": "3.9.9"
  }
 },
 "nbformat": 4,
 "nbformat_minor": 5
}
